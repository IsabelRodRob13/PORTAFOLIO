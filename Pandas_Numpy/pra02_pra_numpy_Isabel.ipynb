{
  "nbformat": 4,
  "nbformat_minor": 0,
  "metadata": {
    "kernelspec": {
      "display_name": "Python 3",
      "language": "python",
      "name": "python3"
    },
    "language_info": {
      "codemirror_mode": {
        "name": "ipython",
        "version": 3
      },
      "file_extension": ".py",
      "mimetype": "text/x-python",
      "name": "python",
      "nbconvert_exporter": "python",
      "pygments_lexer": "ipython3",
      "version": "3.8.6"
    },
    "colab": {
      "name": "pra02_pra_numpy. Isabel.ipynb",
      "provenance": [],
      "collapsed_sections": []
    }
  },
  "cells": [
    {
      "cell_type": "markdown",
      "metadata": {
        "id": "HniL4ADtgBeu"
      },
      "source": [
        "# Programación 201"
      ]
    },
    {
      "cell_type": "markdown",
      "metadata": {
        "id": "QL6Q_e9AgBew"
      },
      "source": [
        "Librerías científicas en Python: `NumPy`\n",
        "------------------------------------------------------"
      ]
    },
    {
      "cell_type": "markdown",
      "metadata": {
        "id": "lIsks5zXgBex"
      },
      "source": [
        "### Ejercicio 1\n",
        "Calculad la norma y el determinante de la siguiente matriz: ```[[1, 0], [2, -1]]```."
      ]
    },
    {
      "cell_type": "code",
      "metadata": {
        "id": "hbsvQpj5oEgV"
      },
      "source": [
        "import numpy as np"
      ],
      "execution_count": null,
      "outputs": []
    },
    {
      "cell_type": "code",
      "metadata": {
        "id": "BoO0RKS2gBey",
        "colab": {
          "base_uri": "https://localhost:8080/"
        },
        "outputId": "5ffdc8d8-f3b1-418c-a377-8b0246314f08"
      },
      "source": [
        "matriz =np.array([[1, 0],[2, -1]])\n",
        "matriz\n"
      ],
      "execution_count": null,
      "outputs": [
        {
          "output_type": "execute_result",
          "data": {
            "text/plain": [
              "array([[ 1,  0],\n",
              "       [ 2, -1]])"
            ]
          },
          "metadata": {
            "tags": []
          },
          "execution_count": 6
        }
      ]
    },
    {
      "cell_type": "code",
      "metadata": {
        "colab": {
          "base_uri": "https://localhost:8080/"
        },
        "id": "pQVLMuu6tFas",
        "outputId": "5c2834a1-a0ef-4e1a-d5c6-4e3a24c809e2"
      },
      "source": [
        "#Norma. https://numpy.org/doc/stable/reference/random/generated/numpy.random.normal.html\n",
        "norma=np.linalg.norm(matriz)\n",
        "norma\n"
      ],
      "execution_count": null,
      "outputs": [
        {
          "output_type": "execute_result",
          "data": {
            "text/plain": [
              "2.449489742783178"
            ]
          },
          "metadata": {
            "tags": []
          },
          "execution_count": 7
        }
      ]
    },
    {
      "cell_type": "code",
      "metadata": {
        "colab": {
          "base_uri": "https://localhost:8080/"
        },
        "id": "jU9NDHi6xCWT",
        "outputId": "1cb3e25f-6e1f-4144-805a-ae18c97c789f"
      },
      "source": [
        "# DETERMINANTE:\n",
        "#https://www.geeksforgeeks.org/how-to-calculate-the-determinant-of-a-matrix-using-numpy/\n",
        "det= np.linalg.det(matriz)\n",
        "det"
      ],
      "execution_count": null,
      "outputs": [
        {
          "output_type": "execute_result",
          "data": {
            "text/plain": [
              "-1.0"
            ]
          },
          "metadata": {
            "tags": []
          },
          "execution_count": 8
        }
      ]
    },
    {
      "cell_type": "markdown",
      "metadata": {
        "id": "WbvgxgkvgBe0"
      },
      "source": [
        "### Ejercicio 2 \n",
        "Evaluad las funciones arcoseno y arcocoseno en el intervalo [0,1] y con paso (resolución) de 0.1 y guardadlas en dos _arrays_."
      ]
    },
    {
      "cell_type": "code",
      "metadata": {
        "id": "rfl1ITCEgBe0",
        "colab": {
          "base_uri": "https://localhost:8080/"
        },
        "outputId": "8d1578e1-7ec8-479c-f9d5-1506cb6bd086"
      },
      "source": [
        "# ARCOSENO\n",
        "# https://numpy.org/doc/stable/reference/generated/numpy.arccos.html\n",
        "arcoseno= np.arccos([0,1])\n",
        "arcoseno\n"
      ],
      "execution_count": null,
      "outputs": [
        {
          "output_type": "execute_result",
          "data": {
            "text/plain": [
              "array([1.57079633, 0.        ])"
            ]
          },
          "metadata": {
            "tags": []
          },
          "execution_count": 19
        }
      ]
    },
    {
      "cell_type": "code",
      "metadata": {
        "id": "22oFbTRhz9MW"
      },
      "source": [
        "# ARCOCOSENO.\n",
        "# "
      ],
      "execution_count": null,
      "outputs": []
    },
    {
      "cell_type": "markdown",
      "metadata": {
        "id": "okEECviCgBe1"
      },
      "source": [
        "### Ejercicio 3\n",
        "Generad una lista de 100 valores enteros aleatorios de 0-9. Realizad los siguientes cálculos utilizando métodos de _numpy_:\n",
        "- Media y desviación estándar de los valores de la lista\n",
        "- Valor máximo y mínimo\n",
        "- Sumad todos los valores de la lista\n",
        "- Conseguid una lista de valores únicos"
      ]
    },
    {
      "cell_type": "code",
      "metadata": {
        "id": "A4TytyYpgBe3",
        "colab": {
          "base_uri": "https://localhost:8080/"
        },
        "outputId": "58d94552-1b85-45be-acb3-ba4e858de7ee"
      },
      "source": [
        "# Generamos la lista\n",
        "import random\n",
        "n=100\n",
        "Lista = [random.randint(0,9) for _ in range(n)]\n",
        "print(Lista)"
      ],
      "execution_count": null,
      "outputs": [
        {
          "output_type": "stream",
          "text": [
            "[9, 6, 1, 6, 3, 8, 1, 1, 3, 8, 7, 9, 9, 0, 4, 5, 0, 0, 2, 6, 9, 0, 3, 7, 9, 1, 7, 7, 1, 0, 0, 8, 7, 0, 8, 9, 8, 8, 7, 4, 8, 7, 0, 6, 6, 5, 1, 8, 5, 3, 5, 2, 7, 8, 3, 4, 5, 7, 8, 0, 1, 4, 5, 5, 5, 1, 2, 9, 3, 3, 4, 8, 0, 9, 3, 0, 0, 9, 8, 5, 6, 1, 1, 2, 1, 8, 1, 6, 6, 3, 9, 3, 5, 6, 7, 6, 4, 7, 4, 4]\n"
          ],
          "name": "stdout"
        }
      ]
    },
    {
      "cell_type": "code",
      "metadata": {
        "colab": {
          "base_uri": "https://localhost:8080/"
        },
        "id": "2B29Ujcx4Awh",
        "outputId": "298a78b2-6dc8-46b8-c9af-94bdae058a7d"
      },
      "source": [
        "# Media\n",
        "#https://www.delftstack.com/es/api/numpy/python-numpy-mean/\n",
        "media=np.mean(Lista)\n",
        "media"
      ],
      "execution_count": null,
      "outputs": [
        {
          "output_type": "execute_result",
          "data": {
            "text/plain": [
              "4.63"
            ]
          },
          "metadata": {
            "tags": []
          },
          "execution_count": 23
        }
      ]
    },
    {
      "cell_type": "code",
      "metadata": {
        "colab": {
          "base_uri": "https://localhost:8080/"
        },
        "id": "otKF1wVO4qQK",
        "outputId": "76e0eeaf-1dee-4c45-d734-bd98c6c5af88"
      },
      "source": [
        "# desviacion estándar.\n",
        "# https://www.delftstack.com/es/api/numpy/python-numpy-std/\n",
        "desv= np.std(Lista)\n",
        "desv\n"
      ],
      "execution_count": null,
      "outputs": [
        {
          "output_type": "execute_result",
          "data": {
            "text/plain": [
              "2.9888292022127994"
            ]
          },
          "metadata": {
            "tags": []
          },
          "execution_count": 24
        }
      ]
    },
    {
      "cell_type": "code",
      "metadata": {
        "colab": {
          "base_uri": "https://localhost:8080/"
        },
        "id": "BiODrKLw5A89",
        "outputId": "c98cd37c-a365-42e0-ce41-651d6b0d8058"
      },
      "source": [
        "# valor máximo:\n",
        "maximo=np.amax(Lista)\n",
        "maximo\n"
      ],
      "execution_count": null,
      "outputs": [
        {
          "output_type": "execute_result",
          "data": {
            "text/plain": [
              "9"
            ]
          },
          "metadata": {
            "tags": []
          },
          "execution_count": 25
        }
      ]
    },
    {
      "cell_type": "code",
      "metadata": {
        "colab": {
          "base_uri": "https://localhost:8080/"
        },
        "id": "aD2CRBkM5QAa",
        "outputId": "4e6e7ab9-8259-4083-83c9-b24098433031"
      },
      "source": [
        "#Valor mínimo:\n",
        "minimo=np.amin(Lista)\n",
        "minimo\n"
      ],
      "execution_count": null,
      "outputs": [
        {
          "output_type": "execute_result",
          "data": {
            "text/plain": [
              "0"
            ]
          },
          "metadata": {
            "tags": []
          },
          "execution_count": 26
        }
      ]
    },
    {
      "cell_type": "code",
      "metadata": {
        "colab": {
          "base_uri": "https://localhost:8080/"
        },
        "id": "L0NKgYP55_4d",
        "outputId": "51d2029b-8583-495d-baf8-62c1e02ce3b5"
      },
      "source": [
        "# sumas todos los elementos de una lista:\n",
        "suma=np.sum(Lista)\n",
        "suma"
      ],
      "execution_count": null,
      "outputs": [
        {
          "output_type": "execute_result",
          "data": {
            "text/plain": [
              "463"
            ]
          },
          "metadata": {
            "tags": []
          },
          "execution_count": 27
        }
      ]
    },
    {
      "cell_type": "code",
      "metadata": {
        "colab": {
          "base_uri": "https://localhost:8080/"
        },
        "id": "m082SqIp6Jxk",
        "outputId": "e3fcc3ba-2ebd-49b8-edf0-20c62880d56a"
      },
      "source": [
        "# Conseguid una lista de valores únicos:\n",
        "# https://www.analyticslane.com/2019/10/16/numpy-basico-localizar-valores-unicos-en-arrays-numpy/\n",
        "\n",
        "unicos=np.unique(Lista)\n",
        "unicos\n"
      ],
      "execution_count": null,
      "outputs": [
        {
          "output_type": "execute_result",
          "data": {
            "text/plain": [
              "array([0, 1, 2, 3, 4, 5, 6, 7, 8, 9])"
            ]
          },
          "metadata": {
            "tags": []
          },
          "execution_count": 28
        }
      ]
    },
    {
      "cell_type": "markdown",
      "metadata": {
        "id": "jGtVmuilgBe4"
      },
      "source": [
        "### Ejercicio 4\n",
        "Ordenad la matriz bidimensional ```[[5,1,7], [0,7,4], [7,23,1]]``` por filas utilizando como algoritmo de ordenación el [Merge sort](https://en.wikipedia.org/wiki/Merge_sort).\n",
        "\n",
        "**Hint:** No es necesario que implementéis el algoritmo de ordenación a mano, NumPy contiene métodos para realizar diferentes tipos de ordenación sobre diferentes estructuras de datos."
      ]
    },
    {
      "cell_type": "code",
      "metadata": {
        "id": "m9fhDyVzgBe6",
        "colab": {
          "base_uri": "https://localhost:8080/"
        },
        "outputId": "f715cbaa-3929-4a4f-bc20-4dcd489f16c6"
      },
      "source": [
        "# https://runestone.academy/runestone/books/published/pythonds/SortSearch/TheMergeSort.html\n",
        "matriz=np.array([[5,1,7], [0,7,4], [7,23,1]])\n",
        "matriz\n"
      ],
      "execution_count": null,
      "outputs": [
        {
          "output_type": "execute_result",
          "data": {
            "text/plain": [
              "array([[ 5,  1,  7],\n",
              "       [ 0,  7,  4],\n",
              "       [ 7, 23,  1]])"
            ]
          },
          "metadata": {
            "tags": []
          },
          "execution_count": 83
        }
      ]
    },
    {
      "cell_type": "code",
      "metadata": {
        "colab": {
          "base_uri": "https://localhost:8080/"
        },
        "id": "KZlfhLW_QVHN",
        "outputId": "0436f52f-eb06-465c-ba12-c3386236f676"
      },
      "source": [
        "# Ordenamos los elementos de la matriz:\n",
        "np.sort(matriz)"
      ],
      "execution_count": null,
      "outputs": [
        {
          "output_type": "execute_result",
          "data": {
            "text/plain": [
              "array([[ 1,  5,  7],\n",
              "       [ 0,  4,  7],\n",
              "       [ 1,  7, 23]])"
            ]
          },
          "metadata": {
            "tags": []
          },
          "execution_count": 72
        }
      ]
    },
    {
      "cell_type": "markdown",
      "metadata": {
        "id": "frFOT-xSRlIj"
      },
      "source": [
        "### Formas de ordenar datos en Numpy:\n",
        "  numpy.sort\n",
        "Return a sorted copy of an array.\n",
        "\n",
        "numpy.argsort\n",
        "Indirect sort.\n",
        "\n",
        "numpy.lexsort\n",
        "Indirect stable sort on multiple keys.\n",
        "\n",
        "numpy.searchsorted\n",
        "Find elements in sorted array.\n",
        "\n",
        "numpy.partition\n",
        "Partial sort"
      ]
    },
    {
      "cell_type": "code",
      "metadata": {
        "id": "qfdtO6RIRs_M"
      },
      "source": [
        "# dividimos la matriz en dos con el método spilt:\n",
        "np.array_spilt(matriz,2)"
      ],
      "execution_count": null,
      "outputs": []
    },
    {
      "cell_type": "code",
      "metadata": {
        "id": "H-SNEWC9RVC0"
      },
      "source": [
        ""
      ],
      "execution_count": null,
      "outputs": []
    },
    {
      "cell_type": "markdown",
      "metadata": {
        "id": "Yr3yOe31gBe8"
      },
      "source": [
        "### Ejercicio 5\n",
        "Definid una función que dadas dos matrices, devuelva el valor absoluto de la multiplicación de los determinantes ambas, es decir, dadas A y B, nuestra función devolverá `|det(A) * det(B)|`."
      ]
    },
    {
      "cell_type": "code",
      "metadata": {
        "id": "nk8sluYfgBe9",
        "colab": {
          "base_uri": "https://localhost:8080/"
        },
        "outputId": "4bf00d67-7482-4783-8811-2d42e966b45f"
      },
      "source": [
        "a=np.random.rand(2,2)\n",
        "b=np.random.rand(4,4)\n",
        "\n",
        "def Multiplicacion_determinantes():\n",
        "  a=np.random.rand(2,2)\n",
        "  b=np.random.rand(4,4)\n",
        "\n",
        "  det_a=np.linalg.det(a)\n",
        "  det_b=np.linalg.det(b)\n",
        "  return (det_a) * (det_b)\n",
        "Multiplicacion_determinantes "
      ],
      "execution_count": null,
      "outputs": [
        {
          "output_type": "execute_result",
          "data": {
            "text/plain": [
              "<function __main__.Multiplicacion_determinantes>"
            ]
          },
          "metadata": {
            "tags": []
          },
          "execution_count": 10
        }
      ]
    },
    {
      "cell_type": "code",
      "metadata": {
        "colab": {
          "base_uri": "https://localhost:8080/"
        },
        "id": "ji4XXYwPCvl5",
        "outputId": "f59cf494-3e69-4aa4-bf03-7d01f197c18d"
      },
      "source": [
        "a=np.random.rand(2,2)\n",
        "b=np.random.rand(4,4)\n",
        "\n",
        "det_a=np.linalg.det(a)\n",
        "det_b=np.linalg.det(b)\n",
        "mult= (det_a) * (det_b)\n",
        "mult"
      ],
      "execution_count": null,
      "outputs": [
        {
          "output_type": "execute_result",
          "data": {
            "text/plain": [
              "0.03158809161014985"
            ]
          },
          "metadata": {
            "tags": []
          },
          "execution_count": 17
        }
      ]
    },
    {
      "cell_type": "code",
      "metadata": {
        "id": "Dl4l7HgKLUcL"
      },
      "source": [
        "#El valor absoluto (o módulo de un número real cualquiera) es el mismo número pero con signo positivo. \n"
      ],
      "execution_count": null,
      "outputs": []
    },
    {
      "cell_type": "markdown",
      "metadata": {
        "id": "kQHgY4iLgBe9"
      },
      "source": [
        "### Ejercicio 6\n",
        "Cread una matriz 10x10 que corresponda con la [matriz identidad](https://es.wikipedia.org/wiki/Matriz_identidad) usando generadores básicos de arrays. Cread una matriz identidad 10x10 (esta vez usando generadores especificos de matrices identidad) y comprobad que ambas matrices son iguales\n",
        "\n",
        "**Consideraciones**:\n",
        "- La primera matriz debe crearse usando constructores básicos de arrays, como los presentados en los Notebooks de teoría.\n",
        "* La segunda matriz debe generarse utilizando el generador de matrices identidad de numpy.\n",
        "* La comparación debe devolver True si las matrices son iguales (un único True), False de no ser así."
      ]
    },
    {
      "cell_type": "code",
      "metadata": {
        "colab": {
          "base_uri": "https://localhost:8080/"
        },
        "id": "WzOl_ddzR0BS",
        "outputId": "31c1de9f-af95-41bd-a36b-f539b786efe9"
      },
      "source": [
        "Matriz=np.zeros((10,10))\n",
        "Matriz"
      ],
      "execution_count": null,
      "outputs": [
        {
          "output_type": "execute_result",
          "data": {
            "text/plain": [
              "array([[0., 0., 0., 0., 0., 0., 0., 0., 0., 0.],\n",
              "       [0., 0., 0., 0., 0., 0., 0., 0., 0., 0.],\n",
              "       [0., 0., 0., 0., 0., 0., 0., 0., 0., 0.],\n",
              "       [0., 0., 0., 0., 0., 0., 0., 0., 0., 0.],\n",
              "       [0., 0., 0., 0., 0., 0., 0., 0., 0., 0.],\n",
              "       [0., 0., 0., 0., 0., 0., 0., 0., 0., 0.],\n",
              "       [0., 0., 0., 0., 0., 0., 0., 0., 0., 0.],\n",
              "       [0., 0., 0., 0., 0., 0., 0., 0., 0., 0.],\n",
              "       [0., 0., 0., 0., 0., 0., 0., 0., 0., 0.],\n",
              "       [0., 0., 0., 0., 0., 0., 0., 0., 0., 0.]])"
            ]
          },
          "metadata": {
            "tags": []
          },
          "execution_count": 87
        }
      ]
    },
    {
      "cell_type": "code",
      "metadata": {
        "colab": {
          "base_uri": "https://localhost:8080/"
        },
        "id": "wQJViq0vJ8rU",
        "outputId": "636ebf53-5342-4947-ace4-af7ea32d27a9"
      },
      "source": [
        "Matriz_identidad=np.identity(10)\n",
        "Matriz_identidad"
      ],
      "execution_count": null,
      "outputs": [
        {
          "output_type": "execute_result",
          "data": {
            "text/plain": [
              "array([[1., 0., 0., 0., 0., 0., 0., 0., 0., 0.],\n",
              "       [0., 1., 0., 0., 0., 0., 0., 0., 0., 0.],\n",
              "       [0., 0., 1., 0., 0., 0., 0., 0., 0., 0.],\n",
              "       [0., 0., 0., 1., 0., 0., 0., 0., 0., 0.],\n",
              "       [0., 0., 0., 0., 1., 0., 0., 0., 0., 0.],\n",
              "       [0., 0., 0., 0., 0., 1., 0., 0., 0., 0.],\n",
              "       [0., 0., 0., 0., 0., 0., 1., 0., 0., 0.],\n",
              "       [0., 0., 0., 0., 0., 0., 0., 1., 0., 0.],\n",
              "       [0., 0., 0., 0., 0., 0., 0., 0., 1., 0.],\n",
              "       [0., 0., 0., 0., 0., 0., 0., 0., 0., 1.]])"
            ]
          },
          "metadata": {
            "tags": []
          },
          "execution_count": 52
        }
      ]
    },
    {
      "cell_type": "code",
      "metadata": {
        "colab": {
          "base_uri": "https://localhost:8080/"
        },
        "id": "Bhblth8gSNhj",
        "outputId": "5cbec4e0-d9ea-4122-f1e4-75402c2a82be"
      },
      "source": [
        "def Comparar_Matrices():\n",
        "  Matriz=np.zeros((10,10))\n",
        "  Matriz_identidad=np.identity(10)\n",
        "  if Matriz == Matriz_identidad:\n",
        "   return True\n",
        "  else:\n",
        "    return False\n",
        "Comparar_Matrices"
      ],
      "execution_count": null,
      "outputs": [
        {
          "output_type": "execute_result",
          "data": {
            "text/plain": [
              "<function __main__.Comparar_Matrices>"
            ]
          },
          "metadata": {
            "tags": []
          },
          "execution_count": 99
        }
      ]
    },
    {
      "cell_type": "markdown",
      "metadata": {
        "id": "Sd-SgmTHgBfA"
      },
      "source": [
        "### Ejercicio 7\n",
        "Cread una matriz de 2x6 donde los valores de cada posición `(i, j)` correspondan a `i^2+j` para todo `i` par, `i/j^2` para todo `i` impar."
      ]
    },
    {
      "cell_type": "code",
      "metadata": {
        "id": "sbnpgMqfgBfA",
        "colab": {
          "base_uri": "https://localhost:8080/"
        },
        "outputId": "67c6a524-537b-4733-9e2f-1db668a6104f"
      },
      "source": [
        "# 2*6 ... 2 filas, 6 columnas\n",
        "matrix=[]\n",
        "\n",
        "for i in range(2):\n",
        "      matrix.append([i]*6)\n",
        "matrix    "
      ],
      "execution_count": null,
      "outputs": [
        {
          "output_type": "execute_result",
          "data": {
            "text/plain": [
              "[[0, 0, 0, 0, 0, 0], [1, 1, 1, 1, 1, 1]]"
            ]
          },
          "metadata": {
            "tags": []
          },
          "execution_count": 29
        }
      ]
    },
    {
      "cell_type": "code",
      "metadata": {
        "colab": {
          "base_uri": "https://localhost:8080/"
        },
        "id": "iv4drR27xOuu",
        "outputId": "60fdcc62-a07b-4cc4-8422-3703a271d47b"
      },
      "source": [
        "matrix=[]\n",
        "for i in range(2):\n",
        "  matrix.append([i]*6)\n",
        "  for j in range(6):\n",
        "    matrix[i][j]\n",
        "matrix"
      ],
      "execution_count": null,
      "outputs": [
        {
          "output_type": "execute_result",
          "data": {
            "text/plain": [
              "[[0, 0, 0, 0, 0, 0], [1, 1, 1, 1, 1, 1]]"
            ]
          },
          "metadata": {
            "tags": []
          },
          "execution_count": 52
        }
      ]
    },
    {
      "cell_type": "code",
      "metadata": {
        "id": "0nUpXFykCMZS"
      },
      "source": [
        ""
      ],
      "execution_count": null,
      "outputs": []
    },
    {
      "cell_type": "code",
      "metadata": {
        "id": "pMcBqAtUz-RU"
      },
      "source": [
        "# i numero par o impar\n",
        "  if i%2 ==0:\n",
        "    return i^2+j\n",
        "    else :\n",
        "    return i/j^2\n"
      ],
      "execution_count": null,
      "outputs": []
    },
    {
      "cell_type": "markdown",
      "metadata": {
        "id": "LBTmgNzogBfB"
      },
      "source": [
        "### Ejercicio 8\n",
        "Cread dos matrices de tamaño 5x5 con números reales aleatorios. Obtened el resultado de multiplicar ambas matrices usando los dos métodos de multiplicación de matrices vistos en el Notebook de teoría. ¿Cuál es la diferencia entre ambos resultados? Cread ahora dos matrices de tamaño 4x5 y 5x5 respectivamente, repetid la operación. Describid cuál de los métodos de multiplicación podéis aplicar y porqué"
      ]
    },
    {
      "cell_type": "code",
      "metadata": {
        "id": "6WsZ2pxZgBfC",
        "colab": {
          "base_uri": "https://localhost:8080/"
        },
        "outputId": "c1ef93eb-f482-4be3-a3de-47b7e76949c1"
      },
      "source": [
        "A=np.random.random((5,5))\n",
        "A"
      ],
      "execution_count": null,
      "outputs": [
        {
          "output_type": "execute_result",
          "data": {
            "text/plain": [
              "array([[0.28500825, 0.82698184, 0.28723625, 0.11243862, 0.35208869],\n",
              "       [0.36132508, 0.09781877, 0.49349625, 0.01167839, 0.62267925],\n",
              "       [0.0837105 , 0.990163  , 0.45230175, 0.47106491, 0.94364088],\n",
              "       [0.93975506, 0.17495478, 0.50158379, 0.685713  , 0.44467561],\n",
              "       [0.59986375, 0.02189337, 0.30527836, 0.92440769, 0.48555822]])"
            ]
          },
          "metadata": {
            "tags": []
          },
          "execution_count": 53
        }
      ]
    },
    {
      "cell_type": "code",
      "metadata": {
        "colab": {
          "base_uri": "https://localhost:8080/"
        },
        "id": "LsB3BfdHFRkv",
        "outputId": "267a90c0-86aa-44e9-fd68-0fb4e407a38f"
      },
      "source": [
        "B=np.random.random((5,5))\n",
        "B"
      ],
      "execution_count": null,
      "outputs": [
        {
          "output_type": "execute_result",
          "data": {
            "text/plain": [
              "array([[0.22452851, 0.27329144, 0.70776683, 0.60081353, 0.34061005],\n",
              "       [0.58451159, 0.2411221 , 0.64955424, 0.40445974, 0.39282103],\n",
              "       [0.21504069, 0.91406049, 0.24371993, 0.21182761, 0.49031887],\n",
              "       [0.7950901 , 0.81406791, 0.70166247, 0.65314998, 0.47311753],\n",
              "       [0.68292588, 0.7373345 , 0.10718985, 0.83090668, 0.54938139]])"
            ]
          },
          "metadata": {
            "tags": []
          },
          "execution_count": 55
        }
      ]
    },
    {
      "cell_type": "code",
      "metadata": {
        "colab": {
          "base_uri": "https://localhost:8080/"
        },
        "id": "6zBAB4yYG8G4",
        "outputId": "f3df2ffa-1d63-4dd5-9693-c271019075a2"
      },
      "source": [
        "#Ahora multiplicamos las matrices de una forma:\n",
        "print(A*B)"
      ],
      "execution_count": null,
      "outputs": [
        {
          "output_type": "stream",
          "text": [
            "[[0.06399248 0.22600706 0.20329629 0.06755464 0.11992495]\n",
            " [0.2111987  0.02358627 0.32055259 0.00472344 0.2446015 ]\n",
            " [0.01800116 0.90506887 0.11023495 0.09978455 0.46268493]\n",
            " [0.74718995 0.14242507 0.35194252 0.44787343 0.21038382]\n",
            " [0.40966247 0.01614273 0.03272274 0.76809653 0.26675665]]\n"
          ],
          "name": "stdout"
        }
      ]
    },
    {
      "cell_type": "code",
      "metadata": {
        "colab": {
          "base_uri": "https://localhost:8080/"
        },
        "id": "C149TDL6HCQJ",
        "outputId": "fc218a47-6b4b-4200-a9ee-108d37bdbea8"
      },
      "source": [
        "# ahora multiplicamos de la otra forma:\n",
        "print(A.dot(B))"
      ],
      "execution_count": null,
      "outputs": [
        {
          "output_type": "stream",
          "text": [
            "[[0.93898974 0.89098503 0.92552845 0.93255436 0.80939754]\n",
            " [0.67895491 1.04204865 0.51448657 0.88620497 0.7510804 ]\n",
            " [1.71379625 1.75431651 1.24432434 1.63833901 1.38052937]\n",
            " [1.27000993 1.64358202 1.42981984 1.55898638 1.20347128]\n",
            " [1.27971839 1.55880895 1.21385611 1.44115805 1.06671367]]\n"
          ],
          "name": "stdout"
        }
      ]
    },
    {
      "cell_type": "code",
      "metadata": {
        "id": "UuZudl11Im2d"
      },
      "source": [
        "# ¿Cuál es la diferencia entre ambos resultados?"
      ],
      "execution_count": null,
      "outputs": []
    },
    {
      "cell_type": "code",
      "metadata": {
        "colab": {
          "base_uri": "https://localhost:8080/"
        },
        "id": "ElHrFfC-JQqg",
        "outputId": "b37589de-d3fa-4b6a-8807-be73c94985ba"
      },
      "source": [
        "# matrices de 4*5 y 5*5\n",
        "C=np.random.random((4,5))\n",
        "C"
      ],
      "execution_count": null,
      "outputs": [
        {
          "output_type": "execute_result",
          "data": {
            "text/plain": [
              "array([[0.55309887, 0.13866606, 0.1837862 , 0.94632866, 0.36098807],\n",
              "       [0.38034949, 0.87912008, 0.23710754, 0.53529708, 0.90666129],\n",
              "       [0.91548767, 0.87922861, 0.27140372, 0.68005119, 0.16406925],\n",
              "       [0.14611246, 0.6493858 , 0.31889316, 0.06736963, 0.84659967]])"
            ]
          },
          "metadata": {
            "tags": []
          },
          "execution_count": 59
        }
      ]
    },
    {
      "cell_type": "code",
      "metadata": {
        "colab": {
          "base_uri": "https://localhost:8080/"
        },
        "id": "933URfUvJZjq",
        "outputId": "e861bba5-4653-4241-d977-9fafbe6a5072"
      },
      "source": [
        "D=np.random.random((5,5))\n",
        "D"
      ],
      "execution_count": null,
      "outputs": [
        {
          "output_type": "execute_result",
          "data": {
            "text/plain": [
              "array([[0.70709942, 0.99348065, 0.39557325, 0.02744182, 0.4971813 ],\n",
              "       [0.81326312, 0.96921051, 0.00770808, 0.03790267, 0.48111535],\n",
              "       [0.05223806, 0.40998054, 0.75779556, 0.99591838, 0.80844565],\n",
              "       [0.05107231, 0.18725308, 0.02946291, 0.53098966, 0.56751879],\n",
              "       [0.09234856, 0.34534891, 0.43783324, 0.25378893, 0.12689449]])"
            ]
          },
          "metadata": {
            "tags": []
          },
          "execution_count": 60
        }
      ]
    },
    {
      "cell_type": "code",
      "metadata": {
        "colab": {
          "base_uri": "https://localhost:8080/",
          "height": 189
        },
        "id": "ZtfbAH5hJdZq",
        "outputId": "12f58a9d-4113-4072-a95d-a1bd158b5f7a"
      },
      "source": [
        "#Multiplicamos\n",
        "print(C*D)\n"
      ],
      "execution_count": null,
      "outputs": [
        {
          "output_type": "error",
          "ename": "ValueError",
          "evalue": "ignored",
          "traceback": [
            "\u001b[0;31m---------------------------------------------------------------------------\u001b[0m",
            "\u001b[0;31mValueError\u001b[0m                                Traceback (most recent call last)",
            "\u001b[0;32m<ipython-input-61-7b0055013e72>\u001b[0m in \u001b[0;36m<module>\u001b[0;34m()\u001b[0m\n\u001b[1;32m      1\u001b[0m \u001b[0;31m#Multiplicamos\u001b[0m\u001b[0;34m\u001b[0m\u001b[0;34m\u001b[0m\u001b[0;34m\u001b[0m\u001b[0m\n\u001b[0;32m----> 2\u001b[0;31m \u001b[0mprint\u001b[0m\u001b[0;34m(\u001b[0m\u001b[0mC\u001b[0m\u001b[0;34m*\u001b[0m\u001b[0mD\u001b[0m\u001b[0;34m)\u001b[0m\u001b[0;34m\u001b[0m\u001b[0;34m\u001b[0m\u001b[0m\n\u001b[0m",
            "\u001b[0;31mValueError\u001b[0m: operands could not be broadcast together with shapes (4,5) (5,5) "
          ]
        }
      ]
    },
    {
      "cell_type": "code",
      "metadata": {
        "colab": {
          "base_uri": "https://localhost:8080/"
        },
        "id": "mG4aJ-fpJlrM",
        "outputId": "9cbc3c43-29ff-4b8e-bd13-9665bab7fab8"
      },
      "source": [
        "print(C.dot(D))"
      ],
      "execution_count": null,
      "outputs": [
        {
          "output_type": "stream",
          "text": [
            "[[0.59513644 1.06110819 0.5450665  0.79757542 1.07315263]\n",
            " [1.1073546  1.74048227 0.74964931 0.79423605 1.22259084]\n",
            " [1.42644595 2.05694996 0.66645939 0.73148283 1.50435021]\n",
            " [0.7297189  1.21027889 0.6771139  0.5968448  0.78854401]]\n"
          ],
          "name": "stdout"
        }
      ]
    }
  ]
}