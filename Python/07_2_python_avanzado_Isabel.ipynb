{
  "nbformat": 4,
  "nbformat_minor": 0,
  "metadata": {
    "kernelspec": {
      "display_name": "Python 3",
      "language": "python",
      "name": "python3"
    },
    "language_info": {
      "codemirror_mode": {
        "name": "ipython",
        "version": 3
      },
      "file_extension": ".py",
      "mimetype": "text/x-python",
      "name": "python",
      "nbconvert_exporter": "python",
      "pygments_lexer": "ipython3",
      "version": "3.8.6"
    },
    "colab": {
      "name": " 07_2_python_avanzado_Isabel.ipynb",
      "provenance": [],
      "collapsed_sections": []
    }
  },
  "cells": [
    {
      "cell_type": "markdown",
      "metadata": {
        "id": "9oOUPbivq-YW"
      },
      "source": [
        "### Ejercicio 1\n",
        "\n",
        "Un número primo es aquél que solo es divisible por él mismo y por 1.\n",
        "\n",
        "a) Escribe un código que compruebe si un número `x = 15` es solo divisible por 1 o por el mismo.  Escribe este código usando un iterador (un `for` o un `while`) que barra todos los valores desde `2` a `x-1`. Crea una variable `divisible`  que tenga por defecto valor `False` y asigne el valor `True` si a lo largo de la iteración encuentra un número natural divisible. Puedes usar el operador modulo `a % b` para saber si un numero `b` es divisible por `a`.\n",
        "\n",
        "<span style=\"font-family: Courier New; background-color: #82b74b; color: #000000; padding: 2px; \">NM</span>"
      ]
    },
    {
      "cell_type": "code",
      "metadata": {
        "id": "MJrJhz6Kq-YX",
        "colab": {
          "base_uri": "https://localhost:8080/"
        },
        "outputId": "3775d382-4f32-45e1-d0ab-110a1eda36f7"
      },
      "source": [
        "# Respuesta\n",
        "#Pedir introducir los numeros divisibles al usuario.\n",
        "a=int(input(\"Introduce un número :\"))\n",
        "b=int(input(\"Introduce otro número :\"))\n",
        "\n",
        "# No entiendo bien el enunciado.\n",
        "divisible = False\n",
        "def Encontrar_numero_primo(a,b):\n",
        "  residuo= a % b\n",
        "  if residuo == 1 or residuo == 0:\n",
        "    print(\"Los números introducidos son divisibles entre ellos \")\n",
        "  else:\n",
        "       print(\"Los números introducidos NO son divisibles entre ellos \")\n"
      ],
      "execution_count": 107,
      "outputs": [
        {
          "name": "stdout",
          "output_type": "stream",
          "text": [
            "Introduce un número :10\n",
            "Introduce otro número :2\n"
          ]
        }
      ]
    },
    {
      "cell_type": "code",
      "source": [
        "Encontrar_numero_primo(a,b)"
      ],
      "metadata": {
        "id": "HO11s3SvaLHn",
        "outputId": "f8334d1b-2e0d-416c-db23-d3015c35cc04",
        "colab": {
          "base_uri": "https://localhost:8080/"
        }
      },
      "execution_count": 108,
      "outputs": [
        {
          "output_type": "stream",
          "name": "stdout",
          "text": [
            "Los números introducidos son divisibles entre ellos \n"
          ]
        }
      ]
    },
    {
      "cell_type": "markdown",
      "metadata": {
        "id": "jCb-WQL3q-YY"
      },
      "source": [
        "\n",
        "b) Convierte tu código anterior en una función que compruebe si el número del argumento es primo o no, devolviendo True is es primo y False si no es primo. Comprueba tu función con los valores 492366587, 492366585, 48947 y 2,\n",
        "\n",
        "<span style=\"font-family: Courier New; background-color: #82b74b; color: #000000; padding: 2px; \">NM</span>"
      ]
    },
    {
      "cell_type": "code",
      "metadata": {
        "id": "LrH5s2K1q-YZ"
      },
      "source": [
        "# Funcion hallar número Primo.\n",
        "def Primo(n):\n",
        "  contador =0\n",
        "  for i in range(2,n):\n",
        "    if n%i ==0:\n",
        "      contador+=1\n",
        "\n",
        "  if contador ==2:\n",
        "    return False\n",
        "  else:\n",
        "    return True  "
      ],
      "execution_count": 109,
      "outputs": []
    },
    {
      "cell_type": "code",
      "source": [
        "Primo(13)"
      ],
      "metadata": {
        "colab": {
          "base_uri": "https://localhost:8080/"
        },
        "id": "aGI4UBiNnTtI",
        "outputId": "a6486a3c-736f-4a7a-e44b-2a91988f1e1d"
      },
      "execution_count": 110,
      "outputs": [
        {
          "output_type": "execute_result",
          "data": {
            "text/plain": [
              "True"
            ]
          },
          "metadata": {},
          "execution_count": 110
        }
      ]
    },
    {
      "cell_type": "markdown",
      "metadata": {
        "id": "L49X1UBzq-Yb"
      },
      "source": [
        "### Ejercicio 2\n",
        "\n",
        "La Covid-19 es una enfermedad producida por la infección del virus SARS-CoV-2. La infección es transmisible de persona a persona y su contagiosidad depende de la cantidad del virus en las vías respiratorias. Si cada persona contagiada transmite la enfermedad a $\\beta$ contactos en promedio por periodo de tiempo $t$, es posible estimar la evolución del contagio con un modelo matemático sencillo.\n",
        "\n",
        "Para $t=1$día, las transmisiones en España se han estimado a partir de su histórico de las semanas de Febrero y Marzo del 2020 una $\\beta = 0.35$ transmissiones por día por infectado.\n",
        "\n",
        "Durante un periodo de tiempo (por ejempo un día $d$) la tasa de nuevos contagios se puede estimar como  una proporción al número de contagiados del periodo anterior $N$: \n",
        "\n",
        "$$ \\Delta N = N_{1} - N = \\beta \\cdot N$$ (1)\n",
        "\n",
        "Por tanto, podemos proyectar el número futuro de afectados como \n",
        "\n",
        "$$ N_{1} = N + \\beta \\cdot N = (1+\\beta) \\cdot N$$ (2) \n",
        "\n",
        "En dos días:\n",
        "\n",
        "$$ N_{2} = (1+\\beta) \\cdot N_{1} = (1+\\beta)^2 \\cdot N$$  (3)\n",
        "\n",
        "Y en general en D días tendremos \n",
        "\n",
        "$$N_{D} = (1+\\beta)^D \\cdot N$$  (4)\n",
        " \n",
        "Asumiendo este sencillo modelo: \n",
        "\n",
        "a) Implementa una función de dos parámetros (N: población infectada inicial, D: número de días), que devuelva el cálculo de afectados para D días siguiendo la ecuación (4). Suponiendo una población afectada de 4250 (población afectada en españa a día 13 de Marzo de 2020), usa la función para calcular la población estimada en 1, 2, 7 y 30 días. \n",
        "\n",
        "<span style=\"font-family: Courier New; background-color: #82b74b; color: #000000; padding: 2px; \">NM</span>"
      ]
    },
    {
      "cell_type": "code",
      "metadata": {
        "id": "f4BA8eftuZ4Z",
        "colab": {
          "base_uri": "https://localhost:8080/"
        },
        "outputId": "50374cfa-214a-4d26-b023-20307f81b8e0"
      },
      "source": [
        "# Respuesta\n",
        "# La función es muy sencilla de definir, sencillamente implentando la ecuación (4)\n",
        "def covid(N,D):\n",
        "    return(N*(1.35)**D)\n",
        "\n",
        "\n",
        "# Respuesta: Llamadas a la función\n",
        "N=4250\n",
        "for i in [1,2,7,30]:\n",
        "    print(\"El número de afectados en %d días es %d \" % (i, covid(N,i)))\n",
        "         "
      ],
      "execution_count": 111,
      "outputs": [
        {
          "output_type": "stream",
          "name": "stdout",
          "text": [
            "El número de afectados en 1 días es 5737 \n",
            "El número de afectados en 2 días es 7745 \n",
            "El número de afectados en 7 días es 34731 \n",
            "El número de afectados en 30 días es 34546335 \n"
          ]
        }
      ]
    },
    {
      "cell_type": "markdown",
      "metadata": {
        "id": "Cae17nE8q-Yd"
      },
      "source": [
        "\n",
        "b) Sabiendo que los Servicios de Medicina Intensiva (SMI) disponen de 3363 camas para enfermos graves, y suponiendo que un 10% de los afectados por el covid-19 requerirán de SMI y una supervivencia del 2,5% (Exitus), escribe un código que calcule:\n",
        "- El día en curso (Día)\n",
        "- El total de afectados por el virus para cada día d (Afectados)\n",
        "- El total de ingresados en SMI por el virus para cada día d (Críticos)\n",
        "- El total de Exitus por el virus para cada día d (Exitus)\n",
        "- Si los servicios de SMI no pueden aceptar los ingresados para cada día $d$ (Estado: indicando Saturación/No Saturación)\n",
        "\n",
        "Imprime en pantalla la información de cada día durante una simulación de tres semanas, suponiendo que no hay recuperaciones, con una población afectada inicial 4250 y una $\\beta = 0.35$ constante. \n",
        "\n",
        "\n",
        "<span style=\"font-family: Courier New; background-color: #82b74b; color: #000000; padding: 2px; \">NM</span>"
      ]
    },
    {
      "cell_type": "code",
      "metadata": {
        "id": "6cA7CirFq-Ye",
        "colab": {
          "base_uri": "https://localhost:8080/"
        },
        "outputId": "4630d80b-8d56-47e9-f5ec-294fd9425c15"
      },
      "source": [
        "camas=3363\n",
        "N=4250\n",
        "\n",
        "# 3 semanas = 21 dias\n",
        "# El total de afectados por el virus para cada día D (Afectados)\n",
        "afectados=[]\n",
        "for Dia in range(21):         \n",
        "  afectados=round(N*(1.35)**Dia)\n",
        "  print(\"El numero de afectados el dia\" ,Dia ,\" es de :\", afectados)"
      ],
      "execution_count": 112,
      "outputs": [
        {
          "output_type": "stream",
          "name": "stdout",
          "text": [
            "El numero de afectados el dia 0  es de : 4250\n",
            "El numero de afectados el dia 1  es de : 5738\n",
            "El numero de afectados el dia 2  es de : 7746\n",
            "El numero de afectados el dia 3  es de : 10457\n",
            "El numero de afectados el dia 4  es de : 14116\n",
            "El numero de afectados el dia 5  es de : 19057\n",
            "El numero de afectados el dia 6  es de : 25727\n",
            "El numero de afectados el dia 7  es de : 34732\n",
            "El numero de afectados el dia 8  es de : 46888\n",
            "El numero de afectados el dia 9  es de : 63298\n",
            "El numero de afectados el dia 10  es de : 85453\n",
            "El numero de afectados el dia 11  es de : 115361\n",
            "El numero de afectados el dia 12  es de : 155738\n",
            "El numero de afectados el dia 13  es de : 210246\n",
            "El numero de afectados el dia 14  es de : 283832\n",
            "El numero de afectados el dia 15  es de : 383173\n",
            "El numero de afectados el dia 16  es de : 517284\n",
            "El numero de afectados el dia 17  es de : 698334\n",
            "El numero de afectados el dia 18  es de : 942750\n",
            "El numero de afectados el dia 19  es de : 1272713\n",
            "El numero de afectados el dia 20  es de : 1718163\n"
          ]
        }
      ]
    },
    {
      "cell_type": "code",
      "source": [
        "# El total de ingresados en SMI por el virus para cada día d (Críticos)\n",
        "afectados=[]\n",
        "for Dia in range(21):         \n",
        "  afectados=round(N*(1.35)**Dia)\n",
        "  Criticos=round(afectados*0.10)\n",
        "  print(\" el número de criticos , ingresados en SMI por dia \", Dia, \" es de :\", Criticos)"
      ],
      "metadata": {
        "colab": {
          "base_uri": "https://localhost:8080/"
        },
        "id": "zF-owqwbeb8e",
        "outputId": "3634f2af-8595-4cfd-b94c-2894ecf780aa"
      },
      "execution_count": 113,
      "outputs": [
        {
          "output_type": "stream",
          "name": "stdout",
          "text": [
            " el número de criticos , ingresados en SMI por dia  0  es de : 425\n",
            " el número de criticos , ingresados en SMI por dia  1  es de : 574\n",
            " el número de criticos , ingresados en SMI por dia  2  es de : 775\n",
            " el número de criticos , ingresados en SMI por dia  3  es de : 1046\n",
            " el número de criticos , ingresados en SMI por dia  4  es de : 1412\n",
            " el número de criticos , ingresados en SMI por dia  5  es de : 1906\n",
            " el número de criticos , ingresados en SMI por dia  6  es de : 2573\n",
            " el número de criticos , ingresados en SMI por dia  7  es de : 3473\n",
            " el número de criticos , ingresados en SMI por dia  8  es de : 4689\n",
            " el número de criticos , ingresados en SMI por dia  9  es de : 6330\n",
            " el número de criticos , ingresados en SMI por dia  10  es de : 8545\n",
            " el número de criticos , ingresados en SMI por dia  11  es de : 11536\n",
            " el número de criticos , ingresados en SMI por dia  12  es de : 15574\n",
            " el número de criticos , ingresados en SMI por dia  13  es de : 21025\n",
            " el número de criticos , ingresados en SMI por dia  14  es de : 28383\n",
            " el número de criticos , ingresados en SMI por dia  15  es de : 38317\n",
            " el número de criticos , ingresados en SMI por dia  16  es de : 51728\n",
            " el número de criticos , ingresados en SMI por dia  17  es de : 69833\n",
            " el número de criticos , ingresados en SMI por dia  18  es de : 94275\n",
            " el número de criticos , ingresados en SMI por dia  19  es de : 127271\n",
            " el número de criticos , ingresados en SMI por dia  20  es de : 171816\n"
          ]
        }
      ]
    },
    {
      "cell_type": "code",
      "source": [
        "# El total de Exitus por el virus para cada día d (Exitus)\n",
        "afectados=[]\n",
        "for Dia in range(21):         \n",
        "  afectados=round(N*(1.35)**Dia)\n",
        "  Criticos=round(afectados*0.10)\n",
        "  exitus=round(Criticos*2.5)\n",
        "  print(\" el número de exitus, (altas) en el  \", Dia, \" es de :\", exitus)"
      ],
      "metadata": {
        "colab": {
          "base_uri": "https://localhost:8080/"
        },
        "id": "AeWuTB6-fONQ",
        "outputId": "f037da0e-9601-4ee9-8d76-47fe4f25d15f"
      },
      "execution_count": 114,
      "outputs": [
        {
          "output_type": "stream",
          "name": "stdout",
          "text": [
            " el número de exitus, (altas) en el   0  es de : 1062\n",
            " el número de exitus, (altas) en el   1  es de : 1435\n",
            " el número de exitus, (altas) en el   2  es de : 1938\n",
            " el número de exitus, (altas) en el   3  es de : 2615\n",
            " el número de exitus, (altas) en el   4  es de : 3530\n",
            " el número de exitus, (altas) en el   5  es de : 4765\n",
            " el número de exitus, (altas) en el   6  es de : 6432\n",
            " el número de exitus, (altas) en el   7  es de : 8682\n",
            " el número de exitus, (altas) en el   8  es de : 11722\n",
            " el número de exitus, (altas) en el   9  es de : 15825\n",
            " el número de exitus, (altas) en el   10  es de : 21362\n",
            " el número de exitus, (altas) en el   11  es de : 28840\n",
            " el número de exitus, (altas) en el   12  es de : 38935\n",
            " el número de exitus, (altas) en el   13  es de : 52562\n",
            " el número de exitus, (altas) en el   14  es de : 70958\n",
            " el número de exitus, (altas) en el   15  es de : 95792\n",
            " el número de exitus, (altas) en el   16  es de : 129320\n",
            " el número de exitus, (altas) en el   17  es de : 174582\n",
            " el número de exitus, (altas) en el   18  es de : 235688\n",
            " el número de exitus, (altas) en el   19  es de : 318178\n",
            " el número de exitus, (altas) en el   20  es de : 429540\n"
          ]
        }
      ]
    },
    {
      "cell_type": "code",
      "source": [
        "# Si los servicios de SMI no pueden aceptar los ingresados para cada día  d  (Estado: indicando Saturación/No Saturación):\n",
        "afectados=[]\n",
        "camas=3363\n",
        "N=4250\n",
        "\n",
        "for Dia in range(21):         \n",
        "  afectados=covid(N,Dia)\n",
        "  Criticos=round(afectados*0.10)\n",
        "  if Criticos > camas:\n",
        "      estadoSMI=\"Saturado\"\n",
        "  else:\n",
        "     estadoSMI=\"NO Saturado\"   \n",
        "  #print(\" el número de exitus, (altas) en el  \", Dia, \" es de :\", Criticos)\n",
        "  print(\" el número de exitus, (altas) en el  \", Dia, \" es de :\", estadoSMI)"
      ],
      "metadata": {
        "colab": {
          "base_uri": "https://localhost:8080/"
        },
        "id": "-YOvaZNMfOLb",
        "outputId": "cc93845a-3665-48c4-c7fa-bc4ea458d8d2"
      },
      "execution_count": 115,
      "outputs": [
        {
          "output_type": "stream",
          "name": "stdout",
          "text": [
            " el número de exitus, (altas) en el   0  es de : NO Saturado\n",
            " el número de exitus, (altas) en el   1  es de : NO Saturado\n",
            " el número de exitus, (altas) en el   2  es de : NO Saturado\n",
            " el número de exitus, (altas) en el   3  es de : NO Saturado\n",
            " el número de exitus, (altas) en el   4  es de : NO Saturado\n",
            " el número de exitus, (altas) en el   5  es de : NO Saturado\n",
            " el número de exitus, (altas) en el   6  es de : NO Saturado\n",
            " el número de exitus, (altas) en el   7  es de : Saturado\n",
            " el número de exitus, (altas) en el   8  es de : Saturado\n",
            " el número de exitus, (altas) en el   9  es de : Saturado\n",
            " el número de exitus, (altas) en el   10  es de : Saturado\n",
            " el número de exitus, (altas) en el   11  es de : Saturado\n",
            " el número de exitus, (altas) en el   12  es de : Saturado\n",
            " el número de exitus, (altas) en el   13  es de : Saturado\n",
            " el número de exitus, (altas) en el   14  es de : Saturado\n",
            " el número de exitus, (altas) en el   15  es de : Saturado\n",
            " el número de exitus, (altas) en el   16  es de : Saturado\n",
            " el número de exitus, (altas) en el   17  es de : Saturado\n",
            " el número de exitus, (altas) en el   18  es de : Saturado\n",
            " el número de exitus, (altas) en el   19  es de : Saturado\n",
            " el número de exitus, (altas) en el   20  es de : Saturado\n"
          ]
        }
      ]
    },
    {
      "cell_type": "markdown",
      "metadata": {
        "id": "FtbMfS6_q-Ye"
      },
      "source": [
        "\n",
        "c) Convierte el código anterior en una función que genere un archivo de texto con nombre `output.txt`, siguiendo este formato: \n",
        "```\n",
        "Dia, Afectados, Críticos, Exitus, Estado\n",
        "0, 4250, 425,  106, No Saturación\n",
        "1, 5737, 573,  143, No Saturación\n",
        "2, 7745, 774,  193, No Saturación\n",
        "...\n",
        "```\n",
        "Con los parámetros de entrada $N$, $D$, $\\beta$, camas SMI.\n",
        "\n",
        "<span style=\"font-family: Courier New; background-color: #82b74b; color: #000000; padding: 2px; \">NM</span>"
      ]
    },
    {
      "cell_type": "code",
      "metadata": {
        "id": "sh6nOSIXq-Ye",
        "colab": {
          "base_uri": "https://localhost:8080/"
        },
        "outputId": "070eb70b-d74b-450e-f6d9-e01dceed4977"
      },
      "source": [
        "# Create AND WRITE open file\n",
        "f= open(\"pandemia.txt\",\"w+\")\n",
        "  \n",
        "afectados=[]\n",
        "camas=3363\n",
        "N=4250\n",
        "\n",
        "for Dia in range(21):         \n",
        "  afectados=covid(N,Dia)\n",
        "  Criticos=round(afectados*0.10)\n",
        "  if Criticos > camas:\n",
        "      estadoSMI=\"Saturado\"\n",
        "  else:\n",
        "     estadoSMI=\"NO Saturado\"   \n",
        "  #print(\" el número de exitus, (altas) en el  \", Dia, \" es de :\", Criticos)\n",
        "  print(\" el número de exitus, (altas) en el  \", Dia, \" es de :\", estadoSMI)\n",
        "f.write( \"%d, %d, %d, %d, %s \\n\" % (Dia,afectados,Criticos, exitus, estadoSMI))\n",
        "# cerramos el fichero\n",
        "f.close()\n"
      ],
      "execution_count": 116,
      "outputs": [
        {
          "output_type": "stream",
          "name": "stdout",
          "text": [
            " el número de exitus, (altas) en el   0  es de : NO Saturado\n",
            " el número de exitus, (altas) en el   1  es de : NO Saturado\n",
            " el número de exitus, (altas) en el   2  es de : NO Saturado\n",
            " el número de exitus, (altas) en el   3  es de : NO Saturado\n",
            " el número de exitus, (altas) en el   4  es de : NO Saturado\n",
            " el número de exitus, (altas) en el   5  es de : NO Saturado\n",
            " el número de exitus, (altas) en el   6  es de : NO Saturado\n",
            " el número de exitus, (altas) en el   7  es de : Saturado\n",
            " el número de exitus, (altas) en el   8  es de : Saturado\n",
            " el número de exitus, (altas) en el   9  es de : Saturado\n",
            " el número de exitus, (altas) en el   10  es de : Saturado\n",
            " el número de exitus, (altas) en el   11  es de : Saturado\n",
            " el número de exitus, (altas) en el   12  es de : Saturado\n",
            " el número de exitus, (altas) en el   13  es de : Saturado\n",
            " el número de exitus, (altas) en el   14  es de : Saturado\n",
            " el número de exitus, (altas) en el   15  es de : Saturado\n",
            " el número de exitus, (altas) en el   16  es de : Saturado\n",
            " el número de exitus, (altas) en el   17  es de : Saturado\n",
            " el número de exitus, (altas) en el   18  es de : Saturado\n",
            " el número de exitus, (altas) en el   19  es de : Saturado\n",
            " el número de exitus, (altas) en el   20  es de : Saturado\n"
          ]
        }
      ]
    },
    {
      "cell_type": "markdown",
      "metadata": {
        "id": "yoePKh4dq-Yf"
      },
      "source": [
        "### Ejercicio 3\n",
        "\n",
        "Dado el siguiente diccionario:"
      ]
    },
    {
      "cell_type": "code",
      "metadata": {
        "id": "Yb3_k2s7q-Yf"
      },
      "source": [
        "d = {\"Alex\":344334443, \"Eva\":5533443, \"Cristina\":443355, \"Jonas\":33223324}"
      ],
      "execution_count": 117,
      "outputs": []
    },
    {
      "cell_type": "markdown",
      "metadata": {
        "id": "h3gmM-8Eq-Yg"
      },
      "source": [
        "Escribid una función que pregunte al usuario que introduzca el nombre de una persona y muestre por pantalla el nombre de la persona y su teléfono. \n",
        "\n",
        "Tened en cuenta que:\n",
        "\n",
        "- La función debe controlar que el valor introducido por el usuario es un nombre que existe en el diccionario. En caso contrario, mostrará un mensaje de error (\"El nombre introducido no corresponde a ninguna persona\") y devolverá el valor False.\n",
        "- Debéis tener en cuenta que el nombre de las personas que nos pasan por parámetro puede ser en minúsculas, mayúsculas o una combinación de ambas, y que debemos encontrar el número de teléfono aunque la capitalización de la cadena entrada por el usuario no sea exactamente la misma que hemos almacenado en el diccionario.\n",
        "- Suponed que  no hay acentos en los nombres.\n",
        "\n",
        "Nota 1: Para realizar la actividad, tendréis que capturar un texto que entrará el usuario. Consultad la [documentación oficial de la función input](https://docs.python.org/3/library/functions.html#input) para ver cómo hacerlo.\n",
        "\n",
        "Nota 2: También tendréis que pensar cómo tratar el hecho de que el usuario pueda utilizar mayúsculas y minúsculas en la escritura del nombre en el diccionario. ¡Os animamos a usar un buscador para intentar encontrar alguna alternativa para resolver este subproblema! ¡Recordad citar las referencias que hayáis usado para resolverlo!\n",
        "\n",
        "<span style=\"font-family: Courier New; background-color: #ffcc5c; color: #000000; padding: 3px; \">EG</span>"
      ]
    },
    {
      "cell_type": "code",
      "metadata": {
        "id": "Y5c90OHFq-Yg",
        "colab": {
          "base_uri": "https://localhost:8080/"
        },
        "outputId": "365be9a7-0c71-4de9-d58f-9e3c46384f09"
      },
      "source": [
        "nombre_telefono = {\"Alex\":344334443, \"Eva\":5533443, \"Cristina\":443355, \"Jonas\":33223324}\n",
        "\n",
        "# Respuesta\n",
        "# Escribid una función que pregunte al usuario que introduzca el nombre de una persona y muestre por pantalla el nombre de la persona y su teléfono.\n",
        "nombre=input(\"Introduce un nombre de la agenda :\").capitalize()\n",
        "\n",
        "#vamos a comprobar si ese nombre esta en la agenda y dara clave,valor. Si no pedira introducir un nombre válido en la agenda.\n",
        "if nombre in nombre_telefono:\n",
        "  print(nombre,\":\",nombre_telefono[nombre])\n",
        "else:\n",
        "  print(\"Nombre no valido,introduce un nombre que esté en la agenda .\") "
      ],
      "execution_count": 118,
      "outputs": [
        {
          "output_type": "stream",
          "name": "stdout",
          "text": [
            "Introduce un nombre de la agenda :jonas\n",
            "Jonas : 33223324\n"
          ]
        }
      ]
    },
    {
      "cell_type": "markdown",
      "metadata": {
        "id": "2qVk4OT0q-Yh"
      },
      "source": [
        "Referencias consultadas:\n",
        "\n",
        "*Incluir aquí las referencias*\n",
        "\n",
        "https://www.youtube.com/watch?v=KLjNZG8KTvc\n",
        "\n",
        "https://docs.hektorprofe.net/python/metodos-de-las-colecciones/metodos-de-los-diccionarios/\n",
        "\n",
        "\n"
      ]
    },
    {
      "cell_type": "markdown",
      "metadata": {
        "id": "VN9cU7tAq-Yh"
      },
      "source": [
        "###  Ejercicio 4\n",
        "\n",
        "Python dispone de un **idiom** muy útil conocido como `list comprehension`. Utilizando este **idiom**, proporcionad una expresión que devuelva las listas siguientes.\n",
        "\n",
        "Nota: Para realizar esta actividad necesitaréis investigar qué son las `list comprehension` y qué sintaxis utilizan. Para ello, se recomienda en primer lugar que utilicéis un buscador para encontrar información genérica sobre esta construcción. Después, os recomendamos que consultéis stackoverflow para ver algunos ejemplos de problemas que se pueden resolver con esta construcción.\n",
        "\n",
        "\n",
        "[stackoverflow](https://stackoverflow.com/) es un sitio de preguntas-y-respuestas muy popular entre programadores. Veréis que para la gran mayoría de las dudas que tengáis, habrá alguien que ya les habrá tenido (y consultado) anteriormente! Así pues, más allá de preguntar vosotros mismos las dudas allí (nosotros ya tenemos el foro del aula para ello!), consultar esta web os permitirá ver qué soluciones proponen otros programadores a estas dudas. A menudo habrá más de una solución a un mismo problema, y podréis valorar cuál es la más adecuada para vuestro problema.\n",
        "\n",
        "Para ver ejemplos de problemas que son adecuados para resolver con **list comprehensions**, os recomendamos leer las siguientes páginas:\n",
        "* https://stackoverflow.com/questions/12555443/squaring-all-elements-in-a-list\n",
        "* https://stackoverflow.com/questions/18551458/how-to-frame-two-for-loops-in-list-comprehension-python\n",
        "* https://stackoverflow.com/questions/24442091/list-comprehension-with-condition\n",
        "* https://stackoverflow.com/questions/41676212/i-want-to-return-only-the-odd-numbers-in-a-list\n",
        "* https://stackoverflow.com/questions/4260280/if-else-in-a-list-comprehension\n",
        "\n",
        "<span style=\"font-family: Courier New; background-color: #ffcc5c; color: #000000; padding: 3px; \">EG</span>\n"
      ]
    },
    {
      "cell_type": "markdown",
      "metadata": {
        "id": "BGFkSXUnq-Yi"
      },
      "source": [
        "a) Una lista con los valores $4 x^2$ donde $x$ es cada uno de los números de la lista `list_1`:"
      ]
    },
    {
      "cell_type": "code",
      "metadata": {
        "id": "7ZAu_lbXq-Yi",
        "colab": {
          "base_uri": "https://localhost:8080/"
        },
        "outputId": "c165b96d-c9f7-443d-c847-3be96e347208"
      },
      "source": [
        "list_1 = [1, 2, 3, 4, 5, 6, 7, 8, 9]\n",
        "\n",
        "# Respuesta\n",
        "b = [(4*x)**2 for x in list_1]\n",
        "b"
      ],
      "execution_count": 119,
      "outputs": [
        {
          "output_type": "execute_result",
          "data": {
            "text/plain": [
              "[16, 64, 144, 256, 400, 576, 784, 1024, 1296]"
            ]
          },
          "metadata": {},
          "execution_count": 119
        }
      ]
    },
    {
      "cell_type": "markdown",
      "metadata": {
        "id": "mguXAbN-q-Yi"
      },
      "source": [
        "b) Una lista con los valores $x/(x+1)$ donde $x$ es cada uno de los números de la lista `list_1`:"
      ]
    },
    {
      "cell_type": "code",
      "metadata": {
        "id": "m1XQwiPRq-Yj",
        "colab": {
          "base_uri": "https://localhost:8080/"
        },
        "outputId": "1dd38b48-567b-431f-968a-b1f19c77d33b"
      },
      "source": [
        "list_1 = [1, 2, 3, 4, 5, 6, 7, 8, 9]\n",
        "\n",
        "# Respuesta\n",
        "b = [x/(x+1) for x in list_1]\n",
        "b"
      ],
      "execution_count": 120,
      "outputs": [
        {
          "output_type": "execute_result",
          "data": {
            "text/plain": [
              "[0.5,\n",
              " 0.6666666666666666,\n",
              " 0.75,\n",
              " 0.8,\n",
              " 0.8333333333333334,\n",
              " 0.8571428571428571,\n",
              " 0.875,\n",
              " 0.8888888888888888,\n",
              " 0.9]"
            ]
          },
          "metadata": {},
          "execution_count": 120
        }
      ]
    },
    {
      "cell_type": "markdown",
      "metadata": {
        "id": "QNZQT8c8q-Yj"
      },
      "source": [
        "c) Una lista con los valores $4x^2/(4x^2-1)$ donde $x$ es cada uno de los números de la lista `list_1`:"
      ]
    },
    {
      "cell_type": "code",
      "metadata": {
        "id": "Pv5dkO2Dq-Yj",
        "colab": {
          "base_uri": "https://localhost:8080/"
        },
        "outputId": "44cac280-b515-44bf-e680-ddd12bcda3df"
      },
      "source": [
        "list_1 = [1, 2, 3, 4, 5, 6, 7, 8, 9]\n",
        "\n",
        "# Respuesta\n",
        "b = [((4*x)**2)/ (((4*x)**2)-1) for x in list_1]\n",
        "b\n"
      ],
      "execution_count": 121,
      "outputs": [
        {
          "output_type": "execute_result",
          "data": {
            "text/plain": [
              "[1.0666666666666667,\n",
              " 1.0158730158730158,\n",
              " 1.006993006993007,\n",
              " 1.003921568627451,\n",
              " 1.0025062656641603,\n",
              " 1.0017391304347827,\n",
              " 1.0012771392081736,\n",
              " 1.0009775171065494,\n",
              " 1.0007722007722009]"
            ]
          },
          "metadata": {},
          "execution_count": 121
        }
      ]
    },
    {
      "cell_type": "markdown",
      "metadata": {
        "id": "wAJAa6G-q-Yk"
      },
      "source": [
        "### Ejercicio 5\n",
        "\n",
        "Las funciones `lambda` son formas de expresar y definir funciones pequeñas sin necesidad de usar el constructor `def funcion():`.\n",
        "\n",
        "Lee sobre las funciones lambda, por ejemplo [aquí](https://www.w3schools.com/python/python_lambda.asp) o [aquí](https://realpython.com/python-lambda/)\n",
        "\n",
        "Escribe una función $f$ con argumento $n$, $f(n)$, que **devuelva una función** lambda, que esta a su vez devuelva $n$ copias de una cadena de caracteres en su argumento: \n",
        "\n",
        "<span style=\"font-family: Courier New; background-color: #f2ae72; color: #000000; padding: 3px; \">EI</span>"
      ]
    },
    {
      "cell_type": "code",
      "source": [
        "cadena=\"Hola\"\n",
        "impresion = lambda n: cadena* n\n",
        "print(impresion(5))"
      ],
      "metadata": {
        "colab": {
          "base_uri": "https://localhost:8080/"
        },
        "id": "l7rb7v6t77-r",
        "outputId": "9c57e123-820e-42f7-91f2-28bfb0a41e09"
      },
      "execution_count": 122,
      "outputs": [
        {
          "output_type": "stream",
          "name": "stdout",
          "text": [
            "HolaHolaHolaHolaHola\n"
          ]
        }
      ]
    }
  ]
}