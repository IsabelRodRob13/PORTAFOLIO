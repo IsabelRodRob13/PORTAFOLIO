{
  "nbformat": 4,
  "nbformat_minor": 0,
  "metadata": {
    "kernelspec": {
      "display_name": "Python 3",
      "language": "python",
      "name": "python3"
    },
    "language_info": {
      "codemirror_mode": {
        "name": "ipython",
        "version": 3
      },
      "file_extension": ".py",
      "mimetype": "text/x-python",
      "name": "python",
      "nbconvert_exporter": "python",
      "pygments_lexer": "ipython3",
      "version": "3.8.6"
    },
    "colab": {
      "name": "07_1_python_avanzado_Isabel.ipynb",
      "provenance": [],
      "collapsed_sections": []
    }
  },
  "cells": [
    {
      "cell_type": "markdown",
      "metadata": {
        "id": "7uOCIQU7q7hM"
      },
      "source": [
        "### Ejercicio 2\n",
        "\n",
        "Las excepciones son errores detectados en tiempo de ejecución. Pueden y deben ser manejadas por el programador para minimizar el riesgo de que un determinado programa falle de forma no controlada. Escribid, en lenguaje Python, cómo generar y capturar la siguiente excepción: **ZeroDivisionError**."
      ]
    },
    {
      "cell_type": "code",
      "metadata": {
        "id": "x_QxP8pmq7hN"
      },
      "source": [
        "# Respuesta Isabel:\n",
        "def divide(num1,num2):\n",
        "  try:\n",
        "    return num1/num2\n",
        "  except ZeroDivisionError:\n",
        "    print(\"No se puede divir entre 0\")\n",
        "    return(\" Operación errónea\")\n",
        "\n",
        "op1=(int(input(\"Introduce un número por favor :\")))\n",
        "op2=(int(input(\"Introduce otro número :\")))\n",
        "\n",
        "print(divide(op1,op2))"
      ],
      "execution_count": null,
      "outputs": []
    },
    {
      "cell_type": "markdown",
      "metadata": {
        "id": "2BeLwl8Bq7hN"
      },
      "source": [
        "### Ejercicio 3\n",
        "\n",
        "Completad el código necesario para calcular el número de vocales y de consonantes respectivamente de un texto."
      ]
    },
    {
      "cell_type": "code",
      "metadata": {
        "id": "m0YbL_PRq7hO"
      },
      "source": [
        "texto = \"Hola a todos!\"\n",
        "print(texto)"
      ],
      "execution_count": null,
      "outputs": []
    },
    {
      "cell_type": "code",
      "source": [
        "from collections import Counter\n",
        "print(Counter(texto))"
      ],
      "metadata": {
        "id": "nQ9hExKQRYTn"
      },
      "execution_count": null,
      "outputs": []
    },
    {
      "cell_type": "code",
      "source": [
        "vocal=0\n",
        "consonante=0\n",
        "for i in texto:\n",
        "  if i==\"a\" or i==\"e\" or i==\"i\" or i==\"o\" or i==\"u\":\n",
        "    vocal+=1\n",
        "  else:\n",
        "    if i!=\" \" or i!= \"!\":\n",
        "      consonante+=1\n",
        "print(\"Número de vocales en este texto: \", vocal)\n",
        "print(\"Número de No vocales en este texto: \",consonante)"
      ],
      "metadata": {
        "id": "iD9fmzsqUFx2"
      },
      "execution_count": null,
      "outputs": []
    },
    {
      "cell_type": "markdown",
      "metadata": {
        "id": "X6p7LtNXq7hW"
      },
      "source": [
        "### Ejercicio 1\n",
        "\n",
        "Escribid una función que dada una lista de planetas del sistema solar, pregunte al usuario que introduzca una posición y muestre el plante correspondiente a dicha posición. Por ejemplo, si tenemos la siguiente lista: `['Mercurio', 'Venus', 'Tierra', 'Marte']` y el usuario nos ha introducido la posición `3`, hemos de mostrar como resultado por pantalla: `Tierra`.\n",
        "\n",
        "Consideraciones:\n",
        "\n",
        "- La posición que introduzca el usuario tiene que ser un número entero estrictamente positivo.\n",
        "- La función debe controlar el acceso a una posición fuera de la lista mediante una **excepción**. Por ejemplo, en el caso anterior debemos mostrar una mensaje de error si el usuario pide acceder a la posición 10.\n"
      ]
    },
    {
      "cell_type": "code",
      "metadata": {
        "id": "eM2_6e7cq7hX"
      },
      "source": [
        "# Respuesta\n",
        "planetas = ['Mercurio', 'Venus', 'Tierra', 'Marte']\n",
        "planetas"
      ],
      "execution_count": null,
      "outputs": []
    },
    {
      "cell_type": "code",
      "metadata": {
        "id": "Wt0LGEoAq7hX"
      },
      "source": [
        "type(planetas)"
      ],
      "execution_count": null,
      "outputs": []
    },
    {
      "cell_type": "code",
      "metadata": {
        "id": "jwWg2pDYq7hY"
      },
      "source": [
        "len(planetas)"
      ],
      "execution_count": null,
      "outputs": []
    },
    {
      "cell_type": "code",
      "metadata": {
        "id": "LNtOFVD5q7hY"
      },
      "source": [
        "planetas[0]"
      ],
      "execution_count": null,
      "outputs": []
    },
    {
      "cell_type": "code",
      "metadata": {
        "id": "nUaJZbAJq7hZ"
      },
      "source": [
        "planetas[1]"
      ],
      "execution_count": null,
      "outputs": []
    },
    {
      "cell_type": "code",
      "metadata": {
        "id": "PFxnxM5Pq7hZ"
      },
      "source": [
        "for planeta in planetas:\n",
        "    print(planeta)"
      ],
      "execution_count": null,
      "outputs": []
    },
    {
      "cell_type": "code",
      "metadata": {
        "id": "xE4PZVJ3q7hZ"
      },
      "source": [
        "for i, planeta in enumerate(planetas):\n",
        "    print(i, planeta)"
      ],
      "execution_count": null,
      "outputs": []
    },
    {
      "cell_type": "code",
      "metadata": {
        "id": "j3ohmuSBq7ha"
      },
      "source": [
        "# Respuesta Isabel :\n",
        "#he creado un diccionario a partir de la lista de planetas.\n",
        "planets={1:\"Mercurio\",2:\"Venus\",3:\"Tierra\",4:\"Marte\"}\n",
        "user=int(input(\"¿Qué planeta quieres mostras?: introduce 1 para Mercurio, 2 para Venus, 3 para Tierra, 4 para Marte :\"))\n",
        "if user in planets:\n",
        "  print(\"El planeta seleccionado es :\", planets[user])\n",
        "else:\n",
        "  print(\"Introduce un número correcto\")"
      ],
      "execution_count": null,
      "outputs": []
    },
    {
      "cell_type": "code",
      "metadata": {
        "id": "HOAqj_7DIh0W"
      },
      "source": [
        "#voy a introducir una excepción si el usuario introduce un numero que no sea del 1 al 4.\n",
        "#en este caso fue un KeyError.\n",
        "\n",
        "# Otra forma de ver el anterior código:\n",
        "planets={1:\"Mercurio\",2:\"Venus\",3:\"Tierra\",4:\"Marte\"}\n",
        "try:\n",
        "  user=int(input(\"¿Qué planeta quieres mostras?: introduce 1 para Mercurio, 2 para Venus, 3 para Tierra, 4 para Marte :\"))\n",
        "  print(planets[user])\n",
        "except KeyError:\n",
        "  print(\"Introduce un numero del 1 al 4 , por favor. \")\n"
      ],
      "execution_count": null,
      "outputs": []
    },
    {
      "cell_type": "markdown",
      "metadata": {
        "id": "95aiEZaXq7ha"
      },
      "source": [
        "### Ejercicio 2\n",
        "\n",
        "Dada una lista de planetas del sistema solar, determinad cuales de estos planetas tienen una masa superior a la de la Tierra. Por ejemplo, si la lista inicial es `['Venus', 'Marte', 'Saturno']`, el resultado que mostraríamos por pantalla sería `['Saturno']` ya que el planeta Saturno tiene una masa `95.2` veces superior a la Tierra.\n",
        "\n",
        "Consideraciones:\n",
        "\n",
        "- Debéis tener en cuenta que el nombre de los planetas que nos pasan por parámetro puede estar en minúsculas, mayúsculas o una combinación de ambas.\n",
        "- Podéis asumir que no habrá acentos en el nombre de los planetas.\n",
        "- Debéis determinar aquellos planetas que tiene una massa estrictamente superior a la de la Tierra.\n",
        "- No habrá planetas repetidos en la lista que nos pasan por parámetro.\n"
      ]
    },
    {
      "cell_type": "code",
      "metadata": {
        "id": "oFgajRKpq7ha"
      },
      "source": [
        "masas = {'Mercurio': 0.06, 'Venus': 0.82, 'Tierra': 1, 'Marte': 0.11, 'Jupiter': 317.8, \n",
        "          'Saturno': 95.2, 'Urano': 14.6, 'Neptuno': 17.2, 'Pluto': 0.0022}"
      ],
      "execution_count": null,
      "outputs": []
    },
    {
      "cell_type": "code",
      "metadata": {
        "id": "Y6Qf38V9q7ha"
      },
      "source": [
        "type(masas)"
      ],
      "execution_count": null,
      "outputs": []
    },
    {
      "cell_type": "code",
      "metadata": {
        "id": "TcQ9i16Mq7hb"
      },
      "source": [
        "len(masas)"
      ],
      "execution_count": null,
      "outputs": []
    },
    {
      "cell_type": "code",
      "metadata": {
        "id": "-WyRcHCkq7hd"
      },
      "source": [
        "# Llamar el primer elemento del diccionario\n",
        "masas ['Mercurio']"
      ],
      "execution_count": null,
      "outputs": []
    },
    {
      "cell_type": "code",
      "metadata": {
        "id": "1WlcXE2Wq7hd"
      },
      "source": [
        "masas.keys()"
      ],
      "execution_count": null,
      "outputs": []
    },
    {
      "cell_type": "code",
      "metadata": {
        "id": "bGqfq_Liq7hd"
      },
      "source": [
        "masas.values()"
      ],
      "execution_count": null,
      "outputs": []
    },
    {
      "cell_type": "code",
      "metadata": {
        "attributes": {
          "classes": [
            "sourceCode"
          ],
          "id": ""
        },
        "id": "M37R5RkDq7he",
        "colab": {
          "base_uri": "https://localhost:8080/",
          "height": 135
        },
        "outputId": "10bcf678-097b-4524-9408-79e9d0848f86"
      },
      "source": [
        "# Masas medidas con respecto a la Tierra\n",
        "# Es decir, un valor de 14.6 representaria una masa 14.6 veces superior a la de la Tierra\n",
        "masas = {'Mercurio': 0.06, 'Venus': 0.82, 'Tierra': 1, 'Marte': 0.11, 'Jupiter': 317.8, \n",
        "          'Saturno': 95.2, 'Urano': 14.6, 'Neptuno': 17.2, 'Pluto': 0.0022}\n",
        "\n",
        "planetas_masa_superior = []\n",
        "\n",
        "masa_Tierra = masas['Tierra']\n",
        "for planeta in planetas:\n",
        "  masa_planeta = masas[planeta.capitalize()]\n",
        "  if masa_planeta > masa_Tierra:\n",
        "    planetas_masa_superior.append(planeta)\n",
        "  return planetas_masa_superior"
      ],
      "execution_count": null,
      "outputs": [
        {
          "output_type": "error",
          "ename": "SyntaxError",
          "evalue": "ignored",
          "traceback": [
            "\u001b[0;36m  File \u001b[0;32m\"<ipython-input-16-ba91318bf633>\"\u001b[0;36m, line \u001b[0;32m13\u001b[0m\n\u001b[0;31m    return planetas_masa_superior\u001b[0m\n\u001b[0m    ^\u001b[0m\n\u001b[0;31mSyntaxError\u001b[0m\u001b[0;31m:\u001b[0m 'return' outside function\n"
          ]
        }
      ]
    },
    {
      "cell_type": "markdown",
      "metadata": {
        "id": "ZTB9YJdkq7hf"
      },
      "source": [
        "\n",
        "# Ejercicio 3\n",
        "\n",
        "Completad las siguientes funciones y documentad el código si lo consideráis oportuno. Finalmente, escribid al menos un ejemplo de uso para cada función.\n"
      ]
    },
    {
      "cell_type": "markdown",
      "metadata": {
        "id": "6kPhlNe9lcwi"
      },
      "source": [
        "\"\"\"Función que calcula la altura en un movimiento de caída libre\n",
        "\n",
        "Suponemos que dejamos caer un objeto des de un edificio de altura desconocida.\n",
        "El parámetro duracion_caida nos indica el tiempo (en segundos) que tarda el objeto en llegar a \n",
        "la tierra. La función debería calcular la altura del edificio des del cual se ha \n",
        "lanzado el objeto.\n",
        "\n",
        "Podéis encontrar más información sobre el movimiento de caída libre en el siguiente \n",
        "enlace: https://www.fisicalab.com/apartado/caida-libre#contenidos.\n",
        "\"\"\"\n",
        "\n",
        "# h= vi*t + 1/2 g*t ^2\n",
        "altura= (velocidad inicial * tiempo)+(1/2 gravedad* tiempo al cuadrado)\n",
        "\n",
        "\n",
        "Vi=0\n",
        "\n",
        "\n",
        "h=(1/2 gravedad* tiempo al cuadrado)"
      ]
    },
    {
      "cell_type": "code",
      "metadata": {
        "id": "ZoyU1O7OkzSS",
        "colab": {
          "base_uri": "https://localhost:8080/"
        },
        "outputId": "0610da77-b919-4fd6-a486-52d96722e81b"
      },
      "source": [
        "# Completad las funciones matemáticas siguientes\n",
        "import math\n",
        "\n",
        "# Definimos las variables que intervendran en la equación\n",
        "def calcular_altura_caida_libre(duracion_caida):\n",
        "  calcular_altura_caida_libre = (1/2)*gravedad*(duracion_caida**2)\n",
        "  return calcular_altura_caida_libre\n",
        "#la gravedad es una constante= 9.8 metros por segundos.\n",
        "gravedad=9.8\n",
        "#Introducir el tiempo que tarda el objeto en caer # por ejemplo 10 y 1.5.\n",
        "duracion_caida= float(input(\"Introducir los segundos que el objeto ha tardado en llegar al suelo :\"))\n",
        "\n",
        "#Imprimos en consola la distancia que recorre el objeto en la caida libre:\n",
        "print(\"El objeto se ha dejado caer desde una altura de  \",calcular_altura_caida_libre )"
      ],
      "execution_count": null,
      "outputs": [
        {
          "output_type": "stream",
          "name": "stdout",
          "text": [
            "Introducir los segundos que el objeto ha tardado en llegar al suelo :10\n",
            "El objeto se ha dejado caer desde una altura de   <function calcular_altura_caida_libre at 0x7f4175d63e60>\n"
          ]
        }
      ]
    },
    {
      "cell_type": "code",
      "metadata": {
        "id": "qbpqrVV5sPXy",
        "colab": {
          "base_uri": "https://localhost:8080/"
        },
        "outputId": "d460706f-0076-4f91-9eb3-7ff29f536e03"
      },
      "source": [
        "# Escribid aquí al menos un ejemplo de uso utilizando las funciones anteriores. Por ejemplo:\n",
        "print(\"El objeto se ha dejado caer des de una altura de %f metros\" % calcular_altura_caida_libre(10))\n",
        "print(\"El objeto se ha dejado caer des de una altura de %f metros\" % calcular_altura_caida_libre(1.5))"
      ],
      "execution_count": null,
      "outputs": [
        {
          "output_type": "stream",
          "name": "stdout",
          "text": [
            "El objeto se ha dejado caer des de una altura de 490.000000 metros\n",
            "El objeto se ha dejado caer des de una altura de 11.025000 metros\n"
          ]
        }
      ]
    },
    {
      "cell_type": "markdown",
      "metadata": {
        "id": "k2ny8DyWscGW"
      },
      "source": [
        "\"\"\"Función que calcula las coordenadas cartesianas de un punto representado en coordenadas polares\n",
        "\n",
        "Dado un punto representado por sus coordenadas polares (radio y angulo), la función debería calcular \n",
        "las correspondientes coordenadas cartesianas y devolver una tupla con su valor.\n",
        "\n",
        "Podéis encontrar más información sobre el sistema de coordenadas polares y su conversión al sistema \n",
        "cartesiano en el siguiente enlace: https://es.wikipedia.org/wiki/Coordenadas_polares.\n",
        "\"\"\"\n",
        "\n",
        "print(\"Las coordenadas en el sistema cartesiano del punto (13, 23) son (%f, %f).\" % calcular_coordenadas_cartesianas(13, 23))\n",
        "print(\"Las coordenadas en el sistema cartesiano del punto (5, 90) son (%f, %f).\" % calcular_coordenadas_cartesianas(5, 90))"
      ]
    },
    {
      "cell_type": "code",
      "metadata": {
        "id": "_jmk3HRDsoNN",
        "colab": {
          "base_uri": "https://localhost:8080/"
        },
        "outputId": "37784698-b9dc-4393-e814-ce142942c6ec"
      },
      "source": [
        "import math\n",
        "def calcular_coordenadas_cartesianas(radio, angulo_en_grados):\n",
        "    # Convertimos el ángulo a radianes\n",
        "    #radio = 13,5,  angulo= 23,90\n",
        "    # angulo_radianes = math.radians(angulo_en_grados)\n",
        "    \n",
        "    x = radio * math.cos(math.degrees(angulo_en_grados))\n",
        "    y = radio * math.sin(math.degrees(angulo_en_grados))\n",
        "\n",
        "    return(x, y)\n",
        "\n",
        "radio=float(input(\"Introduce el valor del radio:\"))\n",
        "angulo_en_grados =float(input(\"Introduce el valor del ángulo en grados :\"))\n",
        "\n",
        "print(\"Para las coordenadas polares x = \", radio, \"y, y = \", angulo_en_grados, \" las coordenadas cartesianas son = \", calcular_coordenadas_cartesianas(radio, angulo_en_grados))"
      ],
      "execution_count": null,
      "outputs": [
        {
          "output_type": "stream",
          "name": "stdout",
          "text": [
            "Introduce el valor del radio:5\n",
            "Introduce el valor del ángulo en grados :23\n",
            "Para las coordenadas polares x =  5.0 y, y =  23.0  las coordenadas cartesianas son =  (-0.47522846511233113, -4.9773645542542875)\n"
          ]
        }
      ]
    },
    {
      "cell_type": "markdown",
      "metadata": {
        "id": "8mRRLG7_q7hf"
      },
      "source": [
        "### Ejercicio 4\n",
        "\n",
        "Escribid una función que dado un número entero positivo, `N`, genere un fichero con el nombre `output.txt` que contendrá `N` líneas, donde cada línea deberá mostrar una número consecutivo de letras `A`.\n",
        "\n",
        "Por ejemplo, si `N = 4`, el fichero generado deberá contener el siguiente contenido:\n",
        "\n",
        "```\n",
        "A\n",
        "AA\n",
        "AAA\n",
        "AAAA\n",
        "```\n"
      ]
    },
    {
      "cell_type": "code",
      "metadata": {
        "attributes": {
          "classes": [
            "sourceCode"
          ],
          "id": ""
        },
        "id": "Bbj3EZf5q7hf",
        "colab": {
          "base_uri": "https://localhost:8080/"
        },
        "outputId": "f4cead16-3d67-444a-b1eb-0a6544a8949d"
      },
      "source": [
        "# Respuesta Isabel :\n",
        "#Creamos el fichero.(Trabajamos con el modulo io de la biblioteca standard python)\n",
        "from io import open\n",
        "#Creamos y abrimos el fichero de texto. Generamos write para escribir en éste el código.\n",
        "archivo_texto=open(\"output.txt\",\"w\")\n",
        "\n",
        "#CONTENIDO DEL FICHERO.\n",
        "n= int(input(\"Ingrese un numero positivo:\"))\n",
        "#condición del número positivo.\n",
        "if n >0:\n",
        "  for i in range(1,n+1):#para ir sumandole 1 en cada vuelta de bucle\n",
        "    print(\"\")\n",
        "    #hacemos un bucle dentro del otro bucle.\n",
        "    for j in range (1,i+1):#para imprimir cada fila de numero que vamos sumando,en la escalera.\n",
        "      print(j, end=\"\")\n",
        "else:\n",
        "  print(\"Introduce un número positivo\")\n",
        "\n",
        "#Cerramos el fichero de texto.\n",
        "archivo_texto.close()\n",
        "\n"
      ],
      "execution_count": null,
      "outputs": [
        {
          "output_type": "stream",
          "name": "stdout",
          "text": [
            "Ingrese un numero positivo:4\n",
            "\n",
            "1\n",
            "12\n",
            "123\n",
            "1234"
          ]
        }
      ]
    },
    {
      "cell_type": "markdown",
      "metadata": {
        "id": "YiCa8_tQq7hf"
      },
      "source": [
        "### Ejercicio 5 \n",
        "\n",
        "Dada una cadena de caracteres, `s`, de longitud `n` y un número entero positivo `k`, siendo `k` un divisor de `n`, podemos dividir la cadena `s` en `n / k` sub-cadenas de la misma longitud.\n",
        "\n",
        "Escribid una función que, dada una cadena `s` y un número entero `k`, devuelva las `n/k` sub-cadenas teniendo en cuenta las siguientes consideraciones:\n",
        "\n",
        "- El orden de los caracteres en las sub-cadenas debe ser el mismo que en la cadena original.\n",
        "- Todos los caracteres de las sub-cadenas deben aparecer una única vez. Es decir, si un caracter se repite dentro de una sub-cadena, sólo hemos de mostrar la primera ocurrencia.\n",
        "\n",
        "Por ejemplo, si tenemmos\n",
        "<code>\n",
        "s = AABCCAADA\n",
        "k = 3\n",
        "</code>\n",
        "\n",
        "el resultado a mostrar por pantalla sería:\n",
        "<code>\n",
        "AB\n",
        "CA\n",
        "AD\n",
        "</code>\n",
        "\n",
        "Tenemos que la longitud de la cadena es 9 y por lo tanto, podemos formar 3 sub-cadenas:\n",
        "\n",
        "`AAB -> AB` (el caracter A se repite dos veces)\n",
        "\n",
        "`CCA -> CA` (el caracter C se repite dos veces)\n",
        "\n",
        "`ADA -> AD` (el caracter A se repite dos veces)\n"
      ]
    },
    {
      "cell_type": "code",
      "metadata": {
        "id": "eU3mFi6Rq7hg",
        "colab": {
          "base_uri": "https://localhost:8080/"
        },
        "outputId": "0eaac368-24c9-4e7d-9742-97cf2af504bb"
      },
      "source": [
        "# Respuesta\n",
        "#creamos una cadena con x elementos\n",
        "s=\"AABCCAADA\"\n",
        "n=len(s)\n",
        "print(n)"
      ],
      "execution_count": 17,
      "outputs": [
        {
          "output_type": "stream",
          "name": "stdout",
          "text": [
            "9\n"
          ]
        }
      ]
    },
    {
      "cell_type": "code",
      "source": [
        "sub1=s[1:3]\n",
        "sub2=s[4:6]\n",
        "sub3=s[6:8]\n",
        "print(sub1)\n",
        "print(sub2)\n",
        "print(sub3) "
      ],
      "metadata": {
        "colab": {
          "base_uri": "https://localhost:8080/"
        },
        "id": "3OXjSSswMH74",
        "outputId": "00a077cc-71fb-496c-ba72-5565ef2b3151"
      },
      "execution_count": 18,
      "outputs": [
        {
          "output_type": "stream",
          "name": "stdout",
          "text": [
            "AB\n",
            "CA\n",
            "AD\n"
          ]
        }
      ]
    }
  ]
}