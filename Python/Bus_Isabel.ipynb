{
  "nbformat": 4,
  "nbformat_minor": 0,
  "metadata": {
    "kernelspec": {
      "display_name": "Python 3",
      "language": "python",
      "name": "python3"
    },
    "language_info": {
      "codemirror_mode": {
        "name": "ipython",
        "version": 3
      },
      "file_extension": ".py",
      "mimetype": "text/x-python",
      "name": "python",
      "nbconvert_exporter": "python",
      "pygments_lexer": "ipython3",
      "version": "3.6.7"
    },
    "colab": {
      "name": "bus.ipynb",
      "provenance": [],
      "collapsed_sections": []
    }
  },
  "cells": [
    {
      "cell_type": "markdown",
      "metadata": {
        "id": "xu1JxNSZOKif"
      },
      "source": [
        "# Bus\n",
        "\n",
        "Este bus tiene un sistema de control de subida y bajada de pasajeros para monitorizar el número de ocupantes que lleva y así detectar cuando hay un aforo demasiado alto. \n",
        "\n",
        "En cada parada la subida y bajada de pasajeros se representa por una tupla compuesta por dos números enteros. \n",
        "```\n",
        "bus_stop = (in, out)\n",
        "```\n",
        "La sucesión de paradas se representa con una lista estas tuplas.\n",
        "```\n",
        "stops = [(in1, out1), (in2, out2), (in3, out3), (in4, out4)]\n",
        "```\n",
        "\n",
        "## Objetivos: \n",
        "* listas, tuplas\n",
        "* bucles while/for\n",
        "* mínimo, máximo, longitud\n",
        "* media, desviación estandard\n",
        "\n",
        "## Tareas\n",
        "1. Calcula el número de paradas. \n",
        "2. Asigna a una variable una lista cuyos elementos sean el número de pasajeros en cada parada (in-out), \n",
        "3. Halla el máximo de ocupación del autobús. \n",
        "4. Calcula la media de la ocupación. Y la desviación estandard. \n"
      ]
    },
    {
      "cell_type": "code",
      "metadata": {
        "colab": {
          "base_uri": "https://localhost:8080/"
        },
        "id": "s_AwOUu-OKis",
        "outputId": "d9a35e18-b247-4b0b-8734-fbc922d14e91"
      },
      "source": [
        "stops = [(10, 0), (4, 1), (3, 5), (3, 4), (5, 1), (1, 5), (5, 8), (4, 6), (2, 3)]\n",
        "\n",
        "# 1. Calcula el número de paradas. \n",
        "contador=len(stops)\n",
        "print(\" el numero de paradas de este autobus es :\", contador)\n"
      ],
      "execution_count": null,
      "outputs": [
        {
          "output_type": "stream",
          "name": "stdout",
          "text": [
            " el numero de paradas de este autobus es : 9\n"
          ]
        }
      ]
    },
    {
      "cell_type": "code",
      "metadata": {
        "colab": {
          "base_uri": "https://localhost:8080/"
        },
        "id": "VYUeEMgTOKiv",
        "outputId": "46894661-a6e5-44e8-d890-22d7002c588b"
      },
      "source": [
        "# 2. Asigna a una variable una lista cuyos elementos sean el número de pasajeros en \n",
        "# cada parada: Cada elemento depende del elemento previo en la lista + in - out. \n",
        "count=0\n",
        "for x in stops:\n",
        "  count+=1\n",
        "  ocupacion=x[0]-x[1]\n",
        "  print(\"El número de pasajeros subidos en \",count,\" parada es :\",ocupacion)"
      ],
      "execution_count": null,
      "outputs": [
        {
          "output_type": "stream",
          "name": "stdout",
          "text": [
            "El número de pasajeros subidos en  1  parada es : 10\n",
            "El número de pasajeros subidos en  2  parada es : 3\n",
            "El número de pasajeros subidos en  3  parada es : -2\n",
            "El número de pasajeros subidos en  4  parada es : -1\n",
            "El número de pasajeros subidos en  5  parada es : 4\n",
            "El número de pasajeros subidos en  6  parada es : -4\n",
            "El número de pasajeros subidos en  7  parada es : -3\n",
            "El número de pasajeros subidos en  8  parada es : -2\n",
            "El número de pasajeros subidos en  9  parada es : -1\n"
          ]
        }
      ]
    },
    {
      "cell_type": "code",
      "metadata": {
        "colab": {
          "base_uri": "https://localhost:8080/"
        },
        "id": "8aU4k9_VT0uR",
        "outputId": "180adc56-e496-4c22-b375-6c0e87ee8132"
      },
      "source": [
        "  ocupation = [0]\n",
        "for i, o in stops: \n",
        "    ocupation.append(ocupation[-1]+i-o)\n",
        "    print(ocupation)"
      ],
      "execution_count": null,
      "outputs": [
        {
          "output_type": "stream",
          "name": "stdout",
          "text": [
            "[0, 10]\n",
            "[0, 10, 13]\n",
            "[0, 10, 13, 11]\n",
            "[0, 10, 13, 11, 10]\n",
            "[0, 10, 13, 11, 10, 14]\n",
            "[0, 10, 13, 11, 10, 14, 10]\n",
            "[0, 10, 13, 11, 10, 14, 10, 7]\n",
            "[0, 10, 13, 11, 10, 14, 10, 7, 5]\n",
            "[0, 10, 13, 11, 10, 14, 10, 7, 5, 4]\n"
          ]
        }
      ]
    },
    {
      "cell_type": "code",
      "metadata": {
        "colab": {
          "base_uri": "https://localhost:8080/"
        },
        "id": "jf89LiaXyq_8",
        "outputId": "f6e669dd-d049-454d-d324-af236cfef9f5"
      },
      "source": [
        "ocupaciones=[10,3,-2,-1,4,-4,-3,-2,-1]\n",
        "count=sum(ocupaciones)\n",
        "print(\"en la ultima parada, habia montados \",count, \" pasajeros\")"
      ],
      "execution_count": null,
      "outputs": [
        {
          "output_type": "stream",
          "name": "stdout",
          "text": [
            "en la ultima parada, habia montados  4  pasajeros\n"
          ]
        }
      ]
    },
    {
      "cell_type": "code",
      "metadata": {
        "id": "fQ12fSBy5jp7"
      },
      "source": [
        "ocupaciones=[10,3,-2,-1,4,-4,-3,-2,-1]\n",
        "suma=0"
      ],
      "execution_count": null,
      "outputs": []
    },
    {
      "cell_type": "code",
      "metadata": {
        "id": "Ka2pUd4IOer_"
      },
      "source": [
        "# 3. Halla el máximo de ocupación del autobús. \n"
      ],
      "execution_count": null,
      "outputs": []
    },
    {
      "cell_type": "code",
      "metadata": {
        "id": "L15DUSyjOgih"
      },
      "source": [
        "# 4. Calcula la media de la ocupación. Y la desviación estandard"
      ],
      "execution_count": null,
      "outputs": []
    }
  ]
}