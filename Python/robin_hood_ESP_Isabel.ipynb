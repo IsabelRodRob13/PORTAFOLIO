{
  "nbformat": 4,
  "nbformat_minor": 0,
  "metadata": {
    "kernelspec": {
      "display_name": "Python 3",
      "language": "python",
      "name": "python3"
    },
    "language_info": {
      "codemirror_mode": {
        "name": "ipython",
        "version": 3
      },
      "file_extension": ".py",
      "mimetype": "text/x-python",
      "name": "python",
      "nbconvert_exporter": "python",
      "pygments_lexer": "ipython3",
      "version": "3.6.7"
    },
    "colab": {
      "name": "robin_hood_ESP.Isabel.ipynb",
      "provenance": [],
      "collapsed_sections": []
    }
  },
  "cells": [
    {
      "cell_type": "markdown",
      "metadata": {
        "id": "yTiGD67tjqwN"
      },
      "source": [
        "# Robin Hood: \n",
        "Estamos en plena competición para ganar el concurso de tiro con arco en Sherwood. Con nuestro arco y flechas disparamos sobre una diana e intentamos acertar lo más cerca posible del centro. \n",
        "\n",
        "El centro de la diana viene representado por los valores (0, 0) en los ejes de coordenadas. \n",
        "\n",
        "## Objetivos: \n",
        "* estructuras de datos: listas, conjuntos, tuplas\n",
        "* operadores lógicos: if-elif-else\n",
        "* bucle: while/for\n",
        "* cálculo de mínimo (sorting opcional)\n",
        "\n",
        "## Descripción: \n",
        "En el espacio de 2 dimensiones un punto se puede definir por un par de valores que corresponden a la coordenada horizontal (x) y a la vertical (y). El espacio puede quedar dividido en 4 zonas (cuadrantes): Q1, Q2, Q3, Q4. Cuyo punto de unión único es el punto (0, 0). \n",
        "\n",
        "Si un punto se encuentra en Q1 tanto su coordenada x como la y son positivas. Te dejo un enlace a wikipedia para que te familiarices con estos cuadrantes. \n",
        "\n",
        "https://es.wikipedia.org/wiki/Coordenadas_cartesianas\n",
        "\n",
        "https://es.wikipedia.org/wiki/Distancia_euclidiana\n",
        "\n",
        "## Tareas\n",
        "1. Robin Hood es famoso por acertar a una flecha con otra flecha. ¿Lo ha conseguido? \n",
        "2. Calcula cuántos flechazos han caido en cada cuadrante. \n",
        "3. Halla el punto más cercano al centro. Calcula su distancia al centro\n",
        "4. Si la diana tiene un radio de 9, calcula el número de flechas que hay que recoger al bosque. "
      ]
    },
    {
      "cell_type": "code",
      "metadata": {
        "colab": {
          "base_uri": "https://localhost:8080/"
        },
        "id": "Q3f63RREz47T",
        "outputId": "d25df1a9-3d3a-4f9e-e376-4863824a322e"
      },
      "source": [
        "puntos = [(4,5), (-0,2), (4,7), (1,-3), (3,-2), (4,5), \n",
        "          (3,2), (5,7), (-5,7), (2,2), (-4,5), (0,-2), \n",
        "          (-4,7), (-1,3), (-3,2), (-4,-5), (-3,2), \n",
        "          (5,7), (5,7), (2,2), (9, 9), (-8, -9)]\n",
        "\n",
        "# 1. Robin Hood es famoso por acertar a una flecha con otra flecha. ¿Lo ha conseguido? \n",
        "premio=[(0,0)]\n",
        "\n",
        "if premio == puntos:\n",
        "  print(\"muy bien, lo has conseguido\")\n",
        "else:\n",
        "    print(\"uy ,casi\")\n"
      ],
      "execution_count": 1,
      "outputs": [
        {
          "output_type": "stream",
          "name": "stdout",
          "text": [
            "uy ,casi\n"
          ]
        }
      ]
    },
    {
      "cell_type": "code",
      "metadata": {
        "colab": {
          "base_uri": "https://localhost:8080/"
        },
        "id": "yDPFOWjW0O4s",
        "outputId": "91153849-0fa7-445d-9500-c0aadfc3f26c"
      },
      "source": [
        "# 2. Calcula cuántos flechazos han caido en cada cuadrante. \n",
        "flechazos= len(puntos)\n",
        "print( \"Robin ha tirado :\", flechazos, \"veces \")"
      ],
      "execution_count": 2,
      "outputs": [
        {
          "output_type": "stream",
          "name": "stdout",
          "text": [
            "Robin ha tirado : 22 veces \n"
          ]
        }
      ]
    },
    {
      "cell_type": "code",
      "metadata": {
        "id": "o_xoMuDY3Z-R",
        "colab": {
          "base_uri": "https://localhost:8080/"
        },
        "outputId": "30dcbce1-60f1-4b86-9ac6-f5b1adca2c8f"
      },
      "source": [
        "Q_1 = 0\n",
        "Q_2 = 0\n",
        "Q_3 = 0\n",
        "Q_4 = 0\n",
        "# definimos cada cuadrante.\n",
        "# Ahora definimos la función para calcular cuantas flechas caen en cada cuadrante:\n",
        "for (X, Y) in puntos:\n",
        "    if X and Y >= 0:\n",
        "        Q_1 += 1\n",
        "    elif X >= 0 and Y <= 0:\n",
        "        Q_2 += 1\n",
        "    elif X <= 0 and Y <= 0:\n",
        "        Q_3 += 1\n",
        "    else:\n",
        "        Q_4 += 1\n",
        "        \n",
        "print(\"Número de flechas en cada cuadrante:\", '\\n', \"Q1:\", Q_1, '\\n', \"Q2:\", Q_2, '\\n', \"Q3:\", Q_3, '\\n', \"Q4:\", Q_4)\n",
        "\n"
      ],
      "execution_count": 3,
      "outputs": [
        {
          "output_type": "stream",
          "name": "stdout",
          "text": [
            "Número de flechas en cada cuadrante: \n",
            " Q1: 16 \n",
            " Q2: 3 \n",
            " Q3: 2 \n",
            " Q4: 1\n"
          ]
        }
      ]
    },
    {
      "cell_type": "code",
      "metadata": {
        "id": "1jCszlH7jqwe"
      },
      "source": [
        ""
      ],
      "execution_count": 5,
      "outputs": []
    }
  ]
}