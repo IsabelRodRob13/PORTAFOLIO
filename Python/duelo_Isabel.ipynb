{
  "nbformat": 4,
  "nbformat_minor": 0,
  "metadata": {
    "kernelspec": {
      "display_name": "Python 3",
      "language": "python",
      "name": "python3"
    },
    "language_info": {
      "codemirror_mode": {
        "name": "ipython",
        "version": 3
      },
      "file_extension": ".py",
      "mimetype": "text/x-python",
      "name": "python",
      "nbconvert_exporter": "python",
      "pygments_lexer": "ipython3",
      "version": "3.6.7"
    },
    "colab": {
      "name": "duelo_Isabel.ipynb",
      "provenance": [],
      "collapsed_sections": []
    }
  },
  "cells": [
    {
      "cell_type": "markdown",
      "metadata": {
        "id": "dUMCRg8n7Jtk"
      },
      "source": [
        "# Duelo de magos\n",
        "Estás presenciando una batalla épica entre dos poderosos magos: Gandalf y Saruman. Cada mago tiene 10 hechizos de potencia variable en su mente y los van a lanzar uno tras otro. El ganador del duelo será el que gane más de esos choques entre hechizos. Los hechizos se representan como una lista de 10 números enteros cuyo valor equivale a la potencia del hechizo. \n",
        "```\n",
        "gandalf = [10, 11, 13, 30, 22, 11, 10, 33, 22, 22]\n",
        "saruman = [23, 66, 12, 43, 12, 10, 44, 23, 12, 17]\n",
        "```\n",
        "Por ejemplo: \n",
        "1. El primer choque lo gana Saruman: 10 contra 23, gana el 23\n",
        "2. El segundo choque gana Saruman: 11 contra 66, gana el 66\n",
        "3. etc.\n",
        "\n",
        "\n",
        "Vas a crear dos variables, una por cada mago, donde se almacenarán la suma de choques de hechizos ganados. En función de qué variable sea mayor al final del duelo, mostrarás por pantalla uno de los tres siguientes resultados: \n",
        "* Gandalf gana\n",
        "* Saruman gana\n",
        "* Empate\n",
        "\n",
        "\n",
        "1. El primer choque lo gana Saruman: 10 contra 23, gana el 23\n",
        "2. El segundo choque gana Saruman: 11 contra 66, gana el 66\n",
        "3. etc."
      ]
    },
    {
      "cell_type": "markdown",
      "metadata": {
        "id": "rypVTWa97Jtx"
      },
      "source": [
        "## Solución"
      ]
    },
    {
      "cell_type": "code",
      "metadata": {
        "colab": {
          "base_uri": "https://localhost:8080/"
        },
        "id": "HwcaGY2R7Jtz",
        "outputId": "00a03492-6812-4ac1-bbf3-2df6520eed39"
      },
      "source": [
        "# Asignamos las listas de hechizos a variables\n",
        "gandalf = [10, 11, 13, 30, 22, 11, 10, 33, 22, 22]\n",
        "saruman = [23, 66, 12, 43, 12, 10, 44, 23, 12, 17]\n",
        "\n",
        "# Asignamos 0 a cada variable que almacena las victorias\n",
        "G_wins= 0\n",
        "S_wins= 0\n",
        "\n",
        "# **Ejecución de los choques de hechizos**\n",
        "#Batalla 1\n",
        "if gandalf[0]> saruman[0]:\n",
        "  print(\"Gandalf ha ganado la primera batalla\")\n",
        "if gandalf[0]< saruman[0]: \n",
        "     print(\"Saruman ha ganado la primera batalla\")\n",
        "else:\n",
        "  print(\"empate primera batalla\")\n",
        "\n",
        "# Comprobamos quién ha ganado, no olvides la posibilidad de empate. "
      ],
      "execution_count": 10,
      "outputs": [
        {
          "output_type": "stream",
          "name": "stdout",
          "text": [
            "Saruman ha ganado la primera batalla\n"
          ]
        }
      ]
    },
    {
      "cell_type": "code",
      "metadata": {
        "colab": {
          "base_uri": "https://localhost:8080/"
        },
        "id": "TxGF7zR2nBBC",
        "outputId": "9e00ea08-4cdc-4a9d-8c1a-ed81dafda2da"
      },
      "source": [
        "len(gandalf)# contamos el numero de batallas\n",
        "print(\"el numero de batalla jugadas es :\",len(gandalf))"
      ],
      "execution_count": 12,
      "outputs": [
        {
          "output_type": "stream",
          "name": "stdout",
          "text": [
            "el numero de batalla jugadas es : 10\n"
          ]
        }
      ]
    },
    {
      "cell_type": "code",
      "metadata": {
        "id": "gwSGaJ407Jt2",
        "colab": {
          "base_uri": "https://localhost:8080/"
        },
        "outputId": "fd337054-d019-4368-bc56-40da9dfa8e55"
      },
      "source": [
        "# Definimos función para determinar resultados de las batallas\n",
        "count = 0  \n",
        "for x,y in zip(gandalf,saruman):\n",
        "    count += 1\n",
        "    if x > y:\n",
        "      print(\" La \", count,\"Batalla ha ganado Gandalf con \",x ,\"puntos \")\n",
        "    if x < y: \n",
        "      print(\" La \",count,\"Batalla ha ganado Saruman con \",y ,\"puntos \")\n",
        "    if y==x:\n",
        "      print(\"empate primera batalla\")"
      ],
      "execution_count": 43,
      "outputs": [
        {
          "output_type": "stream",
          "name": "stdout",
          "text": [
            " La  1 Batalla ha ganado Saruman con  23 puntos \n",
            " La  2 Batalla ha ganado Saruman con  66 puntos \n",
            " La  3 Batalla ha ganado Gandalf con  13 puntos \n",
            " La  4 Batalla ha ganado Saruman con  43 puntos \n",
            " La  5 Batalla ha ganado Gandalf con  22 puntos \n",
            " La  6 Batalla ha ganado Gandalf con  11 puntos \n",
            " La  7 Batalla ha ganado Saruman con  44 puntos \n",
            " La  8 Batalla ha ganado Gandalf con  33 puntos \n",
            " La  9 Batalla ha ganado Gandalf con  22 puntos \n",
            " La  10 Batalla ha ganado Gandalf con  22 puntos \n"
          ]
        }
      ]
    }
  ]
}