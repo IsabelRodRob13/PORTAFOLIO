{
  "nbformat": 4,
  "nbformat_minor": 0,
  "metadata": {
    "colab": {
      "name": "Python_Isabel_1.ipynb",
      "provenance": [],
      "collapsed_sections": []
    },
    "kernelspec": {
      "name": "python3",
      "display_name": "Python 3"
    },
    "language_info": {
      "name": "python"
    }
  },
  "cells": [
    {
      "cell_type": "markdown",
      "source": [
        "### 1- Definir una función max() que tome como argumento dos números y devuelva el mayor de ellos. (Es cierto que python tiene una función max() incorporada, pero hacerla nosotros mismos es un muy buen ejercicio.\n",
        "\n"
      ],
      "metadata": {
        "id": "sQtci0OqWtEu"
      }
    },
    {
      "cell_type": "code",
      "execution_count": null,
      "metadata": {
        "id": "SAkAaogaWOkW"
      },
      "outputs": [],
      "source": [
        "def max(a,b):\n",
        "  if a >b:\n",
        "    print( a)\n",
        "  else:\n",
        "    print(b)"
      ]
    },
    {
      "cell_type": "code",
      "source": [
        "max(2,3)"
      ],
      "metadata": {
        "colab": {
          "base_uri": "https://localhost:8080/"
        },
        "id": "S10Dj7p3W7N0",
        "outputId": "1ab71058-fa23-40d6-b8f8-89a14a4bcd07"
      },
      "execution_count": null,
      "outputs": [
        {
          "output_type": "stream",
          "name": "stdout",
          "text": [
            "3\n"
          ]
        }
      ]
    },
    {
      "cell_type": "markdown",
      "source": [
        "### 2- Definir una función max_de_tres(), que tome tres números como argumentos y devuelva el mayor de ellos.\n",
        "\n"
      ],
      "metadata": {
        "id": "YtQ4_lwGXIGc"
      }
    },
    {
      "cell_type": "code",
      "source": [
        "def max_de_tres(a,b,c):\n",
        "  if a > b and c:\n",
        "    print(a)\n",
        "  elif b> c and a:\n",
        "    print(b)\n",
        "  else:\n",
        "    print(c)"
      ],
      "metadata": {
        "id": "tV6Tn424YPFF"
      },
      "execution_count": null,
      "outputs": []
    },
    {
      "cell_type": "code",
      "source": [
        "max_de_tres(7,2,3)"
      ],
      "metadata": {
        "colab": {
          "base_uri": "https://localhost:8080/"
        },
        "id": "kQjxbmvpYg6f",
        "outputId": "a5f3086f-ac81-4d61-a34b-5fc6ec379379"
      },
      "execution_count": null,
      "outputs": [
        {
          "output_type": "stream",
          "name": "stdout",
          "text": [
            "7\n"
          ]
        }
      ]
    },
    {
      "cell_type": "markdown",
      "source": [
        "### **3**- Definir una función que calcule la longitud de una lista o una cadena dada. (Es cierto que python tiene la función len() incorporada, pero escribirla por nosotros mismos resulta un muy buen ejercicio.\n",
        "\n"
      ],
      "metadata": {
        "id": "4llbtG4tY71w"
      }
    },
    {
      "cell_type": "code",
      "source": [
        "def largo_cadena (lista):\n",
        "    cont = 0\n",
        "    for i in lista:\n",
        "        cont += 1\n",
        "    return cont"
      ],
      "metadata": {
        "id": "hVSkfk71Y7eF"
      },
      "execution_count": null,
      "outputs": []
    },
    {
      "cell_type": "code",
      "source": [
        "print(largo_cadena (\"hola\"))"
      ],
      "metadata": {
        "colab": {
          "base_uri": "https://localhost:8080/"
        },
        "id": "HqOngo-VZ1H9",
        "outputId": "98c22e43-f3ca-4b26-be85-00a642c7a095"
      },
      "execution_count": null,
      "outputs": [
        {
          "output_type": "stream",
          "name": "stdout",
          "text": [
            "4\n"
          ]
        }
      ]
    },
    {
      "cell_type": "markdown",
      "source": [
        "### 4- Escribir una función que tome un carácter y devuelva True si es una vocal, de lo contrario devuelve False.\n",
        "\n"
      ],
      "metadata": {
        "id": "wLxNfwQPfZQs"
      }
    },
    {
      "cell_type": "code",
      "source": [
        "\n",
        "def Buscar(letra):\n",
        "  letra=False\n",
        "  if letra== \"a\" or letra==\"e\" or letra==\"i\" or letra==\"o\" or letra==\"u\":\n",
        "     letra=True\n",
        "     return letra\n",
        "  else:\n",
        "     letra=False\n"
      ],
      "metadata": {
        "id": "SueSqZCpfqM1"
      },
      "execution_count": null,
      "outputs": []
    },
    {
      "cell_type": "markdown",
      "source": [
        "### 5- Escribir una función sum() y una función multip() que sumen y multipliquen respectivamente todos los números de una lista. Por ejemplo: sum([1,2,3,4]) debería devolver 10 y multip([1,2,3,4]) debería devolver 24.\n",
        "\n"
      ],
      "metadata": {
        "id": "AsHxFtmOrMF6"
      }
    },
    {
      "cell_type": "code",
      "source": [
        "# initialize a list of integers\n",
        "num_list = [1,2,3,4]\n",
        "# initialize variable to hold the sum of list elements\n",
        "total = 0\n",
        "# iterate over the list\n",
        "for num in num_list:\n",
        "    # add current list element to the sum\n",
        "    total = total + num\n",
        "print(\"Sum of elements of list is\", total)"
      ],
      "metadata": {
        "id": "FpLi9Xg6qiAo",
        "colab": {
          "base_uri": "https://localhost:8080/"
        },
        "outputId": "c0d3e4c3-6049-43c6-b18b-691e2dd1f158"
      },
      "execution_count": null,
      "outputs": [
        {
          "output_type": "stream",
          "name": "stdout",
          "text": [
            "Sum of elements of list is 10\n"
          ]
        }
      ]
    },
    {
      "cell_type": "code",
      "source": [
        "# functions Suma\n",
        "def sum_of_list(l):\n",
        "  total=0\n",
        "  for val in l:\n",
        "    total= total+val\n",
        "  return total"
      ],
      "metadata": {
        "id": "l2wEf5CfhBce"
      },
      "execution_count": null,
      "outputs": []
    },
    {
      "cell_type": "code",
      "source": [
        "lista=[1,2,3,4]\n",
        "print(\" La suma de esta lista es :\" ,sum_of_list(lista))"
      ],
      "metadata": {
        "colab": {
          "base_uri": "https://localhost:8080/"
        },
        "id": "ACy164yTsLdN",
        "outputId": "fa97ce6e-e8d2-48d2-8584-a7cf33b83992"
      },
      "execution_count": null,
      "outputs": [
        {
          "output_type": "stream",
          "name": "stdout",
          "text": [
            " La suma de esta lista es : 10\n"
          ]
        }
      ]
    },
    {
      "cell_type": "code",
      "source": [
        "# functions Multiplication\n",
        "def multip_of_list(l):\n",
        "  total=1\n",
        "  for val in l:\n",
        "    total= total*val\n",
        "  return total"
      ],
      "metadata": {
        "id": "PHbnDFEvsnFt"
      },
      "execution_count": null,
      "outputs": []
    },
    {
      "cell_type": "code",
      "source": [
        "lista=[1,2,3,4]\n",
        "print(\" La suma de esta lista es :\" ,multip_of_list(lista))"
      ],
      "metadata": {
        "colab": {
          "base_uri": "https://localhost:8080/"
        },
        "id": "ztPg_12Vs8Fp",
        "outputId": "1de3544f-27d5-418b-e469-fb81fed363ae"
      },
      "execution_count": null,
      "outputs": [
        {
          "output_type": "stream",
          "name": "stdout",
          "text": [
            " La suma de esta lista es : 24\n"
          ]
        }
      ]
    },
    {
      "cell_type": "markdown",
      "source": [
        "### 6- Definir una función inversa() que calcule la inversión de una cadena. Por ejemplo la cadena \"estoy probando\" debería devolver la cadena \"odnaborp yotse\""
      ],
      "metadata": {
        "id": "aRmW_Xarb1SH"
      }
    },
    {
      "cell_type": "code",
      "source": [
        "cadena= \"estoy probando\"\n",
        "\n",
        "def devolver(cadena):\n",
        "  for i in cadena:\n",
        "    print(i) "
      ],
      "metadata": {
        "id": "mn9_cEjyvia4"
      },
      "execution_count": null,
      "outputs": []
    },
    {
      "cell_type": "code",
      "source": [
        "devolver(cadena)"
      ],
      "metadata": {
        "colab": {
          "base_uri": "https://localhost:8080/"
        },
        "id": "iq89NeRZv25W",
        "outputId": "f8829a9b-82ff-4df1-b43a-8314c1df4da1"
      },
      "execution_count": null,
      "outputs": [
        {
          "output_type": "stream",
          "name": "stdout",
          "text": [
            "e\n",
            "s\n",
            "t\n",
            "o\n",
            "y\n",
            " \n",
            "p\n",
            "r\n",
            "o\n",
            "b\n",
            "a\n",
            "n\n",
            "d\n",
            "o\n"
          ]
        }
      ]
    },
    {
      "cell_type": "code",
      "source": [
        "cadena= \"estoy probando\"[::-1]\n",
        "print(cadena)"
      ],
      "metadata": {
        "colab": {
          "base_uri": "https://localhost:8080/"
        },
        "id": "gXsJbRgUbdKB",
        "outputId": "d2953a26-524c-41b8-eb6a-0c6585584eb4"
      },
      "execution_count": null,
      "outputs": [
        {
          "output_type": "stream",
          "name": "stdout",
          "text": [
            "odnaborp yotse\n"
          ]
        }
      ]
    },
    {
      "cell_type": "code",
      "source": [
        "# Funtions reverse:\n",
        "def my_function(x):\n",
        "  return x[::-1]\n",
        "\n",
        "mytxt = my_function(\"estoy probando\")\n",
        "\n",
        "print(mytxt)"
      ],
      "metadata": {
        "colab": {
          "base_uri": "https://localhost:8080/"
        },
        "id": "FypU8AySc9SP",
        "outputId": "380fbd89-082c-43b4-e9be-2131e441bc36"
      },
      "execution_count": null,
      "outputs": [
        {
          "output_type": "stream",
          "name": "stdout",
          "text": [
            "odnaborp yotse\n"
          ]
        }
      ]
    },
    {
      "cell_type": "code",
      "source": [
        "def reverse_string(str):  \n",
        "    str1 = \"\"   # Declaring empty string to store the reversed string  \n",
        "    for i in str:  \n",
        "        str1 = i + str1  \n",
        "    return str1    # It will return the reverse string to the caller function  \n",
        "     \n",
        "str = \"estoy probando\"    # Given String       \n",
        "print(\"The original string is: \",str)  \n",
        "print(\"The reverse string is\",reverse_string(str)) # Function call  "
      ],
      "metadata": {
        "colab": {
          "base_uri": "https://localhost:8080/"
        },
        "id": "mnVO1sAUdnDl",
        "outputId": "3dfc897e-24e5-4687-aeb7-afe0767869d9"
      },
      "execution_count": null,
      "outputs": [
        {
          "output_type": "stream",
          "name": "stdout",
          "text": [
            "The original string is:  estoy probando\n",
            "The reverse string is odnaborp yotse\n"
          ]
        }
      ]
    },
    {
      "cell_type": "markdown",
      "source": [
        "### 7 - Definir una función es_palindromo() que reconoce palíndromos (es decir, palabras que tienen el mismo aspecto escritas invertidas), ejemplo: es_palindromo (\"radar\") tendría que devolver True."
      ],
      "metadata": {
        "id": "RhqnCvABvkX0"
      }
    },
    {
      "cell_type": "code",
      "source": [
        "def Palindromo(palabra):\n",
        "  if palabra== palabra[::-1]:\n",
        "    return True\n",
        "  else:\n",
        "    return False"
      ],
      "metadata": {
        "id": "pdl1JO-6dnBw"
      },
      "execution_count": null,
      "outputs": []
    },
    {
      "cell_type": "code",
      "source": [
        "palabra=\"radar\"\n",
        "Palindromo(palabra)"
      ],
      "metadata": {
        "colab": {
          "base_uri": "https://localhost:8080/"
        },
        "id": "pGFXGrZx0B73",
        "outputId": "9faa232a-f91c-4a4e-ada6-55d784cf608f"
      },
      "execution_count": null,
      "outputs": [
        {
          "output_type": "execute_result",
          "data": {
            "text/plain": [
              "True"
            ]
          },
          "metadata": {},
          "execution_count": 76
        }
      ]
    },
    {
      "cell_type": "code",
      "source": [
        "palabra=\"isabel\"\n",
        "Palindromo(palabra)"
      ],
      "metadata": {
        "colab": {
          "base_uri": "https://localhost:8080/"
        },
        "id": "C_8FuyXn0Tr0",
        "outputId": "29ba06f2-cb4c-4547-9a5a-d18f54df7bae"
      },
      "execution_count": null,
      "outputs": [
        {
          "output_type": "execute_result",
          "data": {
            "text/plain": [
              "False"
            ]
          },
          "metadata": {},
          "execution_count": 77
        }
      ]
    },
    {
      "cell_type": "markdown",
      "source": [
        "### 8- Definir una función superposicion() que tome dos listas y devuelva True si tienen al menos 1 miembro en común o devuelva False de lo contrario. Escribir la función usando el bucle for anidado."
      ],
      "metadata": {
        "id": "Ksg0AqymxGKC"
      }
    },
    {
      "cell_type": "code",
      "source": [
        "def superposicion (lista1, lista2):\n",
        "    for i in lista1:\n",
        "        for x in lista2:\n",
        "            if i == x:\n",
        "              return True\n",
        "    return False            "
      ],
      "metadata": {
        "id": "gHYZ6kZQxJEk"
      },
      "execution_count": 74,
      "outputs": []
    },
    {
      "cell_type": "code",
      "source": [
        "lista1=[1,2,3,4]\n",
        "lista2=[4,5,6,7]\n",
        "\n",
        "superposicion(lista1,lista2)"
      ],
      "metadata": {
        "colab": {
          "base_uri": "https://localhost:8080/"
        },
        "id": "7PbO5K72iL3N",
        "outputId": "3e7791b2-1ced-421b-a52a-3531a8ad035f"
      },
      "execution_count": 75,
      "outputs": [
        {
          "output_type": "execute_result",
          "data": {
            "text/plain": [
              "True"
            ]
          },
          "metadata": {},
          "execution_count": 75
        }
      ]
    },
    {
      "cell_type": "code",
      "source": [
        "lista_a=[1,2,3,4]\n",
        "lista_b=[5,6,7,8]\n",
        "\n",
        "superposicion(lista_a,lista_b)"
      ],
      "metadata": {
        "colab": {
          "base_uri": "https://localhost:8080/"
        },
        "id": "mP3AxMDii3x-",
        "outputId": "a8db6e0e-f24c-4a45-9fcf-7a63b94168dc"
      },
      "execution_count": 76,
      "outputs": [
        {
          "output_type": "execute_result",
          "data": {
            "text/plain": [
              "False"
            ]
          },
          "metadata": {},
          "execution_count": 76
        }
      ]
    },
    {
      "cell_type": "markdown",
      "source": [
        "### 9- Definir una función generar_n_caracteres() que tome un entero n y devuelva el caracter multiplicado por n. Por ejemplo: generar_n_caracteres(5, \"x\") debería devolver \"xxxxx\".\n",
        "\n"
      ],
      "metadata": {
        "id": "V_4UcieGxJkR"
      }
    },
    {
      "cell_type": "code",
      "source": [
        "def generar_n_caracteres(n):\n",
        "  result= 'X'*n\n",
        "  print(result)"
      ],
      "metadata": {
        "id": "ZuXzVrHfxM-A"
      },
      "execution_count": 110,
      "outputs": []
    },
    {
      "cell_type": "code",
      "source": [
        "generar_n_caracteres(5)"
      ],
      "metadata": {
        "colab": {
          "base_uri": "https://localhost:8080/"
        },
        "id": "y3PxdaMRrJrA",
        "outputId": "fce78577-4713-4326-b957-6b1da4878ce0"
      },
      "execution_count": 111,
      "outputs": [
        {
          "output_type": "stream",
          "name": "stdout",
          "text": [
            "XXXXX\n"
          ]
        }
      ]
    },
    {
      "cell_type": "markdown",
      "source": [
        "### 10- Definir un histograma procedimiento() que tome una lista de números enteros e imprima un histograma en la pantalla. Ejemplo: procedimiento([4, 9, 7]) debería imprimir lo siguiente:\n",
        "\n",
        " * * * *\n",
        " *********\n",
        " *******\n",
        "\n",
        "\n",
        "\n",
        "\n"
      ],
      "metadata": {
        "id": "bT9SsDSlxOBL"
      }
    },
    {
      "cell_type": "code",
      "source": [
        "vals=[4,9,7]\n",
        "\n",
        "for x in vals:\n",
        "  print(\"x\"*x)"
      ],
      "metadata": {
        "id": "lxv0lj5rxQ-c",
        "colab": {
          "base_uri": "https://localhost:8080/"
        },
        "outputId": "5abf5167-caac-43f0-d641-a2af753f59ae"
      },
      "execution_count": 114,
      "outputs": [
        {
          "output_type": "stream",
          "name": "stdout",
          "text": [
            "xxxx\n",
            "xxxxxxxxx\n",
            "xxxxxxx\n"
          ]
        }
      ]
    },
    {
      "cell_type": "code",
      "source": [
        "def procedimiento(vals):\n",
        "  for x in vals:\n",
        "   print(\"x\"*x)"
      ],
      "metadata": {
        "id": "X-FcKzI6vYKc"
      },
      "execution_count": 116,
      "outputs": []
    },
    {
      "cell_type": "code",
      "source": [
        "vals=[4,9,7]\n",
        "procedimiento(vals)"
      ],
      "metadata": {
        "colab": {
          "base_uri": "https://localhost:8080/"
        },
        "id": "PJLq5ehGv6RG",
        "outputId": "97f611cd-acbb-4122-a3df-575bfc00014a"
      },
      "execution_count": 118,
      "outputs": [
        {
          "output_type": "stream",
          "name": "stdout",
          "text": [
            "xxxx\n",
            "xxxxxxxxx\n",
            "xxxxxxx\n"
          ]
        }
      ]
    }
  ]
}