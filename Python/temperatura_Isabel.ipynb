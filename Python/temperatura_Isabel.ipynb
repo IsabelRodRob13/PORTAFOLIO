{
  "nbformat": 4,
  "nbformat_minor": 0,
  "metadata": {
    "kernelspec": {
      "display_name": "Python 3",
      "language": "python",
      "name": "python3"
    },
    "language_info": {
      "codemirror_mode": {
        "name": "ipython",
        "version": 3
      },
      "file_extension": ".py",
      "mimetype": "text/x-python",
      "name": "python",
      "nbconvert_exporter": "python",
      "pygments_lexer": "ipython3",
      "version": "3.8.6"
    },
    "colab": {
      "name": "temperatura.Isabel.ipynb",
      "provenance": [],
      "collapsed_sections": []
    }
  },
  "cells": [
    {
      "cell_type": "markdown",
      "metadata": {
        "id": "qAeE42w5sVaG"
      },
      "source": [
        "# Temperatura del procesador\n",
        "\n",
        "Tenemos un sensor de temperatura en el procesador el servidor de nuestra empresa. Queremos analizar los datos proporcionados para analizar si debemos cambiar de sistema de refrigeración por uno mejor. Es caro y como analista de datos no podemos tomar decisiones sin base. \n",
        "\n",
        "Proporcionamos las temperaturas medidas a lo largo de las 24 horas de un día en una estructura de datos tipo lista compuesta de 24 números enteros: \n",
        "```\n",
        "temperaturas_C = [33,66,65,0,59,60,62,64,70,76,80,69,80,83,68,79,61,53,50,49,53,48,45,39]\n",
        "```"
      ]
    },
    {
      "cell_type": "markdown",
      "metadata": {
        "id": "Lms1c8F-sVaI"
      },
      "source": [
        "## Gráfica de temperaturas\n",
        "Para facilitar el entendimiento se te muestra a continuación la gráfica de temperatura. No tienes que hacer nada en este apartado. La prueba empieza en **Problema**. "
      ]
    },
    {
      "cell_type": "code",
      "metadata": {
        "id": "G00isHpWsVaJ"
      },
      "source": [
        "# eje x, eje y\n",
        "y = [33,66,65,0,59,60,62,64,70,76,80,69,80,83,68,79,61,53,50,49,53,48,45,39]\n",
        "x = list(range(len(y)))"
      ],
      "execution_count": 6,
      "outputs": []
    },
    {
      "cell_type": "code",
      "metadata": {
        "id": "ZqlKY_nxsVaM",
        "outputId": "f3696f4a-aa0b-4a3f-d1a3-14b9e054a7c5",
        "colab": {
          "base_uri": "https://localhost:8080/"
        }
      },
      "source": [
        "x"
      ],
      "execution_count": 7,
      "outputs": [
        {
          "output_type": "execute_result",
          "data": {
            "text/plain": [
              "[0,\n",
              " 1,\n",
              " 2,\n",
              " 3,\n",
              " 4,\n",
              " 5,\n",
              " 6,\n",
              " 7,\n",
              " 8,\n",
              " 9,\n",
              " 10,\n",
              " 11,\n",
              " 12,\n",
              " 13,\n",
              " 14,\n",
              " 15,\n",
              " 16,\n",
              " 17,\n",
              " 18,\n",
              " 19,\n",
              " 20,\n",
              " 21,\n",
              " 22,\n",
              " 23]"
            ]
          },
          "metadata": {},
          "execution_count": 7
        }
      ]
    },
    {
      "cell_type": "code",
      "metadata": {
        "id": "1glynMW2sVaN",
        "outputId": "33156f87-e0bd-47d9-8261-55d16c6c885b",
        "colab": {
          "base_uri": "https://localhost:8080/",
          "height": 314
        }
      },
      "source": [
        "# imports\n",
        "import matplotlib.pyplot as plt\n",
        "%matplotlib inline\n",
        "\n",
        "# eje x, eje y\n",
        "y = [33,66,65,0,59,60,62,64,70,76,80,69,80,83,68,79,61,53,50,49,53,48,45,39]\n",
        "x = list(range(len(y)))\n",
        "\n",
        "# imprimir figura\n",
        "plt.plot(x, y)\n",
        "plt.axhline(y=70, linewidth=1, color='r')\n",
        "plt.xlabel('horas')\n",
        "plt.ylabel('Temperatura ºC')\n",
        "plt.title('Temperaturas de nuestro servidor a lo largo del día')"
      ],
      "execution_count": 8,
      "outputs": [
        {
          "output_type": "execute_result",
          "data": {
            "text/plain": [
              "Text(0.5, 1.0, 'Temperaturas de nuestro servidor a lo largo del día')"
            ]
          },
          "metadata": {},
          "execution_count": 8
        },
        {
          "output_type": "display_data",
          "data": {
            "image/png": "[encoded data removed]",
            "text/plain": [
              "<Figure size 432x288 with 1 Axes>"
            ]
          },
          "metadata": {
            "needs_background": "light"
          }
        }
      ]
    },
    {
      "cell_type": "markdown",
      "metadata": {
        "id": "Q0sWV53AsVaO"
      },
      "source": [
        "## Problema\n",
        "\n",
        "Si el sensor detecta más de 4 horas con temperaturas mayores o igual que 70ºC o alguna temperatura superior a 80ºC o la media fuera superior a 65ºC a lo largo de todo el día, deberemos dar la orden de cambiar el sistema de refrigeración para evitar dañar el procesador. \n",
        "\n",
        "Te vamos a guiar paso a paso para que puedas tomar la decisión calculando algunos pasos intermedios: \n",
        "\n",
        "1. Temperatura mínima\n",
        "2. Temperatura máxima\n",
        "3. Temperaturas igual o superior a 70ºC\n",
        "4. Media de temperaturas a lo largo del día. \n",
        "5. Si hubiera un fallo en el sensor a las 03:00 y no capturáramos el dato, ¿Cómo estímarias el valor que nos falta? Corrige ese valor en la lista de temperaturas. \n",
        "6. Bonus: Nuestro personal de mantenimiento es de Estados Unidos y no entiende el sistema métrico internacional. Pása las temperaturas a Grados Fahrenheit.\n",
        "\n",
        "Fórmula: F = 1.8 * C + 32\n",
        "\n",
        "web: https://es.wikipedia.org/wiki/Grado_Fahrenheit"
      ]
    },
    {
      "cell_type": "code",
      "metadata": {
        "colab": {
          "base_uri": "https://localhost:8080/"
        },
        "id": "ymvnD7SBMGJy",
        "outputId": "91b56489-7862-458e-f717-d0d4e7193e43"
      },
      "source": [
        "# asigna a una variable la lista de temperaturas\n",
        "temperaturas_C = [33,66,65,0,59,60,62,64,70,76,80,81,80,83,90,79,61,53,50,49,53,48,45,39]\n",
        "\n",
        "# 1. Calcula el minimo de la lista e imprime el valor con print()\n",
        "# temperatura minima\n",
        "print(min(temperaturas_C))"
      ],
      "execution_count": 9,
      "outputs": [
        {
          "output_type": "stream",
          "name": "stdout",
          "text": [
            "0\n"
          ]
        }
      ]
    },
    {
      "cell_type": "code",
      "metadata": {
        "colab": {
          "base_uri": "https://localhost:8080/"
        },
        "id": "JW2R7utxOQS7",
        "outputId": "00fb3e49-a26a-4e28-d407-86cd30e4a357"
      },
      "source": [
        "# 2. Calcula el máximo de la lista e imprime el valor con print()\n",
        "# temperatura maxima\n",
        "print(max(temperaturas_C))"
      ],
      "execution_count": 10,
      "outputs": [
        {
          "output_type": "stream",
          "name": "stdout",
          "text": [
            "90\n"
          ]
        }
      ]
    },
    {
      "cell_type": "code",
      "metadata": {
        "colab": {
          "base_uri": "https://localhost:8080/"
        },
        "id": "-yjoQwHdbrfv",
        "outputId": "cc0cb9ca-b373-493f-af96-9c2e67b50c22"
      },
      "source": [
        "\n",
        "# 3. Elementos de la lista que son mayores que 70ºC e imprime el resultado\n",
        "#temeraturas superiores a 70 grados\n",
        "for temp in temperaturas_C:\n",
        "  if temp >= 70:\n",
        "    print(temp)  "
      ],
      "execution_count": 11,
      "outputs": [
        {
          "output_type": "stream",
          "name": "stdout",
          "text": [
            "70\n",
            "76\n",
            "80\n",
            "81\n",
            "80\n",
            "83\n",
            "90\n",
            "79\n"
          ]
        }
      ]
    },
    {
      "cell_type": "code",
      "metadata": {
        "colab": {
          "base_uri": "https://localhost:8080/"
        },
        "id": "f7W7QlEylota",
        "outputId": "a3ad00a6-77b4-4e88-8e42-8a49bd8a4e3f"
      },
      "source": [
        "# 4. cálculo de la media de temperaturas a lo largo del día e imprime resultado\n",
        "mean= sum(temperaturas_C)/ len(temperaturas_C)\n",
        "print(mean)"
      ],
      "execution_count": 12,
      "outputs": [
        {
          "output_type": "stream",
          "name": "stdout",
          "text": [
            "60.25\n"
          ]
        }
      ]
    },
    {
      "cell_type": "code",
      "metadata": {
        "colab": {
          "base_uri": "https://localhost:8080/"
        },
        "id": "gBPaaPt4m5Ks",
        "outputId": "6e6dcfff-3315-4fc0-82cb-f486f1d065f2"
      },
      "source": [
        "# 5.1 Soluciona el fallo en el sensor estimando un valor.\n",
        "calor=70\n",
        "temperatura_70=[]\n",
        "for i in temperaturas_C:\n",
        "    if i >= calor:\n",
        "      temperatura_70.append(True)\n",
        "      print(len(temperatura_70))\n",
        "      print(\" Errores en la refrigeración\")\n",
        "    else:\n",
        "      print( \"Todo va bien\")"
      ],
      "execution_count": 34,
      "outputs": [
        {
          "output_type": "stream",
          "name": "stdout",
          "text": [
            "Todo va bien\n",
            "Todo va bien\n",
            "Todo va bien\n",
            "Todo va bien\n",
            "Todo va bien\n",
            "Todo va bien\n",
            "Todo va bien\n",
            "Todo va bien\n",
            "1\n",
            " Errores en la refrigeración\n",
            "2\n",
            " Errores en la refrigeración\n",
            "3\n",
            " Errores en la refrigeración\n",
            "4\n",
            " Errores en la refrigeración\n",
            "5\n",
            " Errores en la refrigeración\n",
            "6\n",
            " Errores en la refrigeración\n",
            "7\n",
            " Errores en la refrigeración\n",
            "8\n",
            " Errores en la refrigeración\n",
            "Todo va bien\n",
            "Todo va bien\n",
            "Todo va bien\n",
            "Todo va bien\n",
            "Todo va bien\n",
            "Todo va bien\n",
            "Todo va bien\n",
            "Todo va bien\n"
          ]
        }
      ]
    },
    {
      "cell_type": "code",
      "source": [
        "# 5.2 Actualización del valor estimado a las 03:00 en la lista"
      ],
      "metadata": {
        "id": "kvy81GCgdBV3"
      },
      "execution_count": null,
      "outputs": []
    },
    {
      "cell_type": "code",
      "metadata": {
        "id": "8glhP_BxsVaO",
        "colab": {
          "base_uri": "https://localhost:8080/"
        },
        "outputId": "54feddb2-1a4c-494e-9431-dcf2ea4842de"
      },
      "source": [
        "# Bonus: pasar la lista de ºC a grados Farenheit\n",
        "temperaturas_C = [33,66,65,0,59,60,62,64,70,76,80,81,80,83,90,79,61,53,50,49,53,48,45,39]\n",
        "for fare in temperaturas_C:\n",
        "  farenx=(fare *9/5)+32\n",
        "  print(farenx)"
      ],
      "execution_count": 42,
      "outputs": [
        {
          "output_type": "stream",
          "name": "stdout",
          "text": [
            "91.4\n",
            "150.8\n",
            "149.0\n",
            "32.0\n",
            "138.2\n",
            "140.0\n",
            "143.6\n",
            "147.2\n",
            "158.0\n",
            "168.8\n",
            "176.0\n",
            "177.8\n",
            "176.0\n",
            "181.4\n",
            "194.0\n",
            "174.2\n",
            "141.8\n",
            "127.4\n",
            "122.0\n",
            "120.2\n",
            "127.4\n",
            "118.4\n",
            "113.0\n",
            "102.2\n"
          ]
        }
      ]
    }
  ]
}