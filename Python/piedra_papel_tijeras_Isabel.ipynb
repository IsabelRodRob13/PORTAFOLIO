{
  "nbformat": 4,
  "nbformat_minor": 0,
  "metadata": {
    "kernelspec": {
      "display_name": "Python 3",
      "language": "python",
      "name": "python3"
    },
    "language_info": {
      "codemirror_mode": {
        "name": "ipython",
        "version": 3
      },
      "file_extension": ".py",
      "mimetype": "text/x-python",
      "name": "python",
      "nbconvert_exporter": "python",
      "pygments_lexer": "ipython3",
      "version": "3.8.6"
    },
    "colab": {
      "name": "piedra_papel_tijeras.Isabel.ipynb",
      "provenance": [],
      "collapsed_sections": []
    }
  },
  "cells": [
    {
      "cell_type": "markdown",
      "metadata": {
        "id": "vh9R3vZULZYi"
      },
      "source": [
        "# Piedra, papel, tijeras\n",
        "\n",
        "Vamos jugar contra nuestro ordenador al famoso juego. \n",
        "\n",
        "https://es.wikipedia.org/wiki/Piedra,_papel_o_tijera\n",
        "\n",
        "Se aconseja el uso de funciones"
      ]
    },
    {
      "cell_type": "code",
      "metadata": {
        "id": "HJYlkSjNoNfz"
      },
      "source": [
        "# Importa la función choice del módulo random\n",
        "import random  "
      ],
      "execution_count": 1,
      "outputs": []
    },
    {
      "cell_type": "code",
      "metadata": {
        "id": "lvvqvNTioTax"
      },
      "source": [
        "# Asigna a una lista las 3 posibles opciones: 'piedra', 'papel' o 'tijeras'. \n",
        "games=[\"piedra\", \"tijeras\", \"papel\"]"
      ],
      "execution_count": 2,
      "outputs": []
    },
    {
      "cell_type": "code",
      "metadata": {
        "id": "_LOFBvTxoTZN"
      },
      "source": [
        "# Asigna una variable al número de partidas máxima: 1, 3, 5, etc...\n",
        "max_game=5"
      ],
      "execution_count": 3,
      "outputs": []
    },
    {
      "cell_type": "code",
      "metadata": {
        "id": "aAVdj0yHoZ4L"
      },
      "source": [
        "# Asigna una variable al número de partidas que debe ganar un jugador para ganar. \n",
        "# Preferiblemente el valor será en función de el número de partidas máximas\n",
        "win=3"
      ],
      "execution_count": 4,
      "outputs": []
    },
    {
      "cell_type": "code",
      "metadata": {
        "colab": {
          "base_uri": "https://localhost:8080/"
        },
        "id": "wh0CB4tkoZ2c",
        "outputId": "364be22e-4ed1-4364-8111-d04e611b3383"
      },
      "source": [
        "# Define una función que pregunte tu elección: 'piedra', 'papel' o 'tijeras'\n",
        "# sólo debe permitir una de las 3 opciones. Esto es programación defensiva. \n",
        "# Si no es piedra, papel o tijeras sigue preguntando hasta que lo sea. \n",
        "\n",
        "user=str(input(\"Ahora es tu turno, introduce tu elección  ¿¿piedra, papel o tijeras ??: \"))\n",
        "\n",
        "if user in games:\n",
        "   print(user)\n",
        "   pass\n",
        "else:\n",
        "   print(f\"Introduce un elemento válido, por favor. Inténtalo otra vez \")\n",
        "   "
      ],
      "execution_count": 5,
      "outputs": [
        {
          "output_type": "stream",
          "name": "stdout",
          "text": [
            "Ahora es tu turno, introduce tu elección  ¿¿piedra, papel o tijeras ??: papel\n",
            "papel\n"
          ]
        }
      ]
    },
    {
      "cell_type": "code",
      "metadata": {
        "id": "_X6sXRsALZYo",
        "colab": {
          "base_uri": "https://localhost:8080/"
        },
        "outputId": "8633889a-760e-4000-e59c-82d9130a8646"
      },
      "source": [
        "\n",
        "# Define una función que devuelva aleatoriamente una de las 3 opciones. \n",
        "# Esto corresponderá a la jugada de la máquina. Totalmente aleatoria. \n",
        "maquina=random.choice(games)\n",
        "print(\"la máquina elige :\" ,maquina)"
      ],
      "execution_count": 6,
      "outputs": [
        {
          "output_type": "stream",
          "name": "stdout",
          "text": [
            "la máquina elige : papel\n"
          ]
        }
      ]
    },
    {
      "cell_type": "code",
      "metadata": {
        "id": "BUaxfO_G_aMp"
      },
      "source": [
        "# Define una función que resuelva un combate. \n",
        "def combate(user,maquina):\n",
        "  games=[\"piedra\", \"tijeras\", \"papel\"]\n",
        "  user=str(input(\"Ahora es tu turno, introduce tu elección  ¿¿piedra, papel o tijeras ??: \"))\n",
        "  maquina=random.choice(games)\n",
        "  print(\"la máquina elige :\" ,maquina)\n",
        "  opciones={'piedra':'tijeras','tijeras':'papel','papel':'piedra'}  # definimos un diccionario con las opciones de que vence a que:\n",
        "  if opciones[user]==maquina:\n",
        "    return(\"¡has ganado!\")\n",
        "  elif opciones[maquina]==user:\n",
        "    return(\"¡has perdido!\")\n",
        "  else:\n",
        "    return(\"EMPATE\")\n",
        "    "
      ],
      "execution_count": 7,
      "outputs": []
    },
    {
      "cell_type": "code",
      "metadata": {
        "colab": {
          "base_uri": "https://localhost:8080/",
          "height": 72
        },
        "id": "tPxbHwPgFQZ6",
        "outputId": "5616684c-7c9d-4c97-ff28-20a5d0d8632e"
      },
      "source": [
        "# jugamos una partida\n",
        "combate(user,maquina)"
      ],
      "execution_count": 8,
      "outputs": [
        {
          "output_type": "stream",
          "name": "stdout",
          "text": [
            "Ahora es tu turno, introduce tu elección  ¿¿piedra, papel o tijeras ??: papel\n",
            "la máquina elige : papel\n"
          ]
        },
        {
          "output_type": "execute_result",
          "data": {
            "application/vnd.google.colaboratory.intrinsic+json": {
              "type": "string"
            },
            "text/plain": [
              "'EMPATE'"
            ]
          },
          "metadata": {},
          "execution_count": 8
        }
      ]
    }
  ]
}