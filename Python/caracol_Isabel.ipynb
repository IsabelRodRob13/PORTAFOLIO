{
  "nbformat": 4,
  "nbformat_minor": 0,
  "metadata": {
    "kernelspec": {
      "display_name": "Python 3",
      "language": "python",
      "name": "python3"
    },
    "language_info": {
      "codemirror_mode": {
        "name": "ipython",
        "version": 3
      },
      "file_extension": ".py",
      "mimetype": "text/x-python",
      "name": "python",
      "nbconvert_exporter": "python",
      "pygments_lexer": "ipython3",
      "version": "3.8.6"
    },
    "colab": {
      "name": "caracol_Isabel.ipynb",
      "provenance": [],
      "collapsed_sections": []
    }
  },
  "cells": [
    {
      "cell_type": "markdown",
      "metadata": {
        "id": "IdC8lkUZcMLI"
      },
      "source": [
        "# 01 - Caracol y el pozo\n",
        "\n",
        "Un caracol cae en el fondo de un pozo de 125 cm. Cada día el caracol sube 30 cm. pero por la noche, mientras duerme, resbala 20 cm debido a que las paredes son húmedas. ¿Cuantos días tarda en escapar del pozo?\n",
        "\n",
        "TIP: https://www.vix.com/es/btg/curiosidades/59215/acertijos-matematicos-el-caracol-en-el-pozo-facil\n",
        "\n",
        "TIP: http://puzzles.nigelcoldwell.co.uk/sixtytwo.htm"
      ]
    },
    {
      "cell_type": "markdown",
      "metadata": {
        "id": "YshvUE1PcMLK"
      },
      "source": [
        "## Solución"
      ]
    },
    {
      "cell_type": "code",
      "metadata": {
        "colab": {
          "base_uri": "https://localhost:8080/"
        },
        "id": "saM5eIVacMLL",
        "outputId": "487a73cb-2921-478e-8c55-5d3c4f869c57"
      },
      "source": [
        "# Asigna los datos del problema a variables con nombres representativos\n",
        "# altura del pozo, avance diario, retroceso nocturno, distancia acumulada\n",
        "\n",
        "pozo= 125\n",
        "sube_daily=30\n",
        "baja_daily=20\n",
        "daily=sube_daily - baja_daily\n",
        "#Diariamente recorre 10 cm más que el anterior\n",
        "\n",
        "#numero de dias \n",
        "\n",
        "dia=0\n",
        "totalCms=0\n",
        "Caracol_atrapado= True\n",
        "\n",
        "# Asigna 0 a la variable que representa la solución\n",
        "\n",
        "# Escribe el código que soluciona el problema\n",
        "while Caracol_atrapado :\n",
        "  totalCms = totalCms + daily\n",
        "  dia= dia + 1\n",
        "\n",
        "  if totalCms >= pozo:\n",
        "    Caracol_atrapado = False\n",
        "\n",
        "# Imprime el resultado con print('Dias =', dias)\n",
        "\n",
        "print(\" el caracol salio del pozo el día :\", dia )\n",
        "\n"
      ],
      "execution_count": 6,
      "outputs": [
        {
          "output_type": "stream",
          "name": "stdout",
          "text": [
            " el caracol salio del pozo el día : 13\n"
          ]
        }
      ]
    },
    {
      "cell_type": "code",
      "metadata": {
        "id": "KKlzuE3H5yIR",
        "colab": {
          "base_uri": "https://localhost:8080/"
        },
        "outputId": "f594248f-73f4-4f6d-96ac-4a704451908d"
      },
      "source": [
        "# ¿Cuál es su máximo de desplazamiento en un día? ¿Y su mínimo?\n",
        "max= 30\n",
        "min=20\n",
        "\n",
        "# ¿Cuál es su media de avance?\n",
        "media=max-min\n",
        "print(\" SU media de avance es :\", media)\n",
        "\n",
        "# ¿Cuál es la desviación típica de su desplazamiento durante el día?\n",
        "desv_tipica=(dia-media)/(dia)\n",
        "print(\" La deviacion tipica de su desplazamiento durante el día es: \", desv_tipica)\n"
      ],
      "execution_count": 9,
      "outputs": [
        {
          "output_type": "stream",
          "name": "stdout",
          "text": [
            " SU media de avance es : 10\n",
            " La deviacion tipica de su desplazamiento durante el día es:  0.23076923076923078\n"
          ]
        }
      ]
    }
  ]
}