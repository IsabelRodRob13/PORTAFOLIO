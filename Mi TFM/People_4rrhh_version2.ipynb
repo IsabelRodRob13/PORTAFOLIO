{
  "nbformat": 4,
  "nbformat_minor": 0,
  "metadata": {
    "colab": {
      "name": "People_4rrhh_Oscar.ipynb",
      "provenance": [],
      "collapsed_sections": [
        "Z5ui4EzbjJ9_",
        "pp0YaZ_l5GyE",
        "Ia5B5iWY5-Mf",
        "JLA-8kkoR30U",
        "otuDAy0W6Bdb",
        "PLZ1rfe4K7se",
        "aNIE3nxWLsmV"
      ]
    },
    "kernelspec": {
      "name": "python3",
      "display_name": "Python 3"
    },
    "language_info": {
      "name": "python"
    }
  },
  "cells": [
    {
      "cell_type": "markdown",
      "metadata": {
        "id": "ms89Nkr1zS4M"
      },
      "source": [
        "# **People Analytics.**"
      ]
    },
    {
      "cell_type": "markdown",
      "metadata": {
        "id": "p7Du8MEG0Pyl"
      },
      "source": [
        "Introduccion (oreillys)."
      ]
    },
    {
      "cell_type": "markdown",
      "metadata": {
        "id": "vrQ38bnzzzvY"
      },
      "source": [
        "## Predecir la probabilidad de que un candidato busque un nuevo trabajo."
      ]
    },
    {
      "cell_type": "markdown",
      "metadata": {
        "id": "twJ8QsDgMRwO"
      },
      "source": [
        "![unnamed.jpg](data:image/jpeg;base64,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)"
      ]
    },
    {
      "cell_type": "markdown",
      "metadata": {
        "id": "98Cg45LTNNhf"
      },
      "source": [
        "Una empresa activa en Big Data y Data Science quiere contratar científicos de datos entre las personas que superan con éxito algunos cursos que imparte la empresa. Mucha gente se apunta a su formación. La empresa quiere saber cuáles de estos candidatos realmente quieren trabajar para la empresa después de la formación o buscaran un nuevo empleo porque ésto ayuda a reducir  costes y  tiempo, así como la calidad de la formación o la planificación de los cursos y la categorización de los candidatos. La información relacionada con la demografía, la educación y la experiencia está en manos de Recursos Humanos y la inscripción de los candidatos.\n",
        "\n",
        "Este conjunto de datos está diseñado para comprender los factores que llevan a una persona a dejar su trabajo actual para dedicarse también a investigaciones de recursos humanos. Por modelo (s) que utiliza las credenciales actuales, datos demográficos y datos de experiencia, podrá predecir la probabilidad de que un candidato busque un nuevo trabajo o trabaje para la empresa, además de interpretar los factores afectados en la decisión del empleado.\n",
        "\n",
        "* Nos encontramos ante un problema de Clasificación.\n",
        "* Desafios de este Conjunto de datos :\n",
        "  * El conjunto de datos está desequilibrado.\n",
        "  * La mayoría de las características son categóricas (nominal, ordinal, binaria).\n",
        "  * La imputación faltante.\n",
        "\n",
        "**Objetivo**\n",
        "\n",
        "Predecir la probabilidad de que un candidato trabaje para la empresa, despues de la formación o busque un nuevo trabajo.\n",
        "Interpretar el (los) modelo (s) de tal manera que ilustre qué características afectan la decisión del candidato\n",
        "Consulte la siguiente tarea para obtener más detalles:\n",
        "https://www.kaggle.com/arashnic/hr-analytics-job-change-of-data-scientists/tasks?taskId=3015.\n"
      ]
    },
    {
      "cell_type": "markdown",
      "metadata": {
        "id": "XvgjRAEjRwNI"
      },
      "source": [
        "**Objetivo: probabilidad de que un afiliado busque un cambio de trabajo**\n",
        "\n",
        " target:\n",
        "\n",
        "  0 – Not looking for job change,\n",
        "  \n",
        "  1 – Looking for a job change. ABANDONO.\n",
        "\n"
      ]
    },
    {
      "cell_type": "markdown",
      "metadata": {
        "id": "FjnDnx2KjJ9O"
      },
      "source": [
        "<a name=\"init\"></a>\n",
        "<h1> MI TFM</h1>\n",
        "\n",
        "\n",
        "<dl>\n",
        "  <dt><a href=\"#carga_datos\">1. Importación de librerias y Carga de datos</a></dt>\n",
        "      <dd>Breve Introducción del dataset</dd>\n",
        "    \n",
        "  <dt><a href=\"#target\">2. Target</a></\n",
        "  </dt>\n",
        "      <dd>Problema Machine Learning: Clasificación. Datos desbalanceados</dd>\n",
        "    \n",
        "  <dt><a href=\"#split_train_test\">3. Detección de anomalías</a></dt>\n",
        "      <dd>Missings. Duplicados. Eliminación de features. Outliers</dd>\n",
        "    \n",
        "  <dt><a href=\"#analisis\">4. Análisis y limpieza de los datos</a></dt>\n",
        "      <dd>Tratamiento de los missings. Análisis de las univariables y de las bivariables.</dd>\n",
        "    \n",
        "  <dt><a href=\"#ML\">5. Empezamos Machine Learning</a></dt>\n",
        "      <dd>Train, Test</dd>\n",
        "  \n",
        "    \n",
        "</dl>"
      ]
    },
    {
      "cell_type": "markdown",
      "metadata": {
        "id": "Z5ui4EzbjJ9_"
      },
      "source": [
        "<a name=\"carga_datos\"></a>\n",
        "<a href=\"#init\"><p style=\"text-align:right;\" href=\"#init\">Volver al índice</p></a> \n",
        "# 1. Importación de librerias y Carga de datos.\n",
        "Breve Introducción del dataset.\n",
        "\n",
        "<img src=\"./img/ml_types.png\" alt=\"drawing\" width=\"650\"/>\n",
        "\n"
      ]
    },
    {
      "cell_type": "code",
      "metadata": {
        "id": "9vYLow8YMPRt"
      },
      "source": [
        "# Importamos Librerias.\n",
        "\n",
        "# data analysis and wrangling\n",
        "import pandas as pd\n",
        "import numpy as np\n",
        "import random \n",
        "\n",
        "# visualization\n",
        "import seaborn as sns\n",
        "from scipy.stats import norm, skew\n",
        "from scipy import stats\n",
        "import matplotlib.pyplot as plt\n",
        "%matplotlib inline\n",
        "\n",
        "# machine learning\n",
        "from sklearn.linear_model import LogisticRegression\n",
        "from sklearn.svm import SVC\n",
        "from sklearn.svm import LinearSVC\n",
        "from sklearn.ensemble import RandomForestClassifier\n",
        "from sklearn.neighbors import KNeighborsClassifier\n",
        "from sklearn.naive_bayes import GaussianNB\n",
        "from sklearn.linear_model import Perceptron\n",
        "from sklearn.linear_model import SGDClassifier\n",
        "from sklearn.tree import DecisionTreeClassifier\n",
        "from sklearn.discriminant_analysis import LinearDiscriminantAnalysis\n",
        "from sklearn.neural_network import MLPClassifier\n",
        "\n",
        "## scikit modeling libraries\n",
        "from sklearn.ensemble import (RandomForestClassifier, AdaBoostClassifier,\n",
        "                             GradientBoostingClassifier, ExtraTreesClassifier,\n",
        "                             VotingClassifier)\n",
        "\n",
        "from sklearn.model_selection import (GridSearchCV, cross_val_score, cross_val_predict,\n",
        "                                     StratifiedKFold, learning_curve)\n",
        "\n",
        "## Load metrics for predictive modeling\n",
        "from sklearn.model_selection import train_test_split\n",
        "from sklearn.model_selection import cross_val_score\n",
        "from sklearn.metrics import classification_report\n",
        "from sklearn.metrics import confusion_matrix\n",
        "from sklearn.metrics import accuracy_score\n",
        "from sklearn.metrics import roc_curve, auc\n",
        "\n",
        "## Warnings and other tools\n",
        "import itertools\n",
        "import warnings\n",
        "warnings.filterwarnings(\"ignore\")"
      ],
      "execution_count": 1,
      "outputs": []
    },
    {
      "cell_type": "code",
      "metadata": {
        "colab": {
          "base_uri": "https://localhost:8080/"
        },
        "id": "qdY4nd3JJE-R",
        "outputId": "31b13059-8c30-4b03-ef25-d965fa2e0d4b"
      },
      "source": [
        "!unzip /content/RRHH_Proyecto_final.zip"
      ],
      "execution_count": 2,
      "outputs": [
        {
          "output_type": "stream",
          "name": "stdout",
          "text": [
            "Archive:  /content/RRHH_Proyecto_final.zip\n",
            "replace aug_test.csv? [y]es, [n]o, [A]ll, [N]one, [r]ename: A\n",
            "  inflating: aug_test.csv            \n",
            "  inflating: aug_train.csv           \n",
            "  inflating: sample_submission.csv   \n"
          ]
        }
      ]
    },
    {
      "cell_type": "code",
      "metadata": {
        "id": "iBuHUkRoJFqE"
      },
      "source": [
        "# Load dataset train \n",
        "df = pd.read_csv('aug_train.csv')\n"
      ],
      "execution_count": 3,
      "outputs": []
    },
    {
      "cell_type": "code",
      "metadata": {
        "colab": {
          "base_uri": "https://localhost:8080/",
          "height": 547
        },
        "id": "nH6HUxsKJI8j",
        "outputId": "d246fb19-031f-4185-a4cf-1954bf2bf43f"
      },
      "source": [
        "df.sort_values([\"enrollee_id\"])# comprobamos que en esta variable faltan valores."
      ],
      "execution_count": 4,
      "outputs": [
        {
          "output_type": "execute_result",
          "data": {
            "text/html": [
              "<div>\n",
              "<style scoped>\n",
              "    .dataframe tbody tr th:only-of-type {\n",
              "        vertical-align: middle;\n",
              "    }\n",
              "\n",
              "    .dataframe tbody tr th {\n",
              "        vertical-align: top;\n",
              "    }\n",
              "\n",
              "    .dataframe thead th {\n",
              "        text-align: right;\n",
              "    }\n",
              "</style>\n",
              "<table border=\"1\" class=\"dataframe\">\n",
              "  <thead>\n",
              "    <tr style=\"text-align: right;\">\n",
              "      <th></th>\n",
              "      <th>enrollee_id</th>\n",
              "      <th>city</th>\n",
              "      <th>city_development_index</th>\n",
              "      <th>gender</th>\n",
              "      <th>relevent_experience</th>\n",
              "      <th>enrolled_university</th>\n",
              "      <th>education_level</th>\n",
              "      <th>major_discipline</th>\n",
              "      <th>experience</th>\n",
              "      <th>company_size</th>\n",
              "      <th>company_type</th>\n",
              "      <th>last_new_job</th>\n",
              "      <th>training_hours</th>\n",
              "      <th>target</th>\n",
              "    </tr>\n",
              "  </thead>\n",
              "  <tbody>\n",
              "    <tr>\n",
              "      <th>17321</th>\n",
              "      <td>1</td>\n",
              "      <td>city_103</td>\n",
              "      <td>0.920</td>\n",
              "      <td>Male</td>\n",
              "      <td>No relevent experience</td>\n",
              "      <td>no_enrollment</td>\n",
              "      <td>High School</td>\n",
              "      <td>NaN</td>\n",
              "      <td>2</td>\n",
              "      <td>NaN</td>\n",
              "      <td>Pvt Ltd</td>\n",
              "      <td>never</td>\n",
              "      <td>150</td>\n",
              "      <td>0.0</td>\n",
              "    </tr>\n",
              "    <tr>\n",
              "      <th>6730</th>\n",
              "      <td>2</td>\n",
              "      <td>city_103</td>\n",
              "      <td>0.920</td>\n",
              "      <td>Male</td>\n",
              "      <td>No relevent experience</td>\n",
              "      <td>no_enrollment</td>\n",
              "      <td>Phd</td>\n",
              "      <td>STEM</td>\n",
              "      <td>15</td>\n",
              "      <td>10000+</td>\n",
              "      <td>NGO</td>\n",
              "      <td>3</td>\n",
              "      <td>128</td>\n",
              "      <td>1.0</td>\n",
              "    </tr>\n",
              "    <tr>\n",
              "      <th>10024</th>\n",
              "      <td>4</td>\n",
              "      <td>city_103</td>\n",
              "      <td>0.920</td>\n",
              "      <td>Male</td>\n",
              "      <td>No relevent experience</td>\n",
              "      <td>no_enrollment</td>\n",
              "      <td>Masters</td>\n",
              "      <td>STEM</td>\n",
              "      <td>9</td>\n",
              "      <td>50-99</td>\n",
              "      <td>Public Sector</td>\n",
              "      <td>&gt;4</td>\n",
              "      <td>13</td>\n",
              "      <td>0.0</td>\n",
              "    </tr>\n",
              "    <tr>\n",
              "      <th>15817</th>\n",
              "      <td>5</td>\n",
              "      <td>city_67</td>\n",
              "      <td>0.855</td>\n",
              "      <td>Male</td>\n",
              "      <td>Has relevent experience</td>\n",
              "      <td>no_enrollment</td>\n",
              "      <td>Masters</td>\n",
              "      <td>STEM</td>\n",
              "      <td>10</td>\n",
              "      <td>&lt;10</td>\n",
              "      <td>Early Stage Startup</td>\n",
              "      <td>1</td>\n",
              "      <td>12</td>\n",
              "      <td>0.0</td>\n",
              "    </tr>\n",
              "    <tr>\n",
              "      <th>4552</th>\n",
              "      <td>7</td>\n",
              "      <td>city_136</td>\n",
              "      <td>0.897</td>\n",
              "      <td>Male</td>\n",
              "      <td>Has relevent experience</td>\n",
              "      <td>Full time course</td>\n",
              "      <td>Masters</td>\n",
              "      <td>STEM</td>\n",
              "      <td>13</td>\n",
              "      <td>NaN</td>\n",
              "      <td>NaN</td>\n",
              "      <td>1</td>\n",
              "      <td>18</td>\n",
              "      <td>0.0</td>\n",
              "    </tr>\n",
              "    <tr>\n",
              "      <th>...</th>\n",
              "      <td>...</td>\n",
              "      <td>...</td>\n",
              "      <td>...</td>\n",
              "      <td>...</td>\n",
              "      <td>...</td>\n",
              "      <td>...</td>\n",
              "      <td>...</td>\n",
              "      <td>...</td>\n",
              "      <td>...</td>\n",
              "      <td>...</td>\n",
              "      <td>...</td>\n",
              "      <td>...</td>\n",
              "      <td>...</td>\n",
              "      <td>...</td>\n",
              "    </tr>\n",
              "    <tr>\n",
              "      <th>17935</th>\n",
              "      <td>33375</td>\n",
              "      <td>city_103</td>\n",
              "      <td>0.920</td>\n",
              "      <td>Male</td>\n",
              "      <td>Has relevent experience</td>\n",
              "      <td>no_enrollment</td>\n",
              "      <td>Graduate</td>\n",
              "      <td>STEM</td>\n",
              "      <td>16</td>\n",
              "      <td>50-99</td>\n",
              "      <td>Public Sector</td>\n",
              "      <td>1</td>\n",
              "      <td>51</td>\n",
              "      <td>0.0</td>\n",
              "    </tr>\n",
              "    <tr>\n",
              "      <th>5009</th>\n",
              "      <td>33376</td>\n",
              "      <td>city_16</td>\n",
              "      <td>0.910</td>\n",
              "      <td>Female</td>\n",
              "      <td>Has relevent experience</td>\n",
              "      <td>no_enrollment</td>\n",
              "      <td>Masters</td>\n",
              "      <td>Business Degree</td>\n",
              "      <td>8</td>\n",
              "      <td>1000-4999</td>\n",
              "      <td>Public Sector</td>\n",
              "      <td>4</td>\n",
              "      <td>74</td>\n",
              "      <td>0.0</td>\n",
              "    </tr>\n",
              "    <tr>\n",
              "      <th>3351</th>\n",
              "      <td>33377</td>\n",
              "      <td>city_65</td>\n",
              "      <td>0.802</td>\n",
              "      <td>Male</td>\n",
              "      <td>Has relevent experience</td>\n",
              "      <td>no_enrollment</td>\n",
              "      <td>Graduate</td>\n",
              "      <td>Other</td>\n",
              "      <td>10</td>\n",
              "      <td>100-500</td>\n",
              "      <td>Pvt Ltd</td>\n",
              "      <td>2</td>\n",
              "      <td>27</td>\n",
              "      <td>0.0</td>\n",
              "    </tr>\n",
              "    <tr>\n",
              "      <th>4756</th>\n",
              "      <td>33379</td>\n",
              "      <td>city_103</td>\n",
              "      <td>0.920</td>\n",
              "      <td>Male</td>\n",
              "      <td>Has relevent experience</td>\n",
              "      <td>no_enrollment</td>\n",
              "      <td>Graduate</td>\n",
              "      <td>STEM</td>\n",
              "      <td>18</td>\n",
              "      <td>&lt;10</td>\n",
              "      <td>Pvt Ltd</td>\n",
              "      <td>2</td>\n",
              "      <td>81</td>\n",
              "      <td>0.0</td>\n",
              "    </tr>\n",
              "    <tr>\n",
              "      <th>1663</th>\n",
              "      <td>33380</td>\n",
              "      <td>city_83</td>\n",
              "      <td>0.923</td>\n",
              "      <td>Male</td>\n",
              "      <td>No relevent experience</td>\n",
              "      <td>no_enrollment</td>\n",
              "      <td>Graduate</td>\n",
              "      <td>STEM</td>\n",
              "      <td>14</td>\n",
              "      <td>10000+</td>\n",
              "      <td>Pvt Ltd</td>\n",
              "      <td>2</td>\n",
              "      <td>168</td>\n",
              "      <td>0.0</td>\n",
              "    </tr>\n",
              "  </tbody>\n",
              "</table>\n",
              "<p>19158 rows × 14 columns</p>\n",
              "</div>"
            ],
            "text/plain": [
              "       enrollee_id      city  ...  training_hours target\n",
              "17321            1  city_103  ...             150    0.0\n",
              "6730             2  city_103  ...             128    1.0\n",
              "10024            4  city_103  ...              13    0.0\n",
              "15817            5   city_67  ...              12    0.0\n",
              "4552             7  city_136  ...              18    0.0\n",
              "...            ...       ...  ...             ...    ...\n",
              "17935        33375  city_103  ...              51    0.0\n",
              "5009         33376   city_16  ...              74    0.0\n",
              "3351         33377   city_65  ...              27    0.0\n",
              "4756         33379  city_103  ...              81    0.0\n",
              "1663         33380   city_83  ...             168    0.0\n",
              "\n",
              "[19158 rows x 14 columns]"
            ]
          },
          "metadata": {},
          "execution_count": 4
        }
      ]
    },
    {
      "cell_type": "code",
      "metadata": {
        "id": "DT_cxJZX85tZ"
      },
      "source": [
        "# eliminamos la columna enrolle_id ya que no nos aporta ningun valor y faltan algunos valores .\n",
        "df.drop([\"enrollee_id\"], axis = 'columns', inplace=True)\n"
      ],
      "execution_count": 5,
      "outputs": []
    },
    {
      "cell_type": "code",
      "metadata": {
        "colab": {
          "base_uri": "https://localhost:8080/"
        },
        "id": "Jf542-XnNnCo",
        "outputId": "2794ef1e-b8b9-4a5d-d9dc-2eae2cc92eb9"
      },
      "source": [
        "df.columns # vemos el nombre de las columnas de este dataset."
      ],
      "execution_count": 6,
      "outputs": [
        {
          "output_type": "execute_result",
          "data": {
            "text/plain": [
              "Index(['city', 'city_development_index', 'gender', 'relevent_experience',\n",
              "       'enrolled_university', 'education_level', 'major_discipline',\n",
              "       'experience', 'company_size', 'company_type', 'last_new_job',\n",
              "       'training_hours', 'target'],\n",
              "      dtype='object')"
            ]
          },
          "metadata": {},
          "execution_count": 6
        }
      ]
    },
    {
      "cell_type": "markdown",
      "metadata": {
        "id": "xnqT9s6iJdmk"
      },
      "source": [
        "**Features**\n",
        "\n",
        "* enrollee_id : ID único del candidato.\n",
        "\n",
        "* city: código de ciudad.\n",
        "\n",
        "* city_ development _index :  índice de desarrollo de la ciudad (escalado).\n",
        "\n",
        "* gender: género del candidato.\n",
        "\n",
        "* relevent_experience: experiencia relevante del candidato.\n",
        "\n",
        "* enrolled_university: tipo de curso universitario inscrito, si lo hubiera.\n",
        "\n",
        "* education_level: nivel de educación del candidato.\n",
        "\n",
        "* major_discipline :disciplina principal de educación del candidato.\n",
        "\n",
        "* experience: Experiencia total del candidato en años.\n",
        "\n",
        "* company_size: Número de empleados en la empresa del empleador actual\n",
        "\n",
        "* company_type : tipo de empleador actual.\n",
        "\n",
        "* lastnewjob: diferencia en años entre el trabajo anterior y el trabajo actual,es decir, cuantos años lleva en esta empresa.\n",
        "\n",
        "* training_hours: horas de formación completadas.\n",
        "\n",
        "* target: 0 - No busca un cambio de trabajo, 1 - Busca un cambio de trabajo.\n",
        "\n"
      ]
    },
    {
      "cell_type": "code",
      "metadata": {
        "colab": {
          "base_uri": "https://localhost:8080/"
        },
        "id": "5g7Vl70TrQHV",
        "outputId": "b278249e-7103-4f1a-a474-b1673c75e2d0"
      },
      "source": [
        "# Check dataframe basic info\n",
        "print(\"Dataset has {0} Rows\".format(df.shape[0]))\n",
        "print(\"Dataset has {0} Cols\".format(df.shape[1]))"
      ],
      "execution_count": 7,
      "outputs": [
        {
          "output_type": "stream",
          "name": "stdout",
          "text": [
            "Dataset has 19158 Rows\n",
            "Dataset has 13 Cols\n"
          ]
        }
      ]
    },
    {
      "cell_type": "code",
      "metadata": {
        "colab": {
          "base_uri": "https://localhost:8080/"
        },
        "id": "cIl6Y0KMKM9u",
        "outputId": "4e2ae715-a993-475c-eab2-355eecb1b23f"
      },
      "source": [
        " # Check unique values \n",
        "print (\"\\nUnique values :  \\n\",df.nunique())"
      ],
      "execution_count": 8,
      "outputs": [
        {
          "output_type": "stream",
          "name": "stdout",
          "text": [
            "\n",
            "Unique values :  \n",
            " city                      123\n",
            "city_development_index     93\n",
            "gender                      3\n",
            "relevent_experience         2\n",
            "enrolled_university         3\n",
            "education_level             5\n",
            "major_discipline            6\n",
            "experience                 22\n",
            "company_size                8\n",
            "company_type                6\n",
            "last_new_job                6\n",
            "training_hours            241\n",
            "target                      2\n",
            "dtype: int64\n"
          ]
        }
      ]
    },
    {
      "cell_type": "markdown",
      "metadata": {
        "id": "pp0YaZ_l5GyE"
      },
      "source": [
        "\n",
        "<a name=\"target\"></a>\n",
        "<a href=\"#init\"><p style=\"text-align:right;\" href=\"#init\">Volver al índice</p></a> \n",
        "# 2. Target\n",
        "Problema Machine Learning: Clasificación. Datos desbalanceados.\n",
        "\n",
        "<img src=\"./img/ml_types.png\" alt=\"drawing\" width=\"650\"/>\n"
      ]
    },
    {
      "cell_type": "markdown",
      "metadata": {
        "id": "h57jWWb6PVCV"
      },
      "source": [
        "**Objetivo: probabilidad de que un afiliado busque un cambio de trabajo**\n",
        "\n",
        " target:\n",
        "\n",
        "   0 - No busco cambio de trabajo,\n",
        "  \n",
        "   1 - Buscando un cambio de trabajo.\n",
        "\n",
        "Tenga en cuenta que el conjunto de datos no está equilibrado en la variable. Para corregir este desbalance harremos un undersampling, ya que necesitamos corregir target =1.\n",
        "\n",
        "El 75% de los inscritos no parecía un cambio de trabajo\n",
        "\n",
        "25% de los inscritos buscan un cambio de trabajo\n"
      ]
    },
    {
      "cell_type": "markdown",
      "metadata": {
        "id": "P009gRaABlXr"
      },
      "source": [
        "Estamos ante un  problema de Clasificación, ya que el target del problema es un conjunto de valores discretos binarios( el empleado no busca/ Busca un nuevo empleo).\n"
      ]
    },
    {
      "cell_type": "code",
      "metadata": {
        "colab": {
          "base_uri": "https://localhost:8080/",
          "height": 0
        },
        "id": "GJjQWlfQPI9V",
        "outputId": "d8386328-8fbe-4d10-f1e4-86a804479922"
      },
      "source": [
        "# Visualizamos variable objetivo.\n",
        "sns.countplot(x=df['target']);\n",
        "print(df.target.value_counts(normalize=True))"
      ],
      "execution_count": 9,
      "outputs": [
        {
          "output_type": "stream",
          "name": "stdout",
          "text": [
            "0.0    0.750652\n",
            "1.0    0.249348\n",
            "Name: target, dtype: float64\n"
          ]
        },
        {
          "output_type": "display_data",
          "data": {
            "image/png": "[encoded data removed]",
            "text/plain": [
              "<Figure size 432x288 with 1 Axes>"
            ]
          },
          "metadata": {
            "needs_background": "light"
          }
        }
      ]
    },
    {
      "cell_type": "markdown",
      "metadata": {
        "id": "Ia5B5iWY5-Mf"
      },
      "source": [
        "\n",
        "<a name=\"split_train_test\"></a>\n",
        "<a href=\"#init\"><p style=\"text-align:right;\" href=\"#init\">Volver al índice</p></a> \n",
        "# 3. Detección de anomalías.\n",
        "\n",
        "  Missings. Duplicados. Eliminación de features. Outliers\n",
        "\n",
        "<img src=\"./img/ml_types.png\" alt=\"drawing\" width=\"650\"/>\n"
      ]
    },
    {
      "cell_type": "code",
      "metadata": {
        "colab": {
          "base_uri": "https://localhost:8080/",
          "height": 456
        },
        "id": "c86d5276-154a-412b-aa3a-dc2d9faaeda7",
        "outputId": "b2328733-4aaa-4b04-a0c2-64a25103a3b2"
      },
      "source": [
        "# Detección de los valores nulos por variables.\n",
        "\n",
        "null_count = df.isnull().sum()\n",
        "null_percentage = round((df.isnull().sum()/df.shape[0])*100, 2)\n",
        "null_df = pd.DataFrame({'column_name' : df.columns,'null_count' : null_count,'null_percentage': null_percentage})\n",
        "null_df.reset_index(drop = True, inplace = True)\n",
        "null_df.sort_values(by = 'null_percentage', ascending = False)"
      ],
      "execution_count": 10,
      "outputs": [
        {
          "output_type": "execute_result",
          "data": {
            "text/html": [
              "<div>\n",
              "<style scoped>\n",
              "    .dataframe tbody tr th:only-of-type {\n",
              "        vertical-align: middle;\n",
              "    }\n",
              "\n",
              "    .dataframe tbody tr th {\n",
              "        vertical-align: top;\n",
              "    }\n",
              "\n",
              "    .dataframe thead th {\n",
              "        text-align: right;\n",
              "    }\n",
              "</style>\n",
              "<table border=\"1\" class=\"dataframe\">\n",
              "  <thead>\n",
              "    <tr style=\"text-align: right;\">\n",
              "      <th></th>\n",
              "      <th>column_name</th>\n",
              "      <th>null_count</th>\n",
              "      <th>null_percentage</th>\n",
              "    </tr>\n",
              "  </thead>\n",
              "  <tbody>\n",
              "    <tr>\n",
              "      <th>9</th>\n",
              "      <td>company_type</td>\n",
              "      <td>6140</td>\n",
              "      <td>32.05</td>\n",
              "    </tr>\n",
              "    <tr>\n",
              "      <th>8</th>\n",
              "      <td>company_size</td>\n",
              "      <td>5938</td>\n",
              "      <td>30.99</td>\n",
              "    </tr>\n",
              "    <tr>\n",
              "      <th>2</th>\n",
              "      <td>gender</td>\n",
              "      <td>4508</td>\n",
              "      <td>23.53</td>\n",
              "    </tr>\n",
              "    <tr>\n",
              "      <th>6</th>\n",
              "      <td>major_discipline</td>\n",
              "      <td>2813</td>\n",
              "      <td>14.68</td>\n",
              "    </tr>\n",
              "    <tr>\n",
              "      <th>5</th>\n",
              "      <td>education_level</td>\n",
              "      <td>460</td>\n",
              "      <td>2.40</td>\n",
              "    </tr>\n",
              "    <tr>\n",
              "      <th>10</th>\n",
              "      <td>last_new_job</td>\n",
              "      <td>423</td>\n",
              "      <td>2.21</td>\n",
              "    </tr>\n",
              "    <tr>\n",
              "      <th>4</th>\n",
              "      <td>enrolled_university</td>\n",
              "      <td>386</td>\n",
              "      <td>2.01</td>\n",
              "    </tr>\n",
              "    <tr>\n",
              "      <th>7</th>\n",
              "      <td>experience</td>\n",
              "      <td>65</td>\n",
              "      <td>0.34</td>\n",
              "    </tr>\n",
              "    <tr>\n",
              "      <th>0</th>\n",
              "      <td>city</td>\n",
              "      <td>0</td>\n",
              "      <td>0.00</td>\n",
              "    </tr>\n",
              "    <tr>\n",
              "      <th>1</th>\n",
              "      <td>city_development_index</td>\n",
              "      <td>0</td>\n",
              "      <td>0.00</td>\n",
              "    </tr>\n",
              "    <tr>\n",
              "      <th>3</th>\n",
              "      <td>relevent_experience</td>\n",
              "      <td>0</td>\n",
              "      <td>0.00</td>\n",
              "    </tr>\n",
              "    <tr>\n",
              "      <th>11</th>\n",
              "      <td>training_hours</td>\n",
              "      <td>0</td>\n",
              "      <td>0.00</td>\n",
              "    </tr>\n",
              "    <tr>\n",
              "      <th>12</th>\n",
              "      <td>target</td>\n",
              "      <td>0</td>\n",
              "      <td>0.00</td>\n",
              "    </tr>\n",
              "  </tbody>\n",
              "</table>\n",
              "</div>"
            ],
            "text/plain": [
              "               column_name  null_count  null_percentage\n",
              "9             company_type        6140            32.05\n",
              "8             company_size        5938            30.99\n",
              "2                   gender        4508            23.53\n",
              "6         major_discipline        2813            14.68\n",
              "5          education_level         460             2.40\n",
              "10            last_new_job         423             2.21\n",
              "4      enrolled_university         386             2.01\n",
              "7               experience          65             0.34\n",
              "0                     city           0             0.00\n",
              "1   city_development_index           0             0.00\n",
              "3      relevent_experience           0             0.00\n",
              "11          training_hours           0             0.00\n",
              "12                  target           0             0.00"
            ]
          },
          "metadata": {},
          "execution_count": 10
        }
      ]
    },
    {
      "cell_type": "code",
      "metadata": {
        "colab": {
          "base_uri": "https://localhost:8080/"
        },
        "id": "UtL07CKgJzAG",
        "outputId": "70ea92ae-2da1-4871-d90b-c616ff49bfcb"
      },
      "source": [
        "# Comprobamos si hay alguna fila duplicada y en su caso las eliminamos.\n",
        "df.duplicated().sum()\n"
      ],
      "execution_count": 11,
      "outputs": [
        {
          "output_type": "execute_result",
          "data": {
            "text/plain": [
              "49"
            ]
          },
          "metadata": {},
          "execution_count": 11
        }
      ]
    },
    {
      "cell_type": "code",
      "metadata": {
        "id": "mHnRDxSzKDWk",
        "colab": {
          "base_uri": "https://localhost:8080/"
        },
        "outputId": "35d2838b-7dfa-410b-c2b4-89a09029c79f"
      },
      "source": [
        "df = df.drop_duplicates()\n",
        "df.duplicated().sum()# comprobamos que se han eliminado correctamente todos los valores duplicados.\n"
      ],
      "execution_count": 12,
      "outputs": [
        {
          "output_type": "execute_result",
          "data": {
            "text/plain": [
              "0"
            ]
          },
          "metadata": {},
          "execution_count": 12
        }
      ]
    },
    {
      "cell_type": "markdown",
      "metadata": {
        "id": "JLA-8kkoR30U"
      },
      "source": [
        "### OUTLIERS."
      ]
    },
    {
      "cell_type": "markdown",
      "metadata": {
        "id": "X9tY2hBfSUXx"
      },
      "source": [
        "#### ¿Qué es un outlier?\n",
        "Se trata de un valor atípico dentro de nuestros datos. Un valor que se desvía mucho de las métricas estadísticas de centralidad (media, moda, mediana). En el análisis exploratorio de datos suele ser algo a estudiar, el por qué tengo algunos valores atípicos en los datos. No obstante, en machine learning los outliers en los datos implican penalizaciones en los modelos, sobretodo los que trabajan con distancias y con Gradient Descent. Por tanto, hay que lidiar con ellos.\n",
        "\n",
        "#### ¿Qué gráficas utilizo para visualizar los outliers?\n",
        "Lo mejor son boxplots, histogramas, diagramas de densidad, scatter plots y count plots para categóricas.\n",
        "\n",
        "#### ¿Qué técnicas hay para detectar outliers?\n",
        "1. **Gráficamente**: Datos que se desvien mucho.\n",
        "2. **Cuartiles**: se ve en un diagrama de caja. Datos que caigan fuera del rango +/- 1.5*IQR. Este 1.5 es muy restrictivo por lo que se suelen probar valores del 3 al 5. Dependerá mucho de cada feature.\n",
        "3. **Desviación estándar**: todo lo que caiga fuera de (media +/- N*std) de la variable. Normalmente N es un valor de 3 a 5.\n",
        "\n",
        "#### ¿Qué hago con los outliers?\n",
        "Tenemos varias opciones:\n",
        "1. **Eliminarlos**: es la técnica más habitual y sencilla\n",
        "2. **No hacer nada**: si no son exagerados. Los árboles de decisión y SVM (en este orden) son robustos frente a outliers.\n",
        "3. **Transformaciones logarítmicas**: elimina asimetría en las features, y por tanto reduce el efecto de los outliers. Para más info<a href=\"#feat_engi\"> ver el apartado de transformaciones.</a>\n",
        "4. **Binning**: discretiza la variable en varios grupos. Esto me va a permitir incluir los outliers en un grupo donde haya otros datos no considerados como outiers (ver ejemplo abajo)\n",
        "5. **Imputación**: igual que con los missings, sustituir los valores. Esto tendrá sentido si los outliers están bien analizados, y desde el punto de vista de negocio conviene sustituirlos por un valor concreto.\n",
        "6. **Tratamiento por separado**: si es un número significativo de outliers quizá merezca la pena separar los datos y tratarlos como otro modelo aparte.\n",
        "\n"
      ]
    },
    {
      "cell_type": "code",
      "metadata": {
        "id": "qGXB0y3bjJ_j",
        "colab": {
          "base_uri": "https://localhost:8080/",
          "height": 0
        },
        "outputId": "d11db8ce-3aec-4c6e-c281-cd305c3af3a0"
      },
      "source": [
        "# Target Objetivo en el dataset \n",
        "fig, axes = plt.subplots(2, 3, figsize=(20, 10))\n",
        "plt.subplots_adjust(hspace = 0.3)\n",
        "\n",
        "# Outliers con boxplot\n",
        "sns.boxplot(df['city_development_index'], ax=axes[0, 0])\n",
        "axes[0, 0].set_title(\"Outliers con boxplot\")\n",
        "\n",
        "# Feature susceptible de transformación\n",
        "sns.boxplot(df['city_development_index'], ax=axes[0, 1])\n",
        "axes[0, 1].set_title(\"Feature susceptible de transformación\")\n",
        "\n",
        "# Transformacion logaritmica\n",
        "sns.boxplot(np.log(df['city_development_index']), ax=axes[0, 2])\n",
        "axes[0, 2].set_title(\"Transformacion logaritmica\")\n",
        "\n",
        "# Posibles outliers mediante FDP\n",
        "sns.kdeplot(df['city_development_index'], ax=axes[1, 0])\n",
        "axes[1, 0].set_title(\"Posibles outliers en FDP\")\n",
        "\n",
        "# Outliers mediante bivariante\n",
        "sns.scatterplot(data=df, x='city_development_index', y='target', ax=axes[1, 1])\n",
        "axes[1, 1].set_title(\"Outliers mediante bivariante\")\n",
        "\n",
        "# Transformacion de FDP\n",
        "sns.kdeplot(np.log(df[\"city_development_index\"]), ax=axes[1, 2])\n",
        "axes[1, 2].set_title(\"Transformacion \");"
      ],
      "execution_count": 13,
      "outputs": [
        {
          "output_type": "display_data",
          "data": {
            "image/png": "[encoded data removed]",
            "text/plain": [
              "<Figure size 1440x720 with 6 Axes>"
            ]
          },
          "metadata": {
            "needs_background": "light"
          }
        }
      ]
    },
    {
      "cell_type": "code",
      "metadata": {
        "colab": {
          "base_uri": "https://localhost:8080/",
          "height": 0
        },
        "id": "siA6r1mJVglM",
        "outputId": "9a55e84a-892c-48db-f9af-45ed99a052e7"
      },
      "source": [
        "# Target Objetivo en el dataset \n",
        "fig, axes = plt.subplots(2, 3, figsize=(20, 10))\n",
        "plt.subplots_adjust(hspace = 0.3)\n",
        "\n",
        "# Outliers con boxplot\n",
        "sns.boxplot(df['training_hours'], ax=axes[0, 0])\n",
        "axes[0, 0].set_title(\"Outliers con boxplot\")\n",
        "\n",
        "# Feature susceptible de transformación\n",
        "sns.boxplot(df['training_hours'], ax=axes[0, 1])\n",
        "axes[0, 1].set_title(\"Feature susceptible de transformación\")\n",
        "\n",
        "# Transformacion logaritmica\n",
        "sns.boxplot(np.log(df['training_hours']), ax=axes[0, 2])\n",
        "axes[0, 2].set_title(\"Transformacion logaritmica\")\n",
        "\n",
        "# Posibles outliers mediante FDP\n",
        "sns.kdeplot(df['training_hours'], ax=axes[1, 0])\n",
        "axes[1, 0].set_title(\"Posibles outliers en FDP\")\n",
        "\n",
        "# Outliers mediante bivariante\n",
        "sns.scatterplot(data=df, x='training_hours', y='target', ax=axes[1, 1])\n",
        "axes[1, 1].set_title(\"Outliers mediante bivariante\")\n",
        "\n",
        "# Transformacion de FDP\n",
        "sns.kdeplot(np.log(df[\"training_hours\"]), ax=axes[1, 2])\n",
        "axes[1, 2].set_title(\"Transformacion \");"
      ],
      "execution_count": 14,
      "outputs": [
        {
          "output_type": "display_data",
          "data": {
            "image/png": "[encoded data removed]",
            "text/plain": [
              "<Figure size 1440x720 with 6 Axes>"
            ]
          },
          "metadata": {
            "needs_background": "light"
          }
        }
      ]
    },
    {
      "cell_type": "code",
      "metadata": {
        "id": "c54bcff3-ef70-4ab0-9d14-5ee00ae3ef3c"
      },
      "source": [
        "from collections import Counter\n",
        "\n",
        "#drop the label \n",
        "outlier_list = ['city_development_index', 'training_hours'] \n",
        "\n",
        "def detect_outlier(df,feature):\n",
        "    \n",
        "    outlier_indices = []\n",
        "    \n",
        "    for f in feature:\n",
        "        \n",
        "        #lower quartile\n",
        "        q1 = np.percentile(df[f],25)\n",
        "        \n",
        "        #upper quartile\n",
        "        q3 = np.percentile(df[f],75)\n",
        "        \n",
        "        #interquartile range\n",
        "        iqr = q3-q1\n",
        "        \n",
        "        #with coefficient\n",
        "        with_coef = 1.5*iqr\n",
        "        \n",
        "        #detect outlier(s)\n",
        "        lower_rule = q1-with_coef\n",
        "        upper_rule = q3+with_coef\n",
        "        \n",
        "        outlier_variable = df[(df[f]<lower_rule) | (df[f]>upper_rule)].index\n",
        "        outlier_indices.extend(outlier_variable)\n",
        "    \n",
        "    #converting to amount\n",
        "    outlier_indices = Counter(outlier_indices)\n",
        "    multiple_outliers = list(i for i,v in outlier_indices.items() if v>2)\n",
        "    \n",
        "    return multiple_outliers\n",
        "\n",
        " \n",
        "#drop outliers\n",
        "df = df.drop(detect_outlier(df,outlier_list),axis=0).reset_index(drop=True)"
      ],
      "execution_count": 15,
      "outputs": []
    },
    {
      "cell_type": "markdown",
      "metadata": {
        "id": "otuDAy0W6Bdb"
      },
      "source": [
        "\n",
        "<a name=\"analisis\"></a>\n",
        "<a href=\"#init\"><p style=\"text-align:right;\" href=\"#init\">Volver al índice</p></a> \n",
        "# 4. Análisis y limpieza de los datos \n",
        "\n",
        "  Estudio detallado variable por variable.\n",
        "\n",
        "  Tratamiento de los missings.\n",
        "\n",
        "  Análisis de las univariables y de las bivariables.\n",
        "\n",
        "\n",
        "<img src=\"./img/ml_types.png\" alt=\"drawing\" width=\"650\"/>\n"
      ]
    },
    {
      "cell_type": "markdown",
      "metadata": {
        "id": "PLZ1rfe4K7se"
      },
      "source": [
        "### City: código de ciudad."
      ]
    },
    {
      "cell_type": "code",
      "metadata": {
        "colab": {
          "base_uri": "https://localhost:8080/"
        },
        "id": "sZKAQKFq6IPe",
        "outputId": "f3b50701-0c47-439b-c62e-188974f76e50"
      },
      "source": [
        "df['city'].unique().tolist()# comprobamos los valores de esta variable.\n"
      ],
      "execution_count": 16,
      "outputs": [
        {
          "output_type": "execute_result",
          "data": {
            "text/plain": [
              "['city_103',\n",
              " 'city_40',\n",
              " 'city_21',\n",
              " 'city_115',\n",
              " 'city_162',\n",
              " 'city_176',\n",
              " 'city_160',\n",
              " 'city_46',\n",
              " 'city_61',\n",
              " 'city_114',\n",
              " 'city_13',\n",
              " 'city_159',\n",
              " 'city_102',\n",
              " 'city_67',\n",
              " 'city_100',\n",
              " 'city_16',\n",
              " 'city_71',\n",
              " 'city_104',\n",
              " 'city_64',\n",
              " 'city_101',\n",
              " 'city_83',\n",
              " 'city_105',\n",
              " 'city_73',\n",
              " 'city_75',\n",
              " 'city_41',\n",
              " 'city_11',\n",
              " 'city_93',\n",
              " 'city_90',\n",
              " 'city_36',\n",
              " 'city_20',\n",
              " 'city_57',\n",
              " 'city_152',\n",
              " 'city_19',\n",
              " 'city_65',\n",
              " 'city_74',\n",
              " 'city_173',\n",
              " 'city_136',\n",
              " 'city_98',\n",
              " 'city_97',\n",
              " 'city_50',\n",
              " 'city_138',\n",
              " 'city_82',\n",
              " 'city_157',\n",
              " 'city_89',\n",
              " 'city_150',\n",
              " 'city_70',\n",
              " 'city_175',\n",
              " 'city_94',\n",
              " 'city_28',\n",
              " 'city_59',\n",
              " 'city_165',\n",
              " 'city_145',\n",
              " 'city_142',\n",
              " 'city_26',\n",
              " 'city_12',\n",
              " 'city_37',\n",
              " 'city_43',\n",
              " 'city_116',\n",
              " 'city_23',\n",
              " 'city_99',\n",
              " 'city_149',\n",
              " 'city_10',\n",
              " 'city_45',\n",
              " 'city_80',\n",
              " 'city_128',\n",
              " 'city_158',\n",
              " 'city_123',\n",
              " 'city_7',\n",
              " 'city_72',\n",
              " 'city_106',\n",
              " 'city_143',\n",
              " 'city_78',\n",
              " 'city_109',\n",
              " 'city_24',\n",
              " 'city_134',\n",
              " 'city_48',\n",
              " 'city_144',\n",
              " 'city_91',\n",
              " 'city_146',\n",
              " 'city_133',\n",
              " 'city_126',\n",
              " 'city_118',\n",
              " 'city_9',\n",
              " 'city_167',\n",
              " 'city_27',\n",
              " 'city_84',\n",
              " 'city_54',\n",
              " 'city_39',\n",
              " 'city_79',\n",
              " 'city_76',\n",
              " 'city_77',\n",
              " 'city_81',\n",
              " 'city_131',\n",
              " 'city_44',\n",
              " 'city_117',\n",
              " 'city_155',\n",
              " 'city_33',\n",
              " 'city_141',\n",
              " 'city_127',\n",
              " 'city_62',\n",
              " 'city_53',\n",
              " 'city_25',\n",
              " 'city_2',\n",
              " 'city_69',\n",
              " 'city_120',\n",
              " 'city_111',\n",
              " 'city_30',\n",
              " 'city_1',\n",
              " 'city_140',\n",
              " 'city_179',\n",
              " 'city_55',\n",
              " 'city_14',\n",
              " 'city_42',\n",
              " 'city_107',\n",
              " 'city_18',\n",
              " 'city_139',\n",
              " 'city_180',\n",
              " 'city_166',\n",
              " 'city_121',\n",
              " 'city_129',\n",
              " 'city_8',\n",
              " 'city_31',\n",
              " 'city_171']"
            ]
          },
          "metadata": {},
          "execution_count": 16
        }
      ]
    },
    {
      "cell_type": "code",
      "metadata": {
        "colab": {
          "base_uri": "https://localhost:8080/"
        },
        "id": "7flUIH4oLFYb",
        "outputId": "76227bf4-cd2c-4673-e7d0-6e44e4060fa5"
      },
      "source": [
        "len(df['city'].unique().tolist())# tenemos sede en 123 ciudades.\n"
      ],
      "execution_count": 17,
      "outputs": [
        {
          "output_type": "execute_result",
          "data": {
            "text/plain": [
              "123"
            ]
          },
          "metadata": {},
          "execution_count": 17
        }
      ]
    },
    {
      "cell_type": "markdown",
      "metadata": {
        "id": "dwzRzUoHLGZl"
      },
      "source": [
        "Como es una columna que tiene demasiados valores y no tiene  información relevante , la eliminamos. La siguiente columna esta relacionada con la demografía y nos aporta más valor.\n"
      ]
    },
    {
      "cell_type": "code",
      "metadata": {
        "id": "1ZKQl1XuLmOk"
      },
      "source": [
        "df.drop(['city'], axis=1,inplace=True)\n"
      ],
      "execution_count": 18,
      "outputs": []
    },
    {
      "cell_type": "markdown",
      "metadata": {
        "id": "aNIE3nxWLsmV"
      },
      "source": [
        "### City_development_index : índice de desarrollo de la ciudad (escalado).\n"
      ]
    },
    {
      "cell_type": "code",
      "metadata": {
        "colab": {
          "base_uri": "https://localhost:8080/"
        },
        "id": "LZnmg0AFMTRT",
        "outputId": "febc7fea-959b-4ad9-8fd4-8be22dbfb652"
      },
      "source": [
        "df['city_development_index'].unique().tolist()# comprobamos los valores de esta variable.\n"
      ],
      "execution_count": 19,
      "outputs": [
        {
          "output_type": "execute_result",
          "data": {
            "text/plain": [
              "[0.92,\n",
              " 0.7759999999999999,\n",
              " 0.624,\n",
              " 0.789,\n",
              " 0.767,\n",
              " 0.764,\n",
              " 0.762,\n",
              " 0.913,\n",
              " 0.926,\n",
              " 0.8270000000000001,\n",
              " 0.843,\n",
              " 0.804,\n",
              " 0.855,\n",
              " 0.887,\n",
              " 0.91,\n",
              " 0.884,\n",
              " 0.924,\n",
              " 0.6659999999999999,\n",
              " 0.5579999999999999,\n",
              " 0.923,\n",
              " 0.794,\n",
              " 0.754,\n",
              " 0.939,\n",
              " 0.55,\n",
              " 0.865,\n",
              " 0.698,\n",
              " 0.893,\n",
              " 0.7959999999999999,\n",
              " 0.866,\n",
              " 0.682,\n",
              " 0.802,\n",
              " 0.579,\n",
              " 0.878,\n",
              " 0.897,\n",
              " 0.949,\n",
              " 0.925,\n",
              " 0.8959999999999999,\n",
              " 0.836,\n",
              " 0.693,\n",
              " 0.769,\n",
              " 0.775,\n",
              " 0.903,\n",
              " 0.555,\n",
              " 0.727,\n",
              " 0.64,\n",
              " 0.516,\n",
              " 0.743,\n",
              " 0.899,\n",
              " 0.915,\n",
              " 0.6890000000000001,\n",
              " 0.895,\n",
              " 0.89,\n",
              " 0.847,\n",
              " 0.527,\n",
              " 0.7659999999999999,\n",
              " 0.738,\n",
              " 0.647,\n",
              " 0.795,\n",
              " 0.74,\n",
              " 0.701,\n",
              " 0.493,\n",
              " 0.84,\n",
              " 0.691,\n",
              " 0.735,\n",
              " 0.742,\n",
              " 0.479,\n",
              " 0.722,\n",
              " 0.921,\n",
              " 0.848,\n",
              " 0.856,\n",
              " 0.898,\n",
              " 0.83,\n",
              " 0.73,\n",
              " 0.68,\n",
              " 0.725,\n",
              " 0.556,\n",
              " 0.448,\n",
              " 0.763,\n",
              " 0.745,\n",
              " 0.645,\n",
              " 0.7879999999999999,\n",
              " 0.78,\n",
              " 0.512,\n",
              " 0.7390000000000001,\n",
              " 0.563,\n",
              " 0.518,\n",
              " 0.8240000000000001,\n",
              " 0.487,\n",
              " 0.649,\n",
              " 0.7809999999999999,\n",
              " 0.625,\n",
              " 0.807,\n",
              " 0.664]"
            ]
          },
          "metadata": {},
          "execution_count": 19
        }
      ]
    },
    {
      "cell_type": "code",
      "metadata": {
        "colab": {
          "base_uri": "https://localhost:8080/",
          "height": 0
        },
        "id": "eIYuaqw3M2AG",
        "outputId": "b9e9e802-382d-45a8-8db5-202951fcce7d"
      },
      "source": [
        "# Comprobamos que el mayor numero de poblaciones tienes alrededor de un 90% de indice de desarrollo.\n",
        "# Los indices de desarrollo van del 50% al 93 %. Alrededor del 60% también hay un repunte.\n",
        "sns.kdeplot(data=df, x=\"city_development_index\")\n"
      ],
      "execution_count": 20,
      "outputs": [
        {
          "output_type": "execute_result",
          "data": {
            "text/plain": [
              "<matplotlib.axes._subplots.AxesSubplot at 0x7f1902439710>"
            ]
          },
          "metadata": {},
          "execution_count": 20
        },
        {
          "output_type": "display_data",
          "data": {
            "image/png": "[encoded data removed]",
            "text/plain": [
              "<Figure size 432x288 with 1 Axes>"
            ]
          },
          "metadata": {
            "needs_background": "light"
          }
        }
      ]
    },
    {
      "cell_type": "code",
      "metadata": {
        "colab": {
          "base_uri": "https://localhost:8080/",
          "height": 0
        },
        "id": "uy_sIJJ2M2ln",
        "outputId": "e9039cec-c3d6-4044-a652-e4194ecf2ee2"
      },
      "source": [
        "# Aquí podemos ver que las personas que viven en ciudades desarrolladas tienen una menor probabilidad de cambiar de trabajo.\n",
        "sns.kdeplot(data=df, x=\"city_development_index\", hue=\"target\")\n"
      ],
      "execution_count": 21,
      "outputs": [
        {
          "output_type": "execute_result",
          "data": {
            "text/plain": [
              "<matplotlib.axes._subplots.AxesSubplot at 0x7f18f96fa3d0>"
            ]
          },
          "metadata": {},
          "execution_count": 21
        },
        {
          "output_type": "display_data",
          "data": {
            "image/png": "[encoded data removed]",
            "text/plain": [
              "<Figure size 432x288 with 1 Axes>"
            ]
          },
          "metadata": {
            "needs_background": "light"
          }
        }
      ]
    },
    {
      "cell_type": "markdown",
      "metadata": {
        "id": "k0ESmluiM8fe"
      },
      "source": [
        "En el siguiente gráfico podemos ver que más personas de ciudades con un índice de desarrollo bajo están buscando un cambio de trabajo porque  están menos satisfechas con su trabajo actual o con el lugar en el que viven.\n"
      ]
    },
    {
      "cell_type": "code",
      "metadata": {
        "colab": {
          "base_uri": "https://localhost:8080/",
          "height": 0
        },
        "id": "NE0Y7D8nM78Z",
        "outputId": "b53bd49a-4c7d-4c76-ddd4-4bbf9de8aa55"
      },
      "source": [
        "plt.figure(figsize=(12, 5))\n",
        "sns.boxplot(x='target',y='city_development_index',data=df)\n",
        "xlabel='Looking for job'\n",
        "ylabel = 'city_development_index'"
      ],
      "execution_count": 22,
      "outputs": [
        {
          "output_type": "display_data",
          "data": {
            "image/png": "[encoded data removed]",
            "text/plain": [
              "<Figure size 864x360 with 1 Axes>"
            ]
          },
          "metadata": {
            "needs_background": "light"
          }
        }
      ]
    },
    {
      "cell_type": "markdown",
      "metadata": {
        "id": "_xzHbv_iNHYU"
      },
      "source": [
        "### Gender.\n"
      ]
    },
    {
      "cell_type": "code",
      "metadata": {
        "colab": {
          "base_uri": "https://localhost:8080/"
        },
        "id": "xTeTNS6HlrO4",
        "outputId": "baffdd30-6df4-4c87-d0c9-025d0f31c8bc"
      },
      "source": [
        "# Trabajamos con los valores nulos de esta columna.\n",
        "df['gender'].value_counts()"
      ],
      "execution_count": 23,
      "outputs": [
        {
          "output_type": "execute_result",
          "data": {
            "text/plain": [
              "Male      13173\n",
              "Female     1237\n",
              "Other       191\n",
              "Name: gender, dtype: int64"
            ]
          },
          "metadata": {},
          "execution_count": 23
        }
      ]
    },
    {
      "cell_type": "code",
      "metadata": {
        "colab": {
          "base_uri": "https://localhost:8080/",
          "height": 314
        },
        "id": "wU571YQ6067O",
        "outputId": "e57d16ae-6cbe-49c6-c7ad-89100ad7b371"
      },
      "source": [
        "# VISUALIZAMOS LA COLUMNA GENERO.\n",
        "# create a figure and axis \n",
        "fig, ax = plt.subplots() \n",
        "# count the occurrence of each class \n",
        "data = df['gender'].value_counts() \n",
        "# get x and y data \n",
        "points = data.index \n",
        "frequency = data.values \n",
        "# create bar chart \n",
        "ax.bar(points, frequency) \n",
        "\n",
        "# set title and labels \n",
        "ax.set_title('Comparando géneros') \n",
        "ax.set_xlabel('Género') \n",
        "ax.set_ylabel('Número')\n"
      ],
      "execution_count": 24,
      "outputs": [
        {
          "output_type": "execute_result",
          "data": {
            "text/plain": [
              "Text(0, 0.5, 'Número')"
            ]
          },
          "metadata": {},
          "execution_count": 24
        },
        {
          "output_type": "display_data",
          "data": {
            "image/png": "[encoded data removed]",
            "text/plain": [
              "<Figure size 432x288 with 1 Axes>"
            ]
          },
          "metadata": {
            "needs_background": "light"
          }
        }
      ]
    },
    {
      "cell_type": "code",
      "metadata": {
        "colab": {
          "base_uri": "https://localhost:8080/"
        },
        "id": "aH7LBXEnOEVc",
        "outputId": "fc888c3e-b243-40ab-e1ee-d783eaa85864"
      },
      "source": [
        "df['gender'].isna().sum()# Trabajamos con los valores nulos de esta columna.\n"
      ],
      "execution_count": 25,
      "outputs": [
        {
          "output_type": "execute_result",
          "data": {
            "text/plain": [
              "4508"
            ]
          },
          "metadata": {},
          "execution_count": 25
        }
      ]
    },
    {
      "cell_type": "code",
      "metadata": {
        "id": "bB9KYFLAFTlG"
      },
      "source": [
        "# Rellenamos los valores Nan de la columna gender con valores aleatorios masculinos, femeninos a la vez.\n",
        "\n",
        "from random import choice\n",
        "\n",
        "mask = df[\"gender\"].isna()\n",
        "\n",
        "df.loc[mask,[\"gender\"]] = df.loc[mask,[\"gender\"]].applymap(lambda _: choice([\"Male\",\"Female\"]))"
      ],
      "execution_count": 26,
      "outputs": []
    },
    {
      "cell_type": "code",
      "metadata": {
        "colab": {
          "base_uri": "https://localhost:8080/"
        },
        "id": "1r9YLF4xOoWC",
        "outputId": "2ce73f4e-4e56-4c57-b4d6-875eb17885e6"
      },
      "source": [
        "# como vemos nos quedan todavia algunos valores \"Other\".\n",
        "df['gender'].value_counts()"
      ],
      "execution_count": 27,
      "outputs": [
        {
          "output_type": "execute_result",
          "data": {
            "text/plain": [
              "Male      15417\n",
              "Female     3501\n",
              "Other       191\n",
              "Name: gender, dtype: int64"
            ]
          },
          "metadata": {},
          "execution_count": 27
        }
      ]
    },
    {
      "cell_type": "code",
      "metadata": {
        "colab": {
          "base_uri": "https://localhost:8080/"
        },
        "id": "fvw6vfQjOoTW",
        "outputId": "6a3804ba-ec08-460c-b2b6-bba1b65ad7b4"
      },
      "source": [
        "df['gender'].isna().sum()"
      ],
      "execution_count": 28,
      "outputs": [
        {
          "output_type": "execute_result",
          "data": {
            "text/plain": [
              "0"
            ]
          },
          "metadata": {},
          "execution_count": 28
        }
      ]
    },
    {
      "cell_type": "code",
      "metadata": {
        "id": "_yGubduJO40l"
      },
      "source": [
        "# los valores de sexo \"Other\", son reemplazados por el valor minoritario , para desbalancear un poco.\n",
        "df['gender'].replace({\"Other\": \"Female\"}, inplace=True)\n"
      ],
      "execution_count": 29,
      "outputs": []
    },
    {
      "cell_type": "code",
      "metadata": {
        "colab": {
          "base_uri": "https://localhost:8080/",
          "height": 297
        },
        "id": "XQk8ho7NZCPb",
        "outputId": "00bd5177-3473-4c64-a2c5-c3dacf57d74d"
      },
      "source": [
        "# Visualizamos la columna genero:  target: 0 – Not looking for job change, 1 – Looking for a job change.\n",
        "# la mayoria de hombre, No buscan un nuevo trabajo. \n",
        "# Pero vemos la diferencia abimasl que hay entre hombres y mujeres que buscan un nuevo trabajo. La diferencia entre los que se quedan en la empresa y los que buscan un nuevo trabajo, para los hombres es abismal. Mientras que esta diferencia entre mujeres es mas sutil.\n",
        "\n",
        "sns.countplot(x=df.gender, hue=df.target, palette='light:#5A9')"
      ],
      "execution_count": 30,
      "outputs": [
        {
          "output_type": "execute_result",
          "data": {
            "text/plain": [
              "<matplotlib.axes._subplots.AxesSubplot at 0x7f1902439a50>"
            ]
          },
          "metadata": {},
          "execution_count": 30
        },
        {
          "output_type": "display_data",
          "data": {
            "image/png": "[encoded data removed]",
            "text/plain": [
              "<Figure size 432x288 with 1 Axes>"
            ]
          },
          "metadata": {
            "needs_background": "light"
          }
        }
      ]
    },
    {
      "cell_type": "code",
      "metadata": {
        "colab": {
          "base_uri": "https://localhost:8080/",
          "height": 279
        },
        "id": "7W67nG_5ZCNi",
        "outputId": "30ec6761-8194-465d-938b-17568f119186"
      },
      "source": [
        "sns.barplot(x=\"gender\", y=\"target\", data=df)\n",
        "plt.show()\n",
        "# Mayor porcentaje de mujeres estan buscando un nuevo trabajo-"
      ],
      "execution_count": 31,
      "outputs": [
        {
          "output_type": "display_data",
          "data": {
            "image/png": "[encoded data removed]",
            "text/plain": [
              "<Figure size 432x288 with 1 Axes>"
            ]
          },
          "metadata": {
            "needs_background": "light"
          }
        }
      ]
    },
    {
      "cell_type": "code",
      "metadata": {
        "colab": {
          "base_uri": "https://localhost:8080/",
          "height": 212
        },
        "id": "srB3jawzW3va",
        "outputId": "707c2b1b-e014-4794-c9a0-693b09626b29"
      },
      "source": [
        "# Binarizamos male y female feature.\n",
        "df['Sex_bin'] = df['gender']\n",
        "df = df.replace({'Sex_bin': {'Male': 0, 'Female': 1}})\n",
        "df.head(4)"
      ],
      "execution_count": 32,
      "outputs": [
        {
          "output_type": "execute_result",
          "data": {
            "text/html": [
              "<div>\n",
              "<style scoped>\n",
              "    .dataframe tbody tr th:only-of-type {\n",
              "        vertical-align: middle;\n",
              "    }\n",
              "\n",
              "    .dataframe tbody tr th {\n",
              "        vertical-align: top;\n",
              "    }\n",
              "\n",
              "    .dataframe thead th {\n",
              "        text-align: right;\n",
              "    }\n",
              "</style>\n",
              "<table border=\"1\" class=\"dataframe\">\n",
              "  <thead>\n",
              "    <tr style=\"text-align: right;\">\n",
              "      <th></th>\n",
              "      <th>city_development_index</th>\n",
              "      <th>gender</th>\n",
              "      <th>relevent_experience</th>\n",
              "      <th>enrolled_university</th>\n",
              "      <th>education_level</th>\n",
              "      <th>major_discipline</th>\n",
              "      <th>experience</th>\n",
              "      <th>company_size</th>\n",
              "      <th>company_type</th>\n",
              "      <th>last_new_job</th>\n",
              "      <th>training_hours</th>\n",
              "      <th>target</th>\n",
              "      <th>Sex_bin</th>\n",
              "    </tr>\n",
              "  </thead>\n",
              "  <tbody>\n",
              "    <tr>\n",
              "      <th>0</th>\n",
              "      <td>0.920</td>\n",
              "      <td>Male</td>\n",
              "      <td>Has relevent experience</td>\n",
              "      <td>no_enrollment</td>\n",
              "      <td>Graduate</td>\n",
              "      <td>STEM</td>\n",
              "      <td>&gt;20</td>\n",
              "      <td>NaN</td>\n",
              "      <td>NaN</td>\n",
              "      <td>1</td>\n",
              "      <td>36</td>\n",
              "      <td>1.0</td>\n",
              "      <td>0</td>\n",
              "    </tr>\n",
              "    <tr>\n",
              "      <th>1</th>\n",
              "      <td>0.776</td>\n",
              "      <td>Male</td>\n",
              "      <td>No relevent experience</td>\n",
              "      <td>no_enrollment</td>\n",
              "      <td>Graduate</td>\n",
              "      <td>STEM</td>\n",
              "      <td>15</td>\n",
              "      <td>50-99</td>\n",
              "      <td>Pvt Ltd</td>\n",
              "      <td>&gt;4</td>\n",
              "      <td>47</td>\n",
              "      <td>0.0</td>\n",
              "      <td>0</td>\n",
              "    </tr>\n",
              "    <tr>\n",
              "      <th>2</th>\n",
              "      <td>0.624</td>\n",
              "      <td>Female</td>\n",
              "      <td>No relevent experience</td>\n",
              "      <td>Full time course</td>\n",
              "      <td>Graduate</td>\n",
              "      <td>STEM</td>\n",
              "      <td>5</td>\n",
              "      <td>NaN</td>\n",
              "      <td>NaN</td>\n",
              "      <td>never</td>\n",
              "      <td>83</td>\n",
              "      <td>0.0</td>\n",
              "      <td>1</td>\n",
              "    </tr>\n",
              "    <tr>\n",
              "      <th>3</th>\n",
              "      <td>0.789</td>\n",
              "      <td>Male</td>\n",
              "      <td>No relevent experience</td>\n",
              "      <td>NaN</td>\n",
              "      <td>Graduate</td>\n",
              "      <td>Business Degree</td>\n",
              "      <td>&lt;1</td>\n",
              "      <td>NaN</td>\n",
              "      <td>Pvt Ltd</td>\n",
              "      <td>never</td>\n",
              "      <td>52</td>\n",
              "      <td>1.0</td>\n",
              "      <td>0</td>\n",
              "    </tr>\n",
              "  </tbody>\n",
              "</table>\n",
              "</div>"
            ],
            "text/plain": [
              "   city_development_index  gender  ... target Sex_bin\n",
              "0                   0.920    Male  ...    1.0       0\n",
              "1                   0.776    Male  ...    0.0       0\n",
              "2                   0.624  Female  ...    0.0       1\n",
              "3                   0.789    Male  ...    1.0       0\n",
              "\n",
              "[4 rows x 13 columns]"
            ]
          },
          "metadata": {},
          "execution_count": 32
        }
      ]
    },
    {
      "cell_type": "code",
      "metadata": {
        "id": "iw2wSvi0QEds"
      },
      "source": [
        "# Eliminamos la columna NO Binarizada.\n",
        "df.drop(['gender'], axis=1,inplace=True)\n"
      ],
      "execution_count": 33,
      "outputs": []
    },
    {
      "cell_type": "markdown",
      "metadata": {
        "id": "PaGiy3foQkS1"
      },
      "source": [
        "### Relevent_experience: experiencia relevante del candidato.\n"
      ]
    },
    {
      "cell_type": "code",
      "metadata": {
        "colab": {
          "base_uri": "https://localhost:8080/",
          "height": 298
        },
        "id": "Uhuj3Wu1RP5l",
        "outputId": "a76631d1-616d-422c-e9eb-40786211e45c"
      },
      "source": [
        "sns.countplot(x=df.relevent_experience)\n",
        "# podemos comprobar que la gran mayoria de los candidatos poseen experiencia relevante."
      ],
      "execution_count": 34,
      "outputs": [
        {
          "output_type": "execute_result",
          "data": {
            "text/plain": [
              "<matplotlib.axes._subplots.AxesSubplot at 0x7f19023c2950>"
            ]
          },
          "metadata": {},
          "execution_count": 34
        },
        {
          "output_type": "display_data",
          "data": {
            "image/png": "[encoded data removed]",
            "text/plain": [
              "<Figure size 432x288 with 1 Axes>"
            ]
          },
          "metadata": {
            "needs_background": "light"
          }
        }
      ]
    },
    {
      "cell_type": "code",
      "metadata": {
        "colab": {
          "base_uri": "https://localhost:8080/",
          "height": 298
        },
        "id": "xly32szMPmNW",
        "outputId": "6f4487de-f19e-473b-f0f9-9f7c0986c245"
      },
      "source": [
        "# la mayoria de personas que tiene experiencia , NO  buscan un trabajo nuevo.\n",
        "sns.countplot(x=df.relevent_experience, hue=df.target, palette='flare', dodge=False) # dodge me permite apilar"
      ],
      "execution_count": 35,
      "outputs": [
        {
          "output_type": "execute_result",
          "data": {
            "text/plain": [
              "<matplotlib.axes._subplots.AxesSubplot at 0x7f19033dd390>"
            ]
          },
          "metadata": {},
          "execution_count": 35
        },
        {
          "output_type": "display_data",
          "data": {
            "image/png": "[encoded data removed]",
            "text/plain": [
              "<Figure size 432x288 with 1 Axes>"
            ]
          },
          "metadata": {
            "needs_background": "light"
          }
        }
      ]
    },
    {
      "cell_type": "code",
      "metadata": {
        "colab": {
          "base_uri": "https://localhost:8080/",
          "height": 144
        },
        "id": "lBmfIV6PctxC",
        "outputId": "a4a59cbb-6723-47df-c415-f92fcb80578e"
      },
      "source": [
        "pd.crosstab(df['relevent_experience'], df['Sex_bin'], margins=False).apply(lambda r:(r/r.sum())*100, axis=0)\n",
        "# tenemos las columnas en tanto por ciento.\n",
        "# Podemos ver que en 75 % de los hombres tiene experiencia relevante frente a un 25%.\n",
        "# y la diferencia para las mujeres es menor, un 20% menos. La diferencia de la experiencia relevante  entre las mujeres esta mas homogeneizada.\n"
      ],
      "execution_count": 36,
      "outputs": [
        {
          "output_type": "execute_result",
          "data": {
            "text/html": [
              "<div>\n",
              "<style scoped>\n",
              "    .dataframe tbody tr th:only-of-type {\n",
              "        vertical-align: middle;\n",
              "    }\n",
              "\n",
              "    .dataframe tbody tr th {\n",
              "        vertical-align: top;\n",
              "    }\n",
              "\n",
              "    .dataframe thead th {\n",
              "        text-align: right;\n",
              "    }\n",
              "</style>\n",
              "<table border=\"1\" class=\"dataframe\">\n",
              "  <thead>\n",
              "    <tr style=\"text-align: right;\">\n",
              "      <th>Sex_bin</th>\n",
              "      <th>0</th>\n",
              "      <th>1</th>\n",
              "    </tr>\n",
              "    <tr>\n",
              "      <th>relevent_experience</th>\n",
              "      <th></th>\n",
              "      <th></th>\n",
              "    </tr>\n",
              "  </thead>\n",
              "  <tbody>\n",
              "    <tr>\n",
              "      <th>Has relevent experience</th>\n",
              "      <td>73.431926</td>\n",
              "      <td>65.763814</td>\n",
              "    </tr>\n",
              "    <tr>\n",
              "      <th>No relevent experience</th>\n",
              "      <td>26.568074</td>\n",
              "      <td>34.236186</td>\n",
              "    </tr>\n",
              "  </tbody>\n",
              "</table>\n",
              "</div>"
            ],
            "text/plain": [
              "Sex_bin                          0          1\n",
              "relevent_experience                          \n",
              "Has relevent experience  73.431926  65.763814\n",
              "No relevent experience   26.568074  34.236186"
            ]
          },
          "metadata": {},
          "execution_count": 36
        }
      ]
    },
    {
      "cell_type": "code",
      "metadata": {
        "id": "SeKKpLv9UO30"
      },
      "source": [
        "# Binarizamos Relevent_ experience\n",
        "df['relev_exp_bin'] = df['relevent_experience']\n",
        "df = df.replace({'relev_exp_bin': {'Has relevent experience': 1, 'No relevent experience': 0}})\n"
      ],
      "execution_count": 37,
      "outputs": []
    },
    {
      "cell_type": "code",
      "metadata": {
        "id": "1zt-O-sIclGD"
      },
      "source": [
        "#Eliminamos la columna ya binarizada.\n",
        "df.drop(['relevent_experience'], axis=1,inplace=True)\n"
      ],
      "execution_count": 38,
      "outputs": []
    },
    {
      "cell_type": "markdown",
      "metadata": {
        "id": "JBjNpifedjAL"
      },
      "source": [
        "### Education Level: nivel de educación del candidato.\n"
      ]
    },
    {
      "cell_type": "code",
      "metadata": {
        "colab": {
          "base_uri": "https://localhost:8080/",
          "height": 297
        },
        "id": "naoDDSdveAQu",
        "outputId": "f9379f6a-bd0a-4137-fa51-334d5f796125"
      },
      "source": [
        "sns.countplot(y= df['education_level'], palette=\"Blues\") \n",
        "# Comprobamos que el mayor número de trabajadores poseen un Grado Universitario."
      ],
      "execution_count": 39,
      "outputs": [
        {
          "output_type": "execute_result",
          "data": {
            "text/plain": [
              "<matplotlib.axes._subplots.AxesSubplot at 0x7f18f960bc10>"
            ]
          },
          "metadata": {},
          "execution_count": 39
        },
        {
          "output_type": "display_data",
          "data": {
            "image/png": "[encoded data removed]",
            "text/plain": [
              "<Figure size 432x288 with 1 Axes>"
            ]
          },
          "metadata": {
            "needs_background": "light"
          }
        }
      ]
    },
    {
      "cell_type": "code",
      "metadata": {
        "colab": {
          "base_uri": "https://localhost:8080/"
        },
        "id": "HFb_T-hle4_A",
        "outputId": "a71ad618-9a0f-4782-c29e-be991667f109"
      },
      "source": [
        "# en esta variable teniamos algunos valores nulos.\n",
        "df['education_level'].isna().sum()\n"
      ],
      "execution_count": 40,
      "outputs": [
        {
          "output_type": "execute_result",
          "data": {
            "text/plain": [
              "460"
            ]
          },
          "metadata": {},
          "execution_count": 40
        }
      ]
    },
    {
      "cell_type": "code",
      "metadata": {
        "id": "nwgW_UP0fchZ"
      },
      "source": [
        "# Rellenamos los valores nulos de esta variable con el valor intermedio, para seguir manteniendo las proporciones.\n",
        "df['education_level'].fillna('High School', inplace=True)"
      ],
      "execution_count": 41,
      "outputs": []
    },
    {
      "cell_type": "code",
      "metadata": {
        "colab": {
          "base_uri": "https://localhost:8080/"
        },
        "id": "xBr-NhEvfoEh",
        "outputId": "4e9d1552-c3c8-4556-878f-1de09fe7881a"
      },
      "source": [
        "df['education_level'].isna().sum()\n"
      ],
      "execution_count": 42,
      "outputs": [
        {
          "output_type": "execute_result",
          "data": {
            "text/plain": [
              "0"
            ]
          },
          "metadata": {},
          "execution_count": 42
        }
      ]
    },
    {
      "cell_type": "code",
      "metadata": {
        "colab": {
          "base_uri": "https://localhost:8080/",
          "height": 482
        },
        "id": "vAdFajgRuFde",
        "outputId": "e37adbe6-c5c8-4493-df26-41461053cbca"
      },
      "source": [
        "# Visualizamos el gráfico de una forma diferente.\n",
        "labels = list(df[\"education_level\"].value_counts().index)\n",
        "values = list(df[\"education_level\"].value_counts().values)\n",
        "\n",
        "plt.figure(figsize=(8,8))\n",
        "plt.pie(values, labels=labels, autopct=\"%1.1f%%\",\n",
        "        colors=[\"#7fcc00\", \"#ff3a33\", \"#f7ff66\", \"#3339ff\", \"#99ffa9\"],\n",
        "        shadow=True, explode = [0.03, 0.03, 0.03, 0.03, 0.03],\n",
        "        startangle=270)\n",
        "plt.title(\"Education Level\");"
      ],
      "execution_count": 43,
      "outputs": [
        {
          "output_type": "display_data",
          "data": {
            "image/png": "[encoded data removed]",
            "text/plain": [
              "<Figure size 576x576 with 1 Axes>"
            ]
          },
          "metadata": {}
        }
      ]
    },
    {
      "cell_type": "code",
      "metadata": {
        "colab": {
          "base_uri": "https://localhost:8080/",
          "height": 387
        },
        "id": "kkBOGBu-oeYS",
        "outputId": "474009d6-9153-42db-c360-c41565645b8e"
      },
      "source": [
        "# Comparamos esta variable con la variable objetivo.\n",
        "sns.catplot(x=\"education_level\", y=\"target\", data=df, kind=\"bar\", ci=None)\n",
        "# Comprobamos que el mayor numero de personas buscando un nuevo empleo son Graduadas."
      ],
      "execution_count": 44,
      "outputs": [
        {
          "output_type": "execute_result",
          "data": {
            "text/plain": [
              "<seaborn.axisgrid.FacetGrid at 0x7f18f954fe50>"
            ]
          },
          "metadata": {},
          "execution_count": 44
        },
        {
          "output_type": "display_data",
          "data": {
            "image/png": "[encoded data removed]",
            "text/plain": [
              "<Figure size 360x360 with 1 Axes>"
            ]
          },
          "metadata": {
            "needs_background": "light"
          }
        }
      ]
    },
    {
      "cell_type": "markdown",
      "metadata": {
        "id": "_WDxFCPjgmH7"
      },
      "source": [
        "### Enrolled_university: tipo de curso universitario inscrito, si lo hubiera.\n"
      ]
    },
    {
      "cell_type": "code",
      "metadata": {
        "colab": {
          "base_uri": "https://localhost:8080/",
          "height": 297
        },
        "id": "uBY7r8NSg5I3",
        "outputId": "293a9e72-660d-4ef2-dc92-2ba3173d62b1"
      },
      "source": [
        "sns.countplot(y= df['enrolled_university'], palette=\"Blues\")\n",
        " # Comprobamos esta variable."
      ],
      "execution_count": 45,
      "outputs": [
        {
          "output_type": "execute_result",
          "data": {
            "text/plain": [
              "<matplotlib.axes._subplots.AxesSubplot at 0x7f18f94e45d0>"
            ]
          },
          "metadata": {},
          "execution_count": 45
        },
        {
          "output_type": "display_data",
          "data": {
            "image/png": "[encoded data removed]",
            "text/plain": [
              "<Figure size 432x288 with 1 Axes>"
            ]
          },
          "metadata": {
            "needs_background": "light"
          }
        }
      ]
    },
    {
      "cell_type": "markdown",
      "metadata": {
        "id": "fCEnIVlXg_0W"
      },
      "source": [
        "No le encuentro sentido a esta variable, ya que el mayor numero de empleados era graduados y aqui aparece  como no apuntandos a la universidad, asi que elimino esta columna.\n"
      ]
    },
    {
      "cell_type": "code",
      "metadata": {
        "id": "iIQ7lRoig5HI"
      },
      "source": [
        "df.drop(['enrolled_university'],axis=1,inplace=True) \n"
      ],
      "execution_count": 46,
      "outputs": []
    },
    {
      "cell_type": "markdown",
      "metadata": {
        "id": "WbnvAt76hP_R"
      },
      "source": [
        "### Major discipline: disciplina principal de educación del candidato.\n"
      ]
    },
    {
      "cell_type": "code",
      "metadata": {
        "colab": {
          "base_uri": "https://localhost:8080/",
          "height": 298
        },
        "id": "pTtAWxdzigHN",
        "outputId": "2ec48e24-2959-40b2-f2d8-d10f87070b62"
      },
      "source": [
        "sns.countplot(x=df.major_discipline, palette=\"Set3\")# visualizamos la variable."
      ],
      "execution_count": 47,
      "outputs": [
        {
          "output_type": "execute_result",
          "data": {
            "text/plain": [
              "<matplotlib.axes._subplots.AxesSubplot at 0x7f18f94ac6d0>"
            ]
          },
          "metadata": {},
          "execution_count": 47
        },
        {
          "output_type": "display_data",
          "data": {
            "image/png": "[encoded data removed]",
            "text/plain": [
              "<Figure size 432x288 with 1 Axes>"
            ]
          },
          "metadata": {
            "needs_background": "light"
          }
        }
      ]
    },
    {
      "cell_type": "code",
      "metadata": {
        "colab": {
          "base_uri": "https://localhost:8080/",
          "height": 300
        },
        "id": "VyrSp_rPy8h_",
        "outputId": "f396cc08-0f53-42c4-9c1f-97bd71cba41e"
      },
      "source": [
        "# Mayor discipline_ STEM; SCIENCE.\n",
        "# comparamos esta variable con la variable objetivo\n",
        "pd.crosstab(index=df[\"major_discipline\"],\n",
        "                        columns=df[\"target\"], margins=True)\n"
      ],
      "execution_count": 48,
      "outputs": [
        {
          "output_type": "execute_result",
          "data": {
            "text/html": [
              "<div>\n",
              "<style scoped>\n",
              "    .dataframe tbody tr th:only-of-type {\n",
              "        vertical-align: middle;\n",
              "    }\n",
              "\n",
              "    .dataframe tbody tr th {\n",
              "        vertical-align: top;\n",
              "    }\n",
              "\n",
              "    .dataframe thead th {\n",
              "        text-align: right;\n",
              "    }\n",
              "</style>\n",
              "<table border=\"1\" class=\"dataframe\">\n",
              "  <thead>\n",
              "    <tr style=\"text-align: right;\">\n",
              "      <th>target</th>\n",
              "      <th>0.0</th>\n",
              "      <th>1.0</th>\n",
              "      <th>All</th>\n",
              "    </tr>\n",
              "    <tr>\n",
              "      <th>major_discipline</th>\n",
              "      <th></th>\n",
              "      <th></th>\n",
              "      <th></th>\n",
              "    </tr>\n",
              "  </thead>\n",
              "  <tbody>\n",
              "    <tr>\n",
              "      <th>Arts</th>\n",
              "      <td>200</td>\n",
              "      <td>53</td>\n",
              "      <td>253</td>\n",
              "    </tr>\n",
              "    <tr>\n",
              "      <th>Business Degree</th>\n",
              "      <td>241</td>\n",
              "      <td>86</td>\n",
              "      <td>327</td>\n",
              "    </tr>\n",
              "    <tr>\n",
              "      <th>Humanities</th>\n",
              "      <td>528</td>\n",
              "      <td>141</td>\n",
              "      <td>669</td>\n",
              "    </tr>\n",
              "    <tr>\n",
              "      <th>No Major</th>\n",
              "      <td>168</td>\n",
              "      <td>55</td>\n",
              "      <td>223</td>\n",
              "    </tr>\n",
              "    <tr>\n",
              "      <th>Other</th>\n",
              "      <td>279</td>\n",
              "      <td>102</td>\n",
              "      <td>381</td>\n",
              "    </tr>\n",
              "    <tr>\n",
              "      <th>STEM</th>\n",
              "      <td>10667</td>\n",
              "      <td>3780</td>\n",
              "      <td>14447</td>\n",
              "    </tr>\n",
              "    <tr>\n",
              "      <th>All</th>\n",
              "      <td>12083</td>\n",
              "      <td>4217</td>\n",
              "      <td>16300</td>\n",
              "    </tr>\n",
              "  </tbody>\n",
              "</table>\n",
              "</div>"
            ],
            "text/plain": [
              "target              0.0   1.0    All\n",
              "major_discipline                    \n",
              "Arts                200    53    253\n",
              "Business Degree     241    86    327\n",
              "Humanities          528   141    669\n",
              "No Major            168    55    223\n",
              "Other               279   102    381\n",
              "STEM              10667  3780  14447\n",
              "All               12083  4217  16300"
            ]
          },
          "metadata": {},
          "execution_count": 48
        }
      ]
    },
    {
      "cell_type": "code",
      "metadata": {
        "colab": {
          "base_uri": "https://localhost:8080/",
          "height": 269
        },
        "id": "Xi6krTLfzmuh",
        "outputId": "6fdd452b-fc68-4a05-f31b-a70473f3d4d4"
      },
      "source": [
        "pd.crosstab(df['major_discipline'], df['target'], margins=False).apply(lambda r:(r/r.sum())*100, axis=0)\n",
        "# tenemos la comparacion relativa en tanto por ciento\n"
      ],
      "execution_count": 49,
      "outputs": [
        {
          "output_type": "execute_result",
          "data": {
            "text/html": [
              "<div>\n",
              "<style scoped>\n",
              "    .dataframe tbody tr th:only-of-type {\n",
              "        vertical-align: middle;\n",
              "    }\n",
              "\n",
              "    .dataframe tbody tr th {\n",
              "        vertical-align: top;\n",
              "    }\n",
              "\n",
              "    .dataframe thead th {\n",
              "        text-align: right;\n",
              "    }\n",
              "</style>\n",
              "<table border=\"1\" class=\"dataframe\">\n",
              "  <thead>\n",
              "    <tr style=\"text-align: right;\">\n",
              "      <th>target</th>\n",
              "      <th>0.0</th>\n",
              "      <th>1.0</th>\n",
              "    </tr>\n",
              "    <tr>\n",
              "      <th>major_discipline</th>\n",
              "      <th></th>\n",
              "      <th></th>\n",
              "    </tr>\n",
              "  </thead>\n",
              "  <tbody>\n",
              "    <tr>\n",
              "      <th>Arts</th>\n",
              "      <td>1.655218</td>\n",
              "      <td>1.256818</td>\n",
              "    </tr>\n",
              "    <tr>\n",
              "      <th>Business Degree</th>\n",
              "      <td>1.994538</td>\n",
              "      <td>2.039364</td>\n",
              "    </tr>\n",
              "    <tr>\n",
              "      <th>Humanities</th>\n",
              "      <td>4.369776</td>\n",
              "      <td>3.343609</td>\n",
              "    </tr>\n",
              "    <tr>\n",
              "      <th>No Major</th>\n",
              "      <td>1.390383</td>\n",
              "      <td>1.304245</td>\n",
              "    </tr>\n",
              "    <tr>\n",
              "      <th>Other</th>\n",
              "      <td>2.309029</td>\n",
              "      <td>2.418781</td>\n",
              "    </tr>\n",
              "    <tr>\n",
              "      <th>STEM</th>\n",
              "      <td>88.281056</td>\n",
              "      <td>89.637183</td>\n",
              "    </tr>\n",
              "  </tbody>\n",
              "</table>\n",
              "</div>"
            ],
            "text/plain": [
              "target                  0.0        1.0\n",
              "major_discipline                      \n",
              "Arts               1.655218   1.256818\n",
              "Business Degree    1.994538   2.039364\n",
              "Humanities         4.369776   3.343609\n",
              "No Major           1.390383   1.304245\n",
              "Other              2.309029   2.418781\n",
              "STEM              88.281056  89.637183"
            ]
          },
          "metadata": {},
          "execution_count": 49
        }
      ]
    },
    {
      "cell_type": "code",
      "metadata": {
        "colab": {
          "base_uri": "https://localhost:8080/",
          "height": 354
        },
        "id": "F8Ps4Ag6NgEs",
        "outputId": "3acad024-1a02-43d7-ebf4-1cd4155d3862"
      },
      "source": [
        "# Mayor discipline_ Visualizamos comparando esta variable con el objetivo.\n",
        "plt.figure(figsize=(8, 5))\n",
        "sns.set_style('whitegrid')\n",
        "sns.countplot(x = 'major_discipline',hue='target',data=df)"
      ],
      "execution_count": 50,
      "outputs": [
        {
          "output_type": "execute_result",
          "data": {
            "text/plain": [
              "<matplotlib.axes._subplots.AxesSubplot at 0x7f18f94b28d0>"
            ]
          },
          "metadata": {},
          "execution_count": 50
        },
        {
          "output_type": "display_data",
          "data": {
            "image/png": "[encoded data removed]",
            "text/plain": [
              "<Figure size 576x360 with 1 Axes>"
            ]
          },
          "metadata": {
            "needs_background": "light"
          }
        }
      ]
    },
    {
      "cell_type": "code",
      "metadata": {
        "id": "DaCTnNwTi39U"
      },
      "source": [
        "# esta variable la elimino ya que  el ratio con respecto a la variable objetivo no me aporta mucho valor al modelo.\n",
        "df.drop(['major_discipline'], axis=1,inplace=True)\n"
      ],
      "execution_count": 51,
      "outputs": []
    },
    {
      "cell_type": "markdown",
      "metadata": {
        "id": "QhXO33V9jjAL"
      },
      "source": [
        "### Experience: Experiencia total del candidato en años.\n"
      ]
    },
    {
      "cell_type": "code",
      "metadata": {
        "colab": {
          "base_uri": "https://localhost:8080/"
        },
        "id": "BfMgE9_sWW5S",
        "outputId": "15670c77-2d48-4820-e4cc-cf5e775f9f2d"
      },
      "source": [
        "df['experience'].isna().sum()"
      ],
      "execution_count": 52,
      "outputs": [
        {
          "output_type": "execute_result",
          "data": {
            "text/plain": [
              "65"
            ]
          },
          "metadata": {},
          "execution_count": 52
        }
      ]
    },
    {
      "cell_type": "code",
      "metadata": {
        "id": "MVtjuvnAj_P-"
      },
      "source": [
        "# rellenamos los valores nulos de esta variable.\n",
        "df['experience'].fillna(\"0\", inplace=True)"
      ],
      "execution_count": 53,
      "outputs": []
    },
    {
      "cell_type": "code",
      "metadata": {
        "colab": {
          "base_uri": "https://localhost:8080/"
        },
        "id": "LpqEdZOsYec6",
        "outputId": "f3e55810-3527-47c8-cbf4-5e200e8a1275"
      },
      "source": [
        "df['experience'].isna().sum()"
      ],
      "execution_count": 54,
      "outputs": [
        {
          "output_type": "execute_result",
          "data": {
            "text/plain": [
              "0"
            ]
          },
          "metadata": {},
          "execution_count": 54
        }
      ]
    },
    {
      "cell_type": "code",
      "metadata": {
        "id": "cR3EhDrXP3UC"
      },
      "source": [
        "# reemplazamos los valores de la columna experience >20 por 21, ya que al convertirlo en numericos da error.\n",
        "df[\"experience\"].replace({\">20\": \"21\",\"<1\":\"0\"}, inplace=True)"
      ],
      "execution_count": 55,
      "outputs": []
    },
    {
      "cell_type": "code",
      "metadata": {
        "id": "k6NxX_mxPVwI"
      },
      "source": [
        "# Convertimos la columna de 'experience' en valores númericos.\n",
        "df[\"experience\"] = pd.to_numeric(df[\"experience\"])"
      ],
      "execution_count": 56,
      "outputs": []
    },
    {
      "cell_type": "code",
      "metadata": {
        "colab": {
          "base_uri": "https://localhost:8080/"
        },
        "id": "HLnRKwPyTz23",
        "outputId": "d55019a3-ae63-4ecd-986f-a13fdf015887"
      },
      "source": [
        "df[\"experience\"].dtypes"
      ],
      "execution_count": 57,
      "outputs": [
        {
          "output_type": "execute_result",
          "data": {
            "text/plain": [
              "dtype('int64')"
            ]
          },
          "metadata": {},
          "execution_count": 57
        }
      ]
    },
    {
      "cell_type": "code",
      "metadata": {
        "colab": {
          "base_uri": "https://localhost:8080/",
          "height": 460
        },
        "id": "HP1666cKSM4m",
        "outputId": "5dfbd31a-a95c-45c8-dd3e-5ae970a2d20d"
      },
      "source": [
        "# Comparamos esta variable con la variable objetivo. Observamos una tendecia descendiente.\n",
        "# A mas años de experiencia, menos probabilidad de buscar un nuevo trabajo.\n",
        "plt.figure(figsize= [15.0, 7.0])\n",
        "sns.barplot(x=\"experience\", y=\"target\", data=df)"
      ],
      "execution_count": 58,
      "outputs": [
        {
          "output_type": "execute_result",
          "data": {
            "text/plain": [
              "<matplotlib.axes._subplots.AxesSubplot at 0x7f18f9386ed0>"
            ]
          },
          "metadata": {},
          "execution_count": 58
        },
        {
          "output_type": "display_data",
          "data": {
            "image/png": "[encoded data removed]",
            "text/plain": [
              "<Figure size 1080x504 with 1 Axes>"
            ]
          },
          "metadata": {}
        }
      ]
    },
    {
      "cell_type": "code",
      "metadata": {
        "id": "2hRiYGwmTpEK"
      },
      "source": [
        "# Realizamos la discretización del atributo Experience con pd.cut y bins / labels a medida\n",
        "bins = [0, 5, 10, 15, 20, np.inf]\n",
        "labels = ['0-5', '5-10', '10-15', '15-20', '+20']\n",
        "for score in df:\n",
        "    df['años_experiencia'] = pd.cut(df[\"experience\"], bins=bins, labels=labels)"
      ],
      "execution_count": 59,
      "outputs": []
    },
    {
      "cell_type": "code",
      "metadata": {
        "colab": {
          "base_uri": "https://localhost:8080/",
          "height": 461
        },
        "id": "LLWd0IgUWb1F",
        "outputId": "92af47f1-0cc8-47e1-a227-382262f5b88d"
      },
      "source": [
        "# Comparamos esta variable con la variable objetivo, y observamos la tendencia.\n",
        "plt.figure(figsize= [15.0, 7.0])\n",
        "sns.barplot(x=\"años_experiencia\", y=\"target\", data=df)"
      ],
      "execution_count": 60,
      "outputs": [
        {
          "output_type": "execute_result",
          "data": {
            "text/plain": [
              "<matplotlib.axes._subplots.AxesSubplot at 0x7f18f927c210>"
            ]
          },
          "metadata": {},
          "execution_count": 60
        },
        {
          "output_type": "display_data",
          "data": {
            "image/png": "[encoded data removed]",
            "text/plain": [
              "<Figure size 1080x504 with 1 Axes>"
            ]
          },
          "metadata": {}
        }
      ]
    },
    {
      "cell_type": "code",
      "metadata": {
        "id": "AEbYeaQol6sB"
      },
      "source": [
        "# Eliminamos columnas ya discretizadas,  para no  repetirlas.\n",
        "df.drop(['experience'], axis=1,inplace=True)\n"
      ],
      "execution_count": 61,
      "outputs": []
    },
    {
      "cell_type": "code",
      "metadata": {
        "colab": {
          "base_uri": "https://localhost:8080/"
        },
        "id": "2cLLfZ-SXuWn",
        "outputId": "ac310011-a7be-43b6-cb12-09d80a2a033e"
      },
      "source": [
        "df['años_experiencia'].isna().sum()"
      ],
      "execution_count": 62,
      "outputs": [
        {
          "output_type": "execute_result",
          "data": {
            "text/plain": [
              "586"
            ]
          },
          "metadata": {},
          "execution_count": 62
        }
      ]
    },
    {
      "cell_type": "markdown",
      "metadata": {
        "id": "QoBVW3ddl_PD"
      },
      "source": [
        "### company_size: Número de empleados en la empresa del empleador actual."
      ]
    },
    {
      "cell_type": "code",
      "metadata": {
        "colab": {
          "base_uri": "https://localhost:8080/",
          "height": 298
        },
        "id": "erWvbKzJmKJA",
        "outputId": "bbf1a7ea-1bde-473e-9a91-1ed23bc7fa88"
      },
      "source": [
        "sns.countplot(x=df.company_size, palette=\"Set3\")\n",
        "# Visualizamos los datos de esta variable."
      ],
      "execution_count": 63,
      "outputs": [
        {
          "output_type": "execute_result",
          "data": {
            "text/plain": [
              "<matplotlib.axes._subplots.AxesSubplot at 0x7f18f955d390>"
            ]
          },
          "metadata": {},
          "execution_count": 63
        },
        {
          "output_type": "display_data",
          "data": {
            "image/png": "[encoded data removed]",
            "text/plain": [
              "<Figure size 432x288 with 1 Axes>"
            ]
          },
          "metadata": {}
        }
      ]
    },
    {
      "cell_type": "code",
      "metadata": {
        "id": "kJzqyqN9otEp",
        "colab": {
          "base_uri": "https://localhost:8080/"
        },
        "outputId": "ca060840-2337-4f08-8388-55e6fc2802f3"
      },
      "source": [
        "# Missing values.\n",
        "df['company_size'].isna().sum()"
      ],
      "execution_count": 64,
      "outputs": [
        {
          "output_type": "execute_result",
          "data": {
            "text/plain": [
              "5920"
            ]
          },
          "metadata": {},
          "execution_count": 64
        }
      ]
    },
    {
      "cell_type": "code",
      "metadata": {
        "id": "gl_JgdM7Krbl"
      },
      "source": [
        "# Rellenamos los valores NAN de esta columna copiando los valores de la celda anterior y posterior.\n",
        "df['company_size'].fillna(method='ffill', limit=1, inplace=True)\n",
        "df['company_size'].fillna(method='bfill', limit=1, inplace=True)"
      ],
      "execution_count": 65,
      "outputs": []
    },
    {
      "cell_type": "code",
      "metadata": {
        "id": "kJR68AOhpij0",
        "colab": {
          "base_uri": "https://localhost:8080/",
          "height": 298
        },
        "outputId": "96236004-27c4-4611-fb46-ab1129a407fa"
      },
      "source": [
        "sns.countplot(x=df.company_size, palette=\"Set3\")\n",
        "# Visualizamos los datos despues de la limpieza."
      ],
      "execution_count": 66,
      "outputs": [
        {
          "output_type": "execute_result",
          "data": {
            "text/plain": [
              "<matplotlib.axes._subplots.AxesSubplot at 0x7f19022d8250>"
            ]
          },
          "metadata": {},
          "execution_count": 66
        },
        {
          "output_type": "display_data",
          "data": {
            "image/png": "[encoded data removed]",
            "text/plain": [
              "<Figure size 432x288 with 1 Axes>"
            ]
          },
          "metadata": {}
        }
      ]
    },
    {
      "cell_type": "code",
      "metadata": {
        "id": "Ojuckg8tp1MK",
        "colab": {
          "base_uri": "https://localhost:8080/"
        },
        "outputId": "8c61c048-616b-40d3-9106-e784d5f945aa"
      },
      "source": [
        "# Missing values.\n",
        "df['company_size'].isna().sum()"
      ],
      "execution_count": 67,
      "outputs": [
        {
          "output_type": "execute_result",
          "data": {
            "text/plain": [
              "537"
            ]
          },
          "metadata": {},
          "execution_count": 67
        }
      ]
    },
    {
      "cell_type": "code",
      "metadata": {
        "id": "tdQi8DP0n2rs",
        "colab": {
          "base_uri": "https://localhost:8080/",
          "height": 331
        },
        "outputId": "d630b250-2a02-4b8c-d10d-13ffa2de40b4"
      },
      "source": [
        "pd.crosstab(df['company_size'], df['target'], margins=False).apply(lambda r:(r/r.sum())*100, axis=0)\n",
        "# Comparamos esta variable con la variable objetivo\n",
        "# Tenemos la comparación en tanto por ciento\n"
      ],
      "execution_count": 68,
      "outputs": [
        {
          "output_type": "execute_result",
          "data": {
            "text/html": [
              "<div>\n",
              "<style scoped>\n",
              "    .dataframe tbody tr th:only-of-type {\n",
              "        vertical-align: middle;\n",
              "    }\n",
              "\n",
              "    .dataframe tbody tr th {\n",
              "        vertical-align: top;\n",
              "    }\n",
              "\n",
              "    .dataframe thead th {\n",
              "        text-align: right;\n",
              "    }\n",
              "</style>\n",
              "<table border=\"1\" class=\"dataframe\">\n",
              "  <thead>\n",
              "    <tr style=\"text-align: right;\">\n",
              "      <th>target</th>\n",
              "      <th>0.0</th>\n",
              "      <th>1.0</th>\n",
              "    </tr>\n",
              "    <tr>\n",
              "      <th>company_size</th>\n",
              "      <th></th>\n",
              "      <th></th>\n",
              "    </tr>\n",
              "  </thead>\n",
              "  <tbody>\n",
              "    <tr>\n",
              "      <th>10/49</th>\n",
              "      <td>10.446486</td>\n",
              "      <td>13.579157</td>\n",
              "    </tr>\n",
              "    <tr>\n",
              "      <th>100-500</th>\n",
              "      <td>19.774977</td>\n",
              "      <td>18.944579</td>\n",
              "    </tr>\n",
              "    <tr>\n",
              "      <th>1000-4999</th>\n",
              "      <td>10.396639</td>\n",
              "      <td>8.920291</td>\n",
              "    </tr>\n",
              "    <tr>\n",
              "      <th>10000+</th>\n",
              "      <td>15.089368</td>\n",
              "      <td>14.903952</td>\n",
              "    </tr>\n",
              "    <tr>\n",
              "      <th>50-99</th>\n",
              "      <td>23.314107</td>\n",
              "      <td>23.537205</td>\n",
              "    </tr>\n",
              "    <tr>\n",
              "      <th>500-999</th>\n",
              "      <td>6.736452</td>\n",
              "      <td>6.270700</td>\n",
              "    </tr>\n",
              "    <tr>\n",
              "      <th>5000-9999</th>\n",
              "      <td>4.165777</td>\n",
              "      <td>4.438066</td>\n",
              "    </tr>\n",
              "    <tr>\n",
              "      <th>&lt;10</th>\n",
              "      <td>10.076195</td>\n",
              "      <td>9.406050</td>\n",
              "    </tr>\n",
              "  </tbody>\n",
              "</table>\n",
              "</div>"
            ],
            "text/plain": [
              "target              0.0        1.0\n",
              "company_size                      \n",
              "10/49         10.446486  13.579157\n",
              "100-500       19.774977  18.944579\n",
              "1000-4999     10.396639   8.920291\n",
              "10000+        15.089368  14.903952\n",
              "50-99         23.314107  23.537205\n",
              "500-999        6.736452   6.270700\n",
              "5000-9999      4.165777   4.438066\n",
              "<10           10.076195   9.406050"
            ]
          },
          "metadata": {},
          "execution_count": 68
        }
      ]
    },
    {
      "cell_type": "code",
      "metadata": {
        "id": "36xUiYZpk92H",
        "colab": {
          "base_uri": "https://localhost:8080/",
          "height": 354
        },
        "outputId": "0cc9a390-1b0b-466c-a55b-5ec3467d297c"
      },
      "source": [
        "# Visualizamos esta comparación.\n",
        "plt.figure(figsize=(8, 5))\n",
        "sns.set_style('whitegrid')\n",
        "sns.countplot(x = 'company_size',hue='target',data=df)"
      ],
      "execution_count": 69,
      "outputs": [
        {
          "output_type": "execute_result",
          "data": {
            "text/plain": [
              "<matplotlib.axes._subplots.AxesSubplot at 0x7f18f93f9310>"
            ]
          },
          "metadata": {},
          "execution_count": 69
        },
        {
          "output_type": "display_data",
          "data": {
            "image/png": "[encoded data removed]",
            "text/plain": [
              "<Figure size 576x360 with 1 Axes>"
            ]
          },
          "metadata": {}
        }
      ]
    },
    {
      "cell_type": "markdown",
      "metadata": {
        "id": "U8yf84YEoUNa"
      },
      "source": [
        "Discretizamos esta variable para reducir valores en :grande , mediana y pequeña empresa."
      ]
    },
    {
      "cell_type": "code",
      "metadata": {
        "id": "PgMI2c1hwUuv"
      },
      "source": [
        "# reemplazo los valores de esta variable, en vez de por intervalo por \n",
        "df['company_size'] = df.company_size.replace({'50-99':\"Mediana\",\n",
        "\"<10\":\"Pequeña\",\n",
        "\"10000+\":\"Gran_empresa\",\n",
        "\"5000-9999\": \"Gran_empresa\",\n",
        "\"1000-4999\":\"Gran_empresa\",\n",
        "\"10/49\":\"Pequeña\",\n",
        "\"100-500\":\"Mediana\",\n",
        "\"500-999\":\"Gran_empresa\"})\n"
      ],
      "execution_count": 70,
      "outputs": []
    },
    {
      "cell_type": "code",
      "metadata": {
        "id": "pQLq3q7k1g9f",
        "colab": {
          "base_uri": "https://localhost:8080/",
          "height": 355
        },
        "outputId": "9b346634-f41b-47cf-be59-e593d62bef42"
      },
      "source": [
        "#Comprobamos que el mayor numero de persona que buscan o no trabajo, se encuentran en la mediana empresa.\n",
        "plt.figure(figsize=(8, 5))\n",
        "sns.set_style('whitegrid')\n",
        "sns.countplot(x = 'company_size',hue='target',data=df)"
      ],
      "execution_count": 71,
      "outputs": [
        {
          "output_type": "execute_result",
          "data": {
            "text/plain": [
              "<matplotlib.axes._subplots.AxesSubplot at 0x7f18f9319250>"
            ]
          },
          "metadata": {},
          "execution_count": 71
        },
        {
          "output_type": "display_data",
          "data": {
            "image/png": "[encoded data removed]",
            "text/plain": [
              "<Figure size 576x360 with 1 Axes>"
            ]
          },
          "metadata": {}
        }
      ]
    },
    {
      "cell_type": "code",
      "metadata": {
        "id": "l5OiWsEVqV4_"
      },
      "source": [
        "# Reemplazamos valores nulos con la variable minoritaria para desbalancear.\n",
        "df['company_size'] = df.company_size.fillna(\"Pequeña\")\n"
      ],
      "execution_count": 72,
      "outputs": []
    },
    {
      "cell_type": "code",
      "metadata": {
        "id": "niYLeITlrMmo",
        "colab": {
          "base_uri": "https://localhost:8080/"
        },
        "outputId": "76d45345-eec7-4315-f6df-bda95abf5026"
      },
      "source": [
        "# Missing values.\n",
        "df['company_size'].isna().sum()"
      ],
      "execution_count": 73,
      "outputs": [
        {
          "output_type": "execute_result",
          "data": {
            "text/plain": [
              "0"
            ]
          },
          "metadata": {},
          "execution_count": 73
        }
      ]
    },
    {
      "cell_type": "markdown",
      "metadata": {
        "id": "NGph9DehrWT4"
      },
      "source": [
        "### Company Type: tipo de empleador actual."
      ]
    },
    {
      "cell_type": "code",
      "metadata": {
        "id": "Arz9elokLz1_",
        "colab": {
          "base_uri": "https://localhost:8080/",
          "height": 297
        },
        "outputId": "04cfeb6f-bb40-4f7a-f0bf-ba2dac1fd490"
      },
      "source": [
        "# Visualizamos los datos.\n",
        "sns.countplot(y= df['company_type'], palette=\"Blues\") # invertimos el eje\n",
        "# Sociedad de responsabilidad limitada (Private limited company)\n"
      ],
      "execution_count": 74,
      "outputs": [
        {
          "output_type": "execute_result",
          "data": {
            "text/plain": [
              "<matplotlib.axes._subplots.AxesSubplot at 0x7f18f910ccd0>"
            ]
          },
          "metadata": {},
          "execution_count": 74
        },
        {
          "output_type": "display_data",
          "data": {
            "image/png": "[encoded data removed]",
            "text/plain": [
              "<Figure size 432x288 with 1 Axes>"
            ]
          },
          "metadata": {}
        }
      ]
    },
    {
      "cell_type": "code",
      "metadata": {
        "id": "369POYk6snEG"
      },
      "source": [
        "# Reemplazamos valores nulos con la variable minoritaria para desbalancear.\n",
        "df['company_type'] = df.company_type.fillna(\"Other\")"
      ],
      "execution_count": 75,
      "outputs": []
    },
    {
      "cell_type": "code",
      "metadata": {
        "id": "R5KJASDKlcUL",
        "colab": {
          "base_uri": "https://localhost:8080/",
          "height": 352
        },
        "outputId": "374d49b9-4e3d-469c-e906-c84e21d71a88"
      },
      "source": [
        "# comparamos con la variable.\n",
        "plt.figure(figsize=(10, 5))\n",
        "sns.set_style('whitegrid')\n",
        "sns.countplot(x = 'company_type',hue='target',data=df,palette='winter_r')"
      ],
      "execution_count": 76,
      "outputs": [
        {
          "output_type": "execute_result",
          "data": {
            "text/plain": [
              "<matplotlib.axes._subplots.AxesSubplot at 0x7f18f9234490>"
            ]
          },
          "metadata": {},
          "execution_count": 76
        },
        {
          "output_type": "display_data",
          "data": {
            "image/png": "[encoded data removed]",
            "text/plain": [
              "<Figure size 720x360 with 1 Axes>"
            ]
          },
          "metadata": {}
        }
      ]
    },
    {
      "cell_type": "code",
      "metadata": {
        "id": "4IkF44Vg12YO"
      },
      "source": [
        "# Unimos las variable StarUp\n",
        "df['company_type'] = df['company_type'].replace({\n",
        "\"Early Stage Startup\":\"Startup\",\n",
        "\"Funded Startup\":\"Startup\",})"
      ],
      "execution_count": 77,
      "outputs": []
    },
    {
      "cell_type": "code",
      "metadata": {
        "id": "mNDtU_gUtTLn",
        "colab": {
          "base_uri": "https://localhost:8080/",
          "height": 257
        },
        "outputId": "bac74253-d746-460a-bea6-904964e1fc1c"
      },
      "source": [
        "df.groupby(['company_type']).count()"
      ],
      "execution_count": 78,
      "outputs": [
        {
          "output_type": "execute_result",
          "data": {
            "text/html": [
              "<div>\n",
              "<style scoped>\n",
              "    .dataframe tbody tr th:only-of-type {\n",
              "        vertical-align: middle;\n",
              "    }\n",
              "\n",
              "    .dataframe tbody tr th {\n",
              "        vertical-align: top;\n",
              "    }\n",
              "\n",
              "    .dataframe thead th {\n",
              "        text-align: right;\n",
              "    }\n",
              "</style>\n",
              "<table border=\"1\" class=\"dataframe\">\n",
              "  <thead>\n",
              "    <tr style=\"text-align: right;\">\n",
              "      <th></th>\n",
              "      <th>city_development_index</th>\n",
              "      <th>education_level</th>\n",
              "      <th>company_size</th>\n",
              "      <th>last_new_job</th>\n",
              "      <th>training_hours</th>\n",
              "      <th>target</th>\n",
              "      <th>Sex_bin</th>\n",
              "      <th>relev_exp_bin</th>\n",
              "      <th>años_experiencia</th>\n",
              "    </tr>\n",
              "    <tr>\n",
              "      <th>company_type</th>\n",
              "      <th></th>\n",
              "      <th></th>\n",
              "      <th></th>\n",
              "      <th></th>\n",
              "      <th></th>\n",
              "      <th></th>\n",
              "      <th></th>\n",
              "      <th></th>\n",
              "      <th></th>\n",
              "    </tr>\n",
              "  </thead>\n",
              "  <tbody>\n",
              "    <tr>\n",
              "      <th>NGO</th>\n",
              "      <td>521</td>\n",
              "      <td>521</td>\n",
              "      <td>521</td>\n",
              "      <td>512</td>\n",
              "      <td>521</td>\n",
              "      <td>521</td>\n",
              "      <td>521</td>\n",
              "      <td>521</td>\n",
              "      <td>500</td>\n",
              "    </tr>\n",
              "    <tr>\n",
              "      <th>Other</th>\n",
              "      <td>6243</td>\n",
              "      <td>6243</td>\n",
              "      <td>6243</td>\n",
              "      <td>5997</td>\n",
              "      <td>6243</td>\n",
              "      <td>6243</td>\n",
              "      <td>6243</td>\n",
              "      <td>6243</td>\n",
              "      <td>5915</td>\n",
              "    </tr>\n",
              "    <tr>\n",
              "      <th>Public Sector</th>\n",
              "      <td>953</td>\n",
              "      <td>953</td>\n",
              "      <td>953</td>\n",
              "      <td>934</td>\n",
              "      <td>953</td>\n",
              "      <td>953</td>\n",
              "      <td>953</td>\n",
              "      <td>953</td>\n",
              "      <td>937</td>\n",
              "    </tr>\n",
              "    <tr>\n",
              "      <th>Pvt Ltd</th>\n",
              "      <td>9788</td>\n",
              "      <td>9788</td>\n",
              "      <td>9788</td>\n",
              "      <td>9667</td>\n",
              "      <td>9788</td>\n",
              "      <td>9788</td>\n",
              "      <td>9788</td>\n",
              "      <td>9788</td>\n",
              "      <td>9602</td>\n",
              "    </tr>\n",
              "    <tr>\n",
              "      <th>Startup</th>\n",
              "      <td>1604</td>\n",
              "      <td>1604</td>\n",
              "      <td>1604</td>\n",
              "      <td>1576</td>\n",
              "      <td>1604</td>\n",
              "      <td>1604</td>\n",
              "      <td>1604</td>\n",
              "      <td>1604</td>\n",
              "      <td>1569</td>\n",
              "    </tr>\n",
              "  </tbody>\n",
              "</table>\n",
              "</div>"
            ],
            "text/plain": [
              "               city_development_index  ...  años_experiencia\n",
              "company_type                           ...                  \n",
              "NGO                               521  ...               500\n",
              "Other                            6243  ...              5915\n",
              "Public Sector                     953  ...               937\n",
              "Pvt Ltd                          9788  ...              9602\n",
              "Startup                          1604  ...              1569\n",
              "\n",
              "[5 rows x 9 columns]"
            ]
          },
          "metadata": {},
          "execution_count": 78
        }
      ]
    },
    {
      "cell_type": "code",
      "metadata": {
        "id": "Aw4u-jfftyFb",
        "colab": {
          "base_uri": "https://localhost:8080/",
          "height": 237
        },
        "outputId": "294339bd-268a-4aed-ecae-46b0343e13e3"
      },
      "source": [
        "pd.crosstab(df['company_type'], df['target'], margins=False).apply(lambda r:(r/r.sum())*100, axis=0)\n",
        "# tenemos la comparacion relativa en tanto por ciento\n"
      ],
      "execution_count": 79,
      "outputs": [
        {
          "output_type": "execute_result",
          "data": {
            "text/html": [
              "<div>\n",
              "<style scoped>\n",
              "    .dataframe tbody tr th:only-of-type {\n",
              "        vertical-align: middle;\n",
              "    }\n",
              "\n",
              "    .dataframe tbody tr th {\n",
              "        vertical-align: top;\n",
              "    }\n",
              "\n",
              "    .dataframe thead th {\n",
              "        text-align: right;\n",
              "    }\n",
              "</style>\n",
              "<table border=\"1\" class=\"dataframe\">\n",
              "  <thead>\n",
              "    <tr style=\"text-align: right;\">\n",
              "      <th>target</th>\n",
              "      <th>0.0</th>\n",
              "      <th>1.0</th>\n",
              "    </tr>\n",
              "    <tr>\n",
              "      <th>company_type</th>\n",
              "      <th></th>\n",
              "      <th></th>\n",
              "    </tr>\n",
              "  </thead>\n",
              "  <tbody>\n",
              "    <tr>\n",
              "      <th>NGO</th>\n",
              "      <td>2.955940</td>\n",
              "      <td>2.035677</td>\n",
              "    </tr>\n",
              "    <tr>\n",
              "      <th>Other</th>\n",
              "      <td>26.763804</td>\n",
              "      <td>50.451207</td>\n",
              "    </tr>\n",
              "    <tr>\n",
              "      <th>Public Sector</th>\n",
              "      <td>5.179866</td>\n",
              "      <td>4.407135</td>\n",
              "    </tr>\n",
              "    <tr>\n",
              "      <th>Pvt Ltd</th>\n",
              "      <td>55.883993</td>\n",
              "      <td>37.187828</td>\n",
              "    </tr>\n",
              "    <tr>\n",
              "      <th>Startup</th>\n",
              "      <td>9.216397</td>\n",
              "      <td>5.918153</td>\n",
              "    </tr>\n",
              "  </tbody>\n",
              "</table>\n",
              "</div>"
            ],
            "text/plain": [
              "target               0.0        1.0\n",
              "company_type                       \n",
              "NGO             2.955940   2.035677\n",
              "Other          26.763804  50.451207\n",
              "Public Sector   5.179866   4.407135\n",
              "Pvt Ltd        55.883993  37.187828\n",
              "Startup         9.216397   5.918153"
            ]
          },
          "metadata": {},
          "execution_count": 79
        }
      ]
    },
    {
      "cell_type": "markdown",
      "metadata": {
        "id": "8FD-4cJDw2Zx"
      },
      "source": [
        "### Last new job: diferencia en años entre el trabajo anterior y el trabajo actual,es decir, cuantos años lleva en esta empresa.\n"
      ]
    },
    {
      "cell_type": "code",
      "metadata": {
        "id": "B-29ei-1xWUf"
      },
      "source": [
        "# Missing values\n",
        "df['last_new_job'].fillna('never', inplace=True)"
      ],
      "execution_count": 80,
      "outputs": []
    },
    {
      "cell_type": "code",
      "metadata": {
        "id": "wEO-mBPphAC6"
      },
      "source": [
        "# reemplazamos los valores de la columna experience >20 por 21, ya que al convertirlo en numericos da error.\n",
        "df[\"last_new_job\"].replace({\">4\": \"5\",\"never\":\"0\"}, inplace=True)"
      ],
      "execution_count": 81,
      "outputs": []
    },
    {
      "cell_type": "code",
      "metadata": {
        "id": "63ipTsSCg_5J"
      },
      "source": [
        "# Convertimos la columna de 'experience' en valores númericos.\n",
        "df[\"last_new_job\"] = pd.to_numeric(df[\"last_new_job\"])"
      ],
      "execution_count": 82,
      "outputs": []
    },
    {
      "cell_type": "code",
      "metadata": {
        "id": "xJbV1L2BpoiB",
        "colab": {
          "base_uri": "https://localhost:8080/",
          "height": 298
        },
        "outputId": "37fe751b-3425-4ee4-b08d-531658e3a086"
      },
      "source": [
        "sns.countplot(x=df.last_new_job, palette=\"Reds\")\n",
        "# comprobamos que el mayor numero de candidatos, tenian un año de experiencia en su puesto de trabajo anterior."
      ],
      "execution_count": 83,
      "outputs": [
        {
          "output_type": "execute_result",
          "data": {
            "text/plain": [
              "<matplotlib.axes._subplots.AxesSubplot at 0x7f18f90256d0>"
            ]
          },
          "metadata": {},
          "execution_count": 83
        },
        {
          "output_type": "display_data",
          "data": {
            "image/png": "[encoded data removed]",
            "text/plain": [
              "<Figure size 432x288 with 1 Axes>"
            ]
          },
          "metadata": {}
        }
      ]
    },
    {
      "cell_type": "code",
      "metadata": {
        "id": "ywl-gsngheGd",
        "colab": {
          "base_uri": "https://localhost:8080/",
          "height": 461
        },
        "outputId": "cd5f67fc-6853-45ab-9e8e-270ec1ca77a1"
      },
      "source": [
        "plt.figure(figsize= [15.0, 7.0])# en esta gráfica podemos observar como el porcentaje de personas que buscan un nuevo empleo se va reduciendo conforme tiene mas años en su puesto de trabajo.\n",
        "sns.barplot(x=\"last_new_job\", y=\"target\", data=df)"
      ],
      "execution_count": 84,
      "outputs": [
        {
          "output_type": "execute_result",
          "data": {
            "text/plain": [
              "<matplotlib.axes._subplots.AxesSubplot at 0x7f18f902be90>"
            ]
          },
          "metadata": {},
          "execution_count": 84
        },
        {
          "output_type": "display_data",
          "data": {
            "image/png": "[encoded data removed]",
            "text/plain": [
              "<Figure size 1080x504 with 1 Axes>"
            ]
          },
          "metadata": {}
        }
      ]
    },
    {
      "cell_type": "markdown",
      "metadata": {
        "id": "sjdjAY7IxmzL"
      },
      "source": [
        "### Training hours: horas de formación completadas.\n"
      ]
    },
    {
      "cell_type": "code",
      "metadata": {
        "id": "oUCXabc84QTf",
        "colab": {
          "base_uri": "https://localhost:8080/",
          "height": 280
        },
        "outputId": "48fdd484-49f7-4573-aa11-9b21728c4157"
      },
      "source": [
        "sns.distplot(df.training_hours);\n",
        "# Visualizamos esta variable , podemos comprobar que el mayor numero de formación , se encuentra entre 0 y 50 horas completadas."
      ],
      "execution_count": 85,
      "outputs": [
        {
          "output_type": "display_data",
          "data": {
            "image/png": "[encoded data removed]",
            "text/plain": [
              "<Figure size 432x288 with 1 Axes>"
            ]
          },
          "metadata": {}
        }
      ]
    },
    {
      "cell_type": "code",
      "metadata": {
        "id": "yMKdkbf1rXO9",
        "colab": {
          "base_uri": "https://localhost:8080/",
          "height": 354
        },
        "outputId": "2c35f1af-aea2-4dfc-eceb-88c5bc7c635e"
      },
      "source": [
        "plt.figure(figsize=(12, 5))\n",
        "sns.set_style('whitegrid')\n",
        "sns.kdeplot(data=df, x=\"training_hours\", hue=\"target\",cut = 0,palette='Set1')\n",
        "# Aquí podemos ver que solo a unos pocos empleados se les ha ofrecido una capacitación de más de 100 horas.\n"
      ],
      "execution_count": 86,
      "outputs": [
        {
          "output_type": "execute_result",
          "data": {
            "text/plain": [
              "<matplotlib.axes._subplots.AxesSubplot at 0x7f18f8e69c50>"
            ]
          },
          "metadata": {},
          "execution_count": 86
        },
        {
          "output_type": "display_data",
          "data": {
            "image/png": "[encoded data removed]",
            "text/plain": [
              "<Figure size 864x360 with 1 Axes>"
            ]
          },
          "metadata": {}
        }
      ]
    },
    {
      "cell_type": "code",
      "metadata": {
        "id": "2sBhLdRnx03I",
        "colab": {
          "base_uri": "https://localhost:8080/",
          "height": 399
        },
        "outputId": "cb57587d-b0d1-44a3-97c0-a73d63728562"
      },
      "source": [
        "# COMPROBAMOS QUE NO QUEDAN VALORES NULOS.\n",
        "sns.heatmap(df.isnull(),yticklabels=False,cmap=\"viridis\")"
      ],
      "execution_count": 87,
      "outputs": [
        {
          "output_type": "execute_result",
          "data": {
            "text/plain": [
              "<matplotlib.axes._subplots.AxesSubplot at 0x7f18f8dfdd90>"
            ]
          },
          "metadata": {},
          "execution_count": 87
        },
        {
          "output_type": "display_data",
          "data": {
            "image/png": "[encoded data removed]",
            "text/plain": [
              "<Figure size 432x288 with 2 Axes>"
            ]
          },
          "metadata": {}
        }
      ]
    },
    {
      "cell_type": "code",
      "metadata": {
        "id": "as-XvVWRrzR2"
      },
      "source": [
        "# Eliminamos los pocos valores nulos que nos quedan.\n",
        "df.dropna(inplace=True)"
      ],
      "execution_count": 89,
      "outputs": []
    },
    {
      "cell_type": "markdown",
      "metadata": {
        "id": "XhTPRwp66D-y"
      },
      "source": [
        "\n",
        "<a name=\"ML\"></a>\n",
        "<a href=\"#init\"><p style=\"text-align:right;\" href=\"#init\">Volver al índice</p></a> \n",
        "# 5. Empezamos Machine Learning</a></dt>\n",
        "  Train, Test\n",
        "\n",
        "<img src=\"./img/ml_types.png\" alt=\"drawing\" width=\"650\"/>\n"
      ]
    },
    {
      "cell_type": "markdown",
      "metadata": {
        "id": "IlOsIom_uc4R"
      },
      "source": [
        "Estandarización y binarización de variables categóricas."
      ]
    },
    {
      "cell_type": "code",
      "metadata": {
        "id": "sqzU-3MfD-pm"
      },
      "source": [
        "# data estandarizacion\n",
        "from sklearn import preprocessing\n",
        "cols_to_standarize = ['training_hours','last_new_job']\n",
        "for col in cols_to_standarize:\n",
        "  df[col] = preprocessing.scale(df[col], axis=0, copy=False)"
      ],
      "execution_count": 90,
      "outputs": []
    },
    {
      "cell_type": "code",
      "metadata": {
        "id": "b29S760Yg0MW"
      },
      "source": [
        "# get dummies\n",
        "categorical_feature = (df.dtypes == \"category\") | (df.dtypes == object)\n",
        "categorical_cols = df.columns[categorical_feature].tolist()\n",
        "df = pd.get_dummies(df, columns=categorical_cols)"
      ],
      "execution_count": 91,
      "outputs": []
    },
    {
      "cell_type": "markdown",
      "metadata": {
        "id": "uKQDnWb9up8L"
      },
      "source": [
        "Selecionamos las mejores variables con el método **SelectKBest**."
      ]
    },
    {
      "cell_type": "code",
      "metadata": {
        "id": "pC-UMUW1uri-"
      },
      "source": [
        ""
      ],
      "execution_count": null,
      "outputs": []
    },
    {
      "cell_type": "code",
      "metadata": {
        "id": "1bb31919-cca2-45d8-ab18-949abc6b2b65"
      },
      "source": [
        "# Realizamos el train_test_split 80-20\n",
        "X = df.drop(['target'], axis = 1)\n",
        "y = df['target']"
      ],
      "execution_count": 92,
      "outputs": []
    },
    {
      "cell_type": "code",
      "metadata": {
        "id": "ZaSCAS2Zux_D"
      },
      "source": [
        ""
      ],
      "execution_count": null,
      "outputs": []
    },
    {
      "cell_type": "code",
      "metadata": {
        "id": "JyOSD-4L-zy3"
      },
      "source": [
        "from sklearn.model_selection import train_test_split\n",
        "from sklearn.feature_selection import SelectKBest\n",
        "from sklearn.feature_selection import f_classif"
      ],
      "execution_count": 93,
      "outputs": []
    },
    {
      "cell_type": "code",
      "metadata": {
        "id": "A8C8dC1Iu0G7"
      },
      "source": [
        ""
      ],
      "execution_count": null,
      "outputs": []
    },
    {
      "cell_type": "code",
      "metadata": {
        "id": "hw6PDx_wizK9",
        "colab": {
          "base_uri": "https://localhost:8080/",
          "height": 237
        },
        "outputId": "6b6e6931-f285-4ef7-89fa-1c462793b3a0"
      },
      "source": [
        "selector = SelectKBest(score_func=f_classif)\n",
        "X_new = selector.fit_transform(X, y)\n",
        "\n",
        "scores = sorted(zip(map(lambda x: round(x, 4), selector.scores_), X.columns), reverse=True)\n",
        "pd.DataFrame(scores, columns=['Score', 'target']).head(6)"
      ],
      "execution_count": 95,
      "outputs": [
        {
          "output_type": "execute_result",
          "data": {
            "text/html": [
              "<div>\n",
              "<style scoped>\n",
              "    .dataframe tbody tr th:only-of-type {\n",
              "        vertical-align: middle;\n",
              "    }\n",
              "\n",
              "    .dataframe tbody tr th {\n",
              "        vertical-align: top;\n",
              "    }\n",
              "\n",
              "    .dataframe thead th {\n",
              "        text-align: right;\n",
              "    }\n",
              "</style>\n",
              "<table border=\"1\" class=\"dataframe\">\n",
              "  <thead>\n",
              "    <tr style=\"text-align: right;\">\n",
              "      <th></th>\n",
              "      <th>Score</th>\n",
              "      <th>target</th>\n",
              "    </tr>\n",
              "  </thead>\n",
              "  <tbody>\n",
              "    <tr>\n",
              "      <th>0</th>\n",
              "      <td>2342.3958</td>\n",
              "      <td>city_development_index</td>\n",
              "    </tr>\n",
              "    <tr>\n",
              "      <th>1</th>\n",
              "      <td>932.1820</td>\n",
              "      <td>company_type_Other</td>\n",
              "    </tr>\n",
              "    <tr>\n",
              "      <th>2</th>\n",
              "      <td>488.9120</td>\n",
              "      <td>company_type_Pvt Ltd</td>\n",
              "    </tr>\n",
              "    <tr>\n",
              "      <th>3</th>\n",
              "      <td>382.1923</td>\n",
              "      <td>años_experiencia_0-5</td>\n",
              "    </tr>\n",
              "    <tr>\n",
              "      <th>4</th>\n",
              "      <td>292.0214</td>\n",
              "      <td>relev_exp_bin</td>\n",
              "    </tr>\n",
              "    <tr>\n",
              "      <th>5</th>\n",
              "      <td>175.9425</td>\n",
              "      <td>años_experiencia_+20</td>\n",
              "    </tr>\n",
              "  </tbody>\n",
              "</table>\n",
              "</div>"
            ],
            "text/plain": [
              "       Score                  target\n",
              "0  2342.3958  city_development_index\n",
              "1   932.1820      company_type_Other\n",
              "2   488.9120    company_type_Pvt Ltd\n",
              "3   382.1923    años_experiencia_0-5\n",
              "4   292.0214           relev_exp_bin\n",
              "5   175.9425    años_experiencia_+20"
            ]
          },
          "metadata": {},
          "execution_count": 95
        }
      ]
    },
    {
      "cell_type": "code",
      "metadata": {
        "id": "8o7rO89fu58W"
      },
      "source": [
        "X=df[['city_development_index','company_type_Other','company_type_Pvt Ltd','años_experiencia_+20','años_experiencia_0-5','relev_exp_bin']]"
      ],
      "execution_count": 96,
      "outputs": []
    },
    {
      "cell_type": "code",
      "metadata": {
        "id": "XfYcQPwEvpKC"
      },
      "source": [
        "y = df['target']"
      ],
      "execution_count": 97,
      "outputs": []
    },
    {
      "cell_type": "code",
      "metadata": {
        "id": "4b5f4831-b4c7-4401-a5e2-fee680a34416"
      },
      "source": [
        "X_train, X_test, y_train, y_test = train_test_split(X,y, test_size=0.2, random_state=1, stratify=df['target'])"
      ],
      "execution_count": 98,
      "outputs": []
    },
    {
      "cell_type": "code",
      "metadata": {
        "colab": {
          "base_uri": "https://localhost:8080/"
        },
        "id": "26c943a4-54aa-40c9-bd9a-614118983e9c",
        "outputId": "3808fbb4-a000-449e-b760-8cfeb32ba4e1"
      },
      "source": [
        "y_train.value_counts()"
      ],
      "execution_count": 99,
      "outputs": [
        {
          "output_type": "execute_result",
          "data": {
            "text/plain": [
              "0.0    11213\n",
              "1.0     3605\n",
              "Name: target, dtype: int64"
            ]
          },
          "metadata": {},
          "execution_count": 99
        }
      ]
    },
    {
      "cell_type": "code",
      "metadata": {
        "id": "GQZaPZ3QwGNy"
      },
      "source": [
        "from imblearn.over_sampling import SMOTE \n"
      ],
      "execution_count": 101,
      "outputs": []
    },
    {
      "cell_type": "code",
      "metadata": {
        "id": "9f646d0b-38ec-4cdf-8d5d-69f14daf6e1d"
      },
      "source": [
        "sm = SMOTE(random_state=42)\n",
        "X_res, y_res = sm.fit_resample(X_train, y_train)"
      ],
      "execution_count": 102,
      "outputs": []
    },
    {
      "cell_type": "code",
      "metadata": {
        "colab": {
          "base_uri": "https://localhost:8080/"
        },
        "id": "kCjjT-McwToY",
        "outputId": "45640dff-1189-4e18-de62-27d93eb26c30"
      },
      "source": [
        "y_res.value_counts()"
      ],
      "execution_count": 103,
      "outputs": [
        {
          "output_type": "execute_result",
          "data": {
            "text/plain": [
              "1.0    11213\n",
              "0.0    11213\n",
              "Name: target, dtype: int64"
            ]
          },
          "metadata": {},
          "execution_count": 103
        }
      ]
    },
    {
      "cell_type": "code",
      "metadata": {
        "id": "8272cb32-b6f4-4989-928e-c95e90b8b8e1"
      },
      "source": [
        "from sklearn.pipeline import make_pipeline\n",
        "from sklearn.preprocessing import StandardScaler\n",
        "from sklearn.ensemble import RandomForestClassifier\n",
        "from sklearn.ensemble import GradientBoostingClassifier\n",
        "from sklearn.linear_model import LogisticRegression\n",
        "from sklearn.tree import DecisionTreeClassifier\n",
        "from sklearn.neighbors import KNeighborsClassifier\n",
        "from sklearn.svm import SVC\n",
        "from sklearn.model_selection import GridSearchCV\n",
        "from sklearn.model_selection import StratifiedKFold\n",
        "from sklearn.ensemble import VotingClassifier"
      ],
      "execution_count": 104,
      "outputs": []
    },
    {
      "cell_type": "code",
      "metadata": {
        "id": "8662ec58-47e6-48e3-8a30-b5691798a54a"
      },
      "source": [
        "cv = StratifiedKFold(n_splits=10, shuffle = True, random_state=42)"
      ],
      "execution_count": 105,
      "outputs": []
    },
    {
      "cell_type": "code",
      "metadata": {
        "id": "0584ccf0-f90f-411a-a85c-2b1baf0b1f71"
      },
      "source": [
        "pipelines = {\n",
        "    'rf': make_pipeline(RandomForestClassifier(random_state=42)),\n",
        "    'gb': make_pipeline(GradientBoostingClassifier(random_state=42)),\n",
        "    'l1': make_pipeline(StandardScaler(), LogisticRegression(penalty='l1', random_state= 1,solver='liblinear')),\n",
        "    'l2': make_pipeline(StandardScaler(), LogisticRegression(penalty='l2', random_state= 1,solver='liblinear')),\n",
        "    'dt': make_pipeline(DecisionTreeClassifier(random_state=42)),\n",
        "    'knn': make_pipeline(StandardScaler(), KNeighborsClassifier()),\n",
        "    'svc':make_pipeline(StandardScaler(),SVC(random_state=42))\n",
        "}"
      ],
      "execution_count": 106,
      "outputs": []
    },
    {
      "cell_type": "code",
      "metadata": {
        "colab": {
          "base_uri": "https://localhost:8080/"
        },
        "id": "22be74df-3f0c-4f91-a3f1-3aff778b87c5",
        "outputId": "c3b5659d-661e-4418-f93e-c33e195b932c"
      },
      "source": [
        "for key, value in pipelines.items():\n",
        "    print(key, type(value))"
      ],
      "execution_count": 107,
      "outputs": [
        {
          "output_type": "stream",
          "name": "stdout",
          "text": [
            "rf <class 'sklearn.pipeline.Pipeline'>\n",
            "gb <class 'sklearn.pipeline.Pipeline'>\n",
            "l1 <class 'sklearn.pipeline.Pipeline'>\n",
            "l2 <class 'sklearn.pipeline.Pipeline'>\n",
            "dt <class 'sklearn.pipeline.Pipeline'>\n",
            "knn <class 'sklearn.pipeline.Pipeline'>\n",
            "svc <class 'sklearn.pipeline.Pipeline'>\n"
          ]
        }
      ]
    },
    {
      "cell_type": "code",
      "metadata": {
        "id": "4b7c52be-5fc4-484e-84fe-f8f421200ed2"
      },
      "source": [
        "rf_hyperparameters = {\n",
        "    'randomforestclassifier__criterion':['entropy','gini'],\n",
        "    'randomforestclassifier__n_estimators': [100, 200, 300],\n",
        "    'randomforestclassifier__max_features': ['auto', 0.3, 0.6],\n",
        "    'randomforestclassifier__min_samples_split':[2,3,10],\n",
        "    'randomforestclassifier__min_samples_leaf':[1,3,10],\n",
        "    'randomforestclassifier__bootstrap':[True, False]\n",
        "}\n",
        "\n",
        "gb_hyperparameters = {\n",
        "    'gradientboostingclassifier__n_estimators':[100, 500, 100],\n",
        "    'gradientboostingclassifier__learning_rate': [0.001,0.01,0.1,0.05],\n",
        "    'gradientboostingclassifier__max_depth':[3, 5, 10]\n",
        "}\n",
        "\n",
        "l1_hyperparameters = {\n",
        "    'logisticregression__C': np.logspace(-3,3,7)\n",
        "}\n",
        "l2_hyperparameters = {\n",
        "    'logisticregression__C': np.logspace(-3,3,7)\n",
        "}\n",
        "dt_hyperparameters = {\n",
        "    \"decisiontreeclassifier__max_depth\" : [1,3,5,7],\n",
        "    'decisiontreeclassifier__criterion':['entropy','gini'],\n",
        "    'decisiontreeclassifier__splitter':['best']\n",
        "}\n",
        "\n",
        "knn_hyperparameters = {\n",
        "    \"kneighborsclassifier__n_neighbors\": np.arange(1,50),\n",
        "    \"kneighborsclassifier__weights\": [\"uniform\",\"distance\"]\n",
        "}\n",
        "svc_hyperparameters = {\n",
        "    'svc__C': [1.0,], \n",
        "    'svc__kernel': ['rbf',], \n",
        "    'svc__degree': [2,], \n",
        "    'svc__gamma' : [1.0,], \n",
        "    'svc__shrinking':[True,], \n",
        "    'svc__probability':[True,],\n",
        "    'svc__tol': [0.001,],\n",
        "    'svc__cache_size':[200,]\n",
        "}\n"
      ],
      "execution_count": 108,
      "outputs": []
    },
    {
      "cell_type": "code",
      "metadata": {
        "id": "dbeac5d2-0b9c-42cc-aacc-f7285adb2fba"
      },
      "source": [
        "hyperparameter_grids = {\n",
        "    'rf': rf_hyperparameters,\n",
        "    'gb': gb_hyperparameters,\n",
        "    'l1':l1_hyperparameters,\n",
        "    'l2':l2_hyperparameters,\n",
        "    'dt':dt_hyperparameters,\n",
        "    'knn': knn_hyperparameters,\n",
        "    'svc':svc_hyperparameters\n",
        "}"
      ],
      "execution_count": 109,
      "outputs": []
    },
    {
      "cell_type": "code",
      "metadata": {
        "colab": {
          "base_uri": "https://localhost:8080/"
        },
        "id": "a28f32de-9faa-4321-b37f-d15898a8c20a",
        "outputId": "00e7d33b-ccb3-4c79-a9fc-e206dc4326c6"
      },
      "source": [
        "for key in ['rf', 'gb', 'l1', 'l2', 'dt', 'knn', 'svc']:\n",
        "    if key in hyperparameter_grids:\n",
        "        if type(hyperparameter_grids[key]) is dict:\n",
        "            print( key, 'was found, and it is a grid.' )\n",
        "        else:\n",
        "            print( key, 'was found, but it is not a grid.' )\n",
        "    else:\n",
        "        print( key, 'was not found')"
      ],
      "execution_count": 110,
      "outputs": [
        {
          "output_type": "stream",
          "name": "stdout",
          "text": [
            "rf was found, and it is a grid.\n",
            "gb was found, and it is a grid.\n",
            "l1 was found, and it is a grid.\n",
            "l2 was found, and it is a grid.\n",
            "dt was found, and it is a grid.\n",
            "knn was found, and it is a grid.\n",
            "svc was found, and it is a grid.\n"
          ]
        }
      ]
    },
    {
      "cell_type": "code",
      "metadata": {
        "colab": {
          "base_uri": "https://localhost:8080/"
        },
        "id": "72483efe-ded7-4014-8d25-df5a8ca630a2",
        "outputId": "03f5e60c-bced-4086-e5c4-5d8ee3cc4824"
      },
      "source": [
        "models = {}\n",
        "\n",
        "for key in pipelines.keys():\n",
        "    models[key]= GridSearchCV(pipelines[key], hyperparameter_grids[key], cv=cv, scoring = 'roc_auc',\n",
        "                             n_jobs= -1,\n",
        "                             verbose = 1)\n",
        "    \n",
        "models.keys()"
      ],
      "execution_count": 111,
      "outputs": [
        {
          "output_type": "execute_result",
          "data": {
            "text/plain": [
              "dict_keys(['rf', 'gb', 'l1', 'l2', 'dt', 'knn', 'svc'])"
            ]
          },
          "metadata": {},
          "execution_count": 111
        }
      ]
    },
    {
      "cell_type": "code",
      "metadata": {
        "colab": {
          "base_uri": "https://localhost:8080/"
        },
        "id": "95349d7a-951e-46f8-9897-97c859a10e86",
        "outputId": "870280fa-7fda-41d4-beaa-dd5593f7d4fe"
      },
      "source": [
        "best_estimators = []\n",
        "\n",
        "for key in models.keys():\n",
        "    clf = models[key].fit(X_res,y_res)\n",
        "    best_estimators.append(clf.best_estimator_)\n",
        "    print(key, \"is trained and tuned\")\n",
        "    print('Method: {} Best: {}' .format(key,clf.best_estimator_))"
      ],
      "execution_count": null,
      "outputs": [
        {
          "output_type": "stream",
          "name": "stdout",
          "text": [
            "Fitting 10 folds for each of 324 candidates, totalling 3240 fits\n"
          ]
        }
      ]
    },
    {
      "cell_type": "code",
      "metadata": {
        "id": "bdd2d052-883e-4622-aab5-4d331d2b2703"
      },
      "source": [
        "from sklearn.metrics import accuracy_score, auc, f1_score, precision_score, recall_score,\\\n",
        "                            roc_auc_score, roc_curve, precision_recall_curve, confusion_matrix"
      ],
      "execution_count": null,
      "outputs": []
    },
    {
      "cell_type": "code",
      "metadata": {
        "id": "d7e121be-0a13-4fcb-b628-5c648f8ca797"
      },
      "source": [
        "for key in models.keys() :\n",
        "    pred = models[key].predict(X_test)\n",
        "    fpr, tpr, thresholds = roc_curve(y_test, pred)\n",
        "    print(key)\n",
        "    print('AUROC =', round(auc(fpr, tpr), 4))\n",
        "    print('---')"
      ],
      "execution_count": null,
      "outputs": []
    },
    {
      "cell_type": "code",
      "metadata": {
        "id": "9805dc77-49c2-422e-97e5-4b3b993ab919"
      },
      "source": [
        "voting_c = VotingClassifier(estimators=[('rf',best_estimators[0]),\n",
        "                                        ('gb',best_estimators[1]),\n",
        "                                        ('l1',best_estimators[2]),\n",
        "                                        ('l2',best_estimators[3]),\n",
        "                                        ('dt',best_estimators[4]),\n",
        "                                        ('knn', best_estimators[5]),\n",
        "                                        ('svc', best_estimators[6])\n",
        "                                       ],\n",
        "                           voting='soft',\n",
        "                           n_jobs=-1)\n",
        "print(voting_c)"
      ],
      "execution_count": null,
      "outputs": []
    },
    {
      "cell_type": "code",
      "metadata": {
        "colab": {
          "base_uri": "https://localhost:8080/"
        },
        "id": "37ba4737-4585-4d16-9a5a-11f9a13d2c4f",
        "outputId": "b60f67da-d2cd-4808-8c02-557d9b33f472"
      },
      "source": [
        "voting_c = voting_c.fit(X_res,y_res)\n",
        "print(\"Score del modelo (accuracy):\", round(voting_c.score(X_test, y_test), 3))\n",
        "print(\"Accuracy score:\", round(accuracy_score(voting_c.predict(X_test), y_test), 3))\n",
        "print(\"Recall score:\", round(recall_score(voting_c.predict(X_test), y_test), 3))\n",
        "print(\"Precision score:\", round(precision_score(voting_c.predict(X_test), y_test), 3))\n",
        "print(\"F1 score:\", round(f1_score(voting_c.predict(X_test), y_test), 3))\n",
        "print(\"AUC:\", round(roc_auc_score(voting_c.predict(X_test), y_test), 3))"
      ],
      "execution_count": null,
      "outputs": [
        {
          "output_type": "stream",
          "name": "stderr",
          "text": [
            "/usr/local/lib/python3.7/dist-packages/joblib/externals/loky/process_executor.py:705: UserWarning: A worker stopped while some jobs were given to the executor. This can be caused by a too short worker timeout or by a memory leak.\n",
            "  \"timeout or by a memory leak.\", UserWarning\n"
          ]
        },
        {
          "output_type": "stream",
          "name": "stdout",
          "text": [
            "Score del modelo (accuracy): 0.733\n",
            "Accuracy score: 0.733\n",
            "Recall score: 0.47\n",
            "Precision score: 0.554\n",
            "F1 score: 0.508\n",
            "AUC: 0.656\n"
          ]
        }
      ]
    },
    {
      "cell_type": "code",
      "metadata": {
        "colab": {
          "base_uri": "https://localhost:8080/",
          "height": 285
        },
        "id": "c08e26f7-e76d-4540-9bdc-53beaf038ee8",
        "outputId": "ab752de6-65f0-43a9-a631-fc80889c19de"
      },
      "source": [
        "c_matrix = confusion_matrix(y_test, voting_c.predict(X_test))\n",
        "sns.heatmap(c_matrix, annot=True)"
      ],
      "execution_count": null,
      "outputs": [
        {
          "output_type": "execute_result",
          "data": {
            "text/plain": [
              "<matplotlib.axes._subplots.AxesSubplot at 0x7f29f39e19d0>"
            ]
          },
          "metadata": {},
          "execution_count": 58
        },
        {
          "output_type": "display_data",
          "data": {
            "image/png": "[encoded data removed]",
            "text/plain": [
              "<Figure size 432x288 with 2 Axes>"
            ]
          },
          "metadata": {
            "needs_background": "light"
          }
        }
      ]
    },
    {
      "cell_type": "code",
      "metadata": {
        "colab": {
          "base_uri": "https://localhost:8080/",
          "height": 265
        },
        "id": "1cab1bd4-1852-4102-938d-845390144258",
        "outputId": "e19c2186-cd09-4206-da76-89ad3bc60776"
      },
      "source": [
        "sns.heatmap(c_matrix/np.sum(c_matrix), annot=True, \n",
        "            fmt='.2%', cmap='Blues');"
      ],
      "execution_count": null,
      "outputs": [
        {
          "output_type": "display_data",
          "data": {
            "image/png": "[encoded data removed]",
            "text/plain": [
              "<Figure size 432x288 with 2 Axes>"
            ]
          },
          "metadata": {
            "needs_background": "light"
          }
        }
      ]
    }
  ]
}